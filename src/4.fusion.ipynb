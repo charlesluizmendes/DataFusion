{
 "cells": [
  {
   "cell_type": "markdown",
   "id": "2d33f923",
   "metadata": {},
   "source": [
    "### Imports"
   ]
  },
  {
   "cell_type": "code",
   "execution_count": null,
   "id": "57301dc5",
   "metadata": {},
   "outputs": [],
   "source": [
    "import os\n",
    "import numpy as np\n",
    "import pandas as pd"
   ]
  },
  {
   "cell_type": "markdown",
   "id": "f50112bf",
   "metadata": {},
   "source": [
    "### Inputs"
   ]
  },
  {
   "cell_type": "code",
   "execution_count": 29,
   "id": "46ca6451",
   "metadata": {},
   "outputs": [],
   "source": [
    "radnet_input_df = pd.read_csv(\"../inputs/radnet_input.csv\")\n",
    "radnet_input_apmr_edge = radnet_input_df['apmr_edge'].values\n",
    "radnet_input_mfsr_edge = radnet_input_df['mfsr_edge'].values\n",
    "radnet_input_idg_global = radnet_input_df['idg_global'].iloc[0]"
   ]
  },
  {
   "cell_type": "code",
   "execution_count": 30,
   "id": "d34210ad",
   "metadata": {},
   "outputs": [],
   "source": [
    "inference_output_df = pd.read_csv(\"../outputs/inference_output.csv\")\n",
    "inference_output_class = inference_output_df['class'].values\n",
    "inference_output_confidence = inference_output_df['confidence'].values"
   ]
  },
  {
   "cell_type": "code",
   "execution_count": 31,
   "id": "231f6b80",
   "metadata": {},
   "outputs": [],
   "source": [
    "edges_input_df = pd.read_csv(\"../inputs/edges_input.csv\")\n",
    "edges_input = edges_input_df.values.tolist()"
   ]
  },
  {
   "cell_type": "markdown",
   "id": "ac73c272",
   "metadata": {},
   "source": [
    "### Fusion"
   ]
  },
  {
   "cell_type": "code",
   "execution_count": 51,
   "id": "fa1e20b6",
   "metadata": {},
   "outputs": [],
   "source": [
    "w_ml, w_ap, w_mf, w_ig = 0.50, 0.20, 0.20, 0.10\n",
    "conf = (w_ml*inference_output_confidence + w_ap*radnet_input_apmr_edge + w_mf*radnet_input_mfsr_edge + w_ig*radnet_input_idg_global)"
   ]
  },
  {
   "cell_type": "code",
   "execution_count": null,
   "id": "8d3d10da",
   "metadata": {},
   "outputs": [],
   "source": [
    "tau = 0.8\n",
    "cls = (conf >= tau).astype(int)\n",
    "\n",
    "CLASS_NAMES = {0: \"Ruim\", 1: \"Bom\"}"
   ]
  },
  {
   "cell_type": "code",
   "execution_count": null,
   "id": "5d44c671",
   "metadata": {},
   "outputs": [
    {
     "name": "stdout",
     "output_type": "stream",
     "text": [
      "RSSI   ETX   Delay  Busy   Classe   Status   Confiança \n",
      "-------------------------------------------------------\n",
      "-55    2.0   17     0.30   1        Bom      0.86      \n",
      "-85    3.8   30     0.10   0        Ruim     0.63      \n",
      "-35    1.2   5      0.05   1        Bom      0.87      \n",
      "-88    9.5   95     0.90   1        Bom      0.88      \n",
      "-40    8.2   85     0.80   1        Bom      0.88      \n",
      "-87    1.5   8      0.15   1        Bom      0.82      \n",
      "-62    2.8   32     0.28   1        Bom      0.85      \n",
      "-58    3.2   28     0.32   1        Bom      0.86      \n",
      "-52    2.1   20     0.25   1        Bom      0.89      \n",
      "-48    2.5   25     0.22   1        Bom      0.89      \n",
      "-50    1.8   22     0.28   1        Bom      0.89      \n",
      "-75    5.2   65     0.60   1        Bom      0.89      \n",
      "-78    4.8   70     0.65   1        Bom      0.88      \n",
      "-72    5.5   60     0.58   1        Bom      0.88      \n",
      "-45    4.5   15     0.70   0        Ruim     0.70      \n",
      "-70    1.9   45     0.20   1        Bom      0.81      \n",
      "-60    2.9   30     0.30   1        Bom      0.83      \n",
      "-65    2.2   18     0.25   1        Bom      0.84      \n",
      "-50    3.5   35     0.35   1        Bom      0.82      \n",
      "-32    1.1   3      0.02   1        Bom      0.84      \n",
      "-90    9.8   98     0.95   1        Bom      0.84      \n",
      "-38    1.3   7      0.08   1        Bom      0.83      \n",
      "-86    8.5   88     0.85   1        Bom      0.82      \n",
      "-42    1.6   12     0.12   1        Bom      0.81      \n",
      "-33    7.2   75     0.80   1        Bom      0.80      \n",
      "-82    1.2   8      0.10   0        Ruim     0.78      \n",
      "-75    8.1   5      0.85   0        Ruim     0.79      \n",
      "-68    6.5   85     0.05   0        Ruim     0.75      \n",
      "-89    2.1   18     0.15   0        Ruim     0.61      \n",
      "-45    9.2   22     0.20   0        Ruim     0.67      \n",
      "-52    2.3   95     0.25   0        Ruim     0.53      \n",
      "-48    2.0   20     0.88   0        Ruim     0.67      \n",
      "-59    3.0   29     0.29   0        Ruim     0.74      \n",
      "-61    2.9   31     0.31   0        Ruim     0.72      \n",
      "-60    3.0   30     0.30   0        Ruim     0.72      \n",
      "-60    3.0   30     0.29   0        Ruim     0.73      \n",
      "-67    4.2   45     0.50   0        Ruim     0.74      \n",
      "-64    3.8   42     0.48   0        Ruim     0.69      \n",
      "-69    4.5   48     0.52   0        Ruim     0.76      \n",
      "-66    4.0   40     0.45   0        Ruim     0.70      \n",
      "-54    1.9   16     0.28   0        Ruim     0.78      \n",
      "-56    2.2   19     0.26   0        Ruim     0.78      \n",
      "-51    1.7   21     0.24   0        Ruim     0.79      \n",
      "-49    2.4   18     0.27   1        Bom      0.80      \n",
      "-53    2.0   23     0.29   1        Bom      0.81      \n",
      "-76    5.8   67     0.63   1        Bom      0.82      \n",
      "-74    5.1   62     0.59   1        Bom      0.83      \n",
      "-77    6.2   72     0.68   1        Bom      0.84      \n",
      "-73    5.5   58     0.56   1        Bom      0.84      \n",
      "-79    5.9   75     0.71   1        Bom      0.85      \n",
      "-55    1.8   35     0.60   0        Ruim     0.64      \n",
      "-45    4.2   25     0.70   0        Ruim     0.72      \n",
      "-65    2.5   18     0.55   0        Ruim     0.62      \n",
      "-58    3.8   28     0.80   1        Bom      0.86      \n",
      "-41    5.0   50     0.50   0        Ruim     0.64      \n",
      "-80    2.0   20     0.20   0        Ruim     0.80      \n",
      "-60    6.0   60     0.60   1        Bom      0.88      \n",
      "-50    2.5   25     0.25   1        Bom      0.89      \n",
      "-57    2.8   28     0.28   1        Bom      0.87      \n",
      "-63    3.2   32     0.32   1        Bom      0.81      \n",
      "-58    2.9   31     0.29   1        Bom      0.87      \n",
      "-62    3.1   29     0.31   1        Bom      0.84      \n",
      "-30    1.0   1      0.01   1        Bom      0.88      \n",
      "-90    10.0  100    1.00   1        Bom      0.88      \n",
      "-31    1.5   10     0.05   1        Bom      0.88      \n",
      "-89    9.0   90     0.90   1        Bom      0.87      \n",
      "-44    7.5   12     0.15   1        Bom      0.86      \n",
      "-83    1.8   78     0.75   1        Bom      0.86      \n",
      "-38    6.8   8      0.82   1        Bom      0.83      \n",
      "-71    1.4   55     0.18   0        Ruim     0.77      \n"
     ]
    }
   ],
   "source": [
    "print(f\"{'RSSI':<6} {'ETX':<5} {'Delay':<6} {'Busy':<6} {'Classe':<8} {'Status':<8} {'Confiança':<10}\")\n",
    "print(f\"{'-'*55}\")\n",
    "\n",
    "for i, row in enumerate(edges_input):\n",
    "    print(f\"{row[0]:<6.0f} {row[1]:<5.1f} {row[2]:<6.0f} {row[3]:<6.2f} \"\n",
    "          f\"{cls[i]:<8} {CLASS_NAMES[cls[i]]:<8} {conf[i]:<10.2f}\")"
   ]
  },
  {
   "cell_type": "markdown",
   "id": "ad2629e8",
   "metadata": {},
   "source": [
    "### Save"
   ]
  },
  {
   "cell_type": "code",
   "execution_count": 75,
   "id": "f9257d18",
   "metadata": {},
   "outputs": [
    {
     "name": "stdout",
     "output_type": "stream",
     "text": [
      "Fusão de Dados salva em ../outputs/fusion_output.csv\n"
     ]
    }
   ],
   "source": [
    "fusion_output = pd.DataFrame({\n",
    "    'class': cls,\n",
    "    'confidence': conf\n",
    "})\n",
    "\n",
    "os.makedirs(\"../outputs\", exist_ok=True)\n",
    "fusion_output.to_csv(\"../outputs/fusion_output.csv\", index=False)\n",
    "\n",
    "print(\"Fusão de Dados salva em ../outputs/fusion_output.csv\")"
   ]
  }
 ],
 "metadata": {
  "kernelspec": {
   "display_name": "venv (3.12.4)",
   "language": "python",
   "name": "python3"
  },
  "language_info": {
   "codemirror_mode": {
    "name": "ipython",
    "version": 3
   },
   "file_extension": ".py",
   "mimetype": "text/x-python",
   "name": "python",
   "nbconvert_exporter": "python",
   "pygments_lexer": "ipython3",
   "version": "3.12.4"
  }
 },
 "nbformat": 4,
 "nbformat_minor": 5
}
