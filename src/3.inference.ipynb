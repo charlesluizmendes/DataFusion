{
 "cells": [
  {
   "cell_type": "code",
   "execution_count": null,
   "id": "78efbb23",
   "metadata": {},
   "outputs": [
    {
     "name": "stdout",
     "output_type": "stream",
     "text": [
      "Aresta [-55, 2, 17, 0.3] -> Classe 1 (Bom) (confiança 0.99)\n",
      "Aresta [-85, 3.8, 70, 0.1] -> Classe 0 (Ruim) (confiança 0.99)\n"
     ]
    }
   ],
   "source": [
    "import torch\n",
    "import torch.nn as nn\n",
    "import torch.nn.functional as F\n",
    "import joblib\n",
    "\n",
    "# ====== Definir Modelo ======\n",
    "class LinkMLP(nn.Module):\n",
    "    def __init__(self, in_dim=4, hidden=16, out_dim=2):\n",
    "        super().__init__()\n",
    "        self.net = nn.Sequential(\n",
    "            nn.Linear(in_dim, hidden),\n",
    "            nn.ReLU(),\n",
    "            nn.Linear(hidden, out_dim)\n",
    "        )\n",
    "    def forward(self, x):\n",
    "        return self.net(x)\n",
    "\n",
    "# ====== Carregar modelo ======\n",
    "model = LinkMLP()\n",
    "model.load_state_dict(torch.load(\"../models/mlp.pth\", weights_only=True))  # só os pesos\n",
    "model.eval()\n",
    "\n",
    "scaler = joblib.load(\"../models/scaler.pkl\")\n",
    "\n",
    "# ====== Dados de teste ======\n",
    "test_data = [\n",
    "    [-55, 2, 17, 0.3],  # [rssi, etx, delay, busy_fraction]\n",
    "    [-85, 3.8, 70, 0.1] # [rssi, etx, delay, busy_fraction]\n",
    "]\n",
    "\n",
    "X_test = torch.tensor(scaler.transform(test_data), dtype=torch.float)\n",
    "\n",
    "# ====== Inferência ======\n",
    "with torch.no_grad():\n",
    "    logits = model(X_test)\n",
    "    probs = F.softmax(logits, dim=1)\n",
    "    preds = probs.argmax(dim=1)\n",
    "\n",
    "CLASS_NAMES = {0: \"Ruim\", 1: \"Bom\"}\n",
    "\n",
    "for i, row in enumerate(test_data):\n",
    "    cls = preds[i].item()\n",
    "    conf = probs[i, cls].item()\n",
    "    print(f\"Aresta {row} -> Classe {cls} ({CLASS_NAMES[cls]}) (confiança {conf:.2f})\")"
   ]
  }
 ],
 "metadata": {
  "kernelspec": {
   "display_name": "venv (3.12.4)",
   "language": "python",
   "name": "python3"
  },
  "language_info": {
   "codemirror_mode": {
    "name": "ipython",
    "version": 3
   },
   "file_extension": ".py",
   "mimetype": "text/x-python",
   "name": "python",
   "nbconvert_exporter": "python",
   "pygments_lexer": "ipython3",
   "version": "3.12.4"
  }
 },
 "nbformat": 4,
 "nbformat_minor": 5
}
