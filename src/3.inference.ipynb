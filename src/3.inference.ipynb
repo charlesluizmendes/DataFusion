{
 "cells": [
  {
   "cell_type": "markdown",
   "id": "1f8bfe9d",
   "metadata": {},
   "source": [
    "### Imports"
   ]
  },
  {
   "cell_type": "code",
   "execution_count": 1,
   "id": "fd5830c0",
   "metadata": {},
   "outputs": [],
   "source": [
    "import os\n",
    "import torch\n",
    "import torch.nn as nn\n",
    "import torch.nn.functional as F\n",
    "import pandas as pd\n",
    "import joblib"
   ]
  },
  {
   "cell_type": "markdown",
   "id": "8de615ab",
   "metadata": {},
   "source": [
    "### Model"
   ]
  },
  {
   "cell_type": "code",
   "execution_count": 2,
   "id": "dd1b6001",
   "metadata": {},
   "outputs": [],
   "source": [
    "class GNN(nn.Module):\n",
    "    def __init__(self, in_dim=4, hidden=16, out_dim=2):\n",
    "        super().__init__()\n",
    "        self.net = nn.Sequential(\n",
    "            nn.Linear(in_dim, hidden),\n",
    "            nn.ReLU(),\n",
    "            nn.Linear(hidden, out_dim)\n",
    "        )\n",
    "    def forward(self, x):\n",
    "        return self.net(x)"
   ]
  },
  {
   "cell_type": "markdown",
   "id": "05c08992",
   "metadata": {},
   "source": [
    "### Load Model"
   ]
  },
  {
   "cell_type": "code",
   "execution_count": 3,
   "id": "31a3717c",
   "metadata": {},
   "outputs": [],
   "source": [
    "model = GNN()\n",
    "model.load_state_dict(torch.load(\"../models/gnn_model.pth\", weights_only=True))\n",
    "model.eval()\n",
    "\n",
    "scaler = joblib.load(\"../models/scaler_model.pkl\")"
   ]
  },
  {
   "cell_type": "markdown",
   "id": "cfa809ae",
   "metadata": {},
   "source": [
    "### Inputs"
   ]
  },
  {
   "cell_type": "code",
   "execution_count": 4,
   "id": "b5cd0b26",
   "metadata": {},
   "outputs": [],
   "source": [
    "edges_input_df = pd.read_csv(\"../inputs/edges_input.csv\")\n",
    "edges_input = edges_input_df.values.tolist()\n",
    "\n",
    "X_test = torch.tensor(scaler.transform(edges_input), dtype=torch.float)"
   ]
  },
  {
   "cell_type": "markdown",
   "id": "03c0ded4",
   "metadata": {},
   "source": [
    "### Inference"
   ]
  },
  {
   "cell_type": "code",
   "execution_count": 5,
   "id": "d3ffa6b0",
   "metadata": {},
   "outputs": [],
   "source": [
    "with torch.no_grad():\n",
    "    logits = model(X_test)\n",
    "    probs = F.softmax(logits, dim=1)\n",
    "    preds = probs.argmax(dim=1)\n",
    "\n",
    "CLASS_NAMES = {0: \"Ruim\", 1: \"Bom\"}"
   ]
  },
  {
   "cell_type": "code",
   "execution_count": 6,
   "id": "3dae9bab",
   "metadata": {},
   "outputs": [
    {
     "name": "stdout",
     "output_type": "stream",
     "text": [
      "RSSI   ETX   Delay  Busy   Classe   Status   Confiança \n",
      "-------------------------------------------------------\n",
      "-55    2.0   17     0.30   1        Bom      0.99      \n",
      "-85    3.8   30     0.10   1        Bom      0.71      \n",
      "-35    1.2   5      0.05   1        Bom      1.00      \n",
      "-88    9.5   95     0.90   0        Ruim     1.00      \n",
      "-40    8.2   85     0.80   0        Ruim     1.00      \n",
      "-87    1.5   8      0.15   1        Bom      0.96      \n",
      "-62    2.8   32     0.28   1        Bom      0.95      \n",
      "-58    3.2   28     0.32   1        Bom      0.94      \n",
      "-52    2.1   20     0.25   1        Bom      0.99      \n",
      "-48    2.5   25     0.22   1        Bom      0.99      \n",
      "-50    1.8   22     0.28   1        Bom      0.99      \n",
      "-75    5.2   65     0.60   0        Ruim     1.00      \n",
      "-78    4.8   70     0.65   0        Ruim     1.00      \n",
      "-72    5.5   60     0.58   0        Ruim     1.00      \n",
      "-45    4.5   15     0.70   0        Ruim     0.52      \n",
      "-70    1.9   45     0.20   1        Bom      0.95      \n",
      "-60    2.9   30     0.30   1        Bom      0.95      \n",
      "-65    2.2   18     0.25   1        Bom      0.98      \n",
      "-50    3.5   35     0.35   1        Bom      0.94      \n",
      "-32    1.1   3      0.02   1        Bom      1.00      \n",
      "-90    9.8   98     0.95   0        Ruim     1.00      \n",
      "-38    1.3   7      0.08   1        Bom      1.00      \n",
      "-86    8.5   88     0.85   0        Ruim     1.00      \n",
      "-42    1.6   12     0.12   1        Bom      1.00      \n",
      "-33    7.2   75     0.80   0        Ruim     1.00      \n",
      "-82    1.2   8      0.10   1        Bom      0.99      \n",
      "-75    8.1   5      0.85   0        Ruim     1.00      \n",
      "-68    6.5   85     0.05   0        Ruim     0.99      \n",
      "-89    2.1   18     0.15   1        Bom      0.90      \n",
      "-45    9.2   22     0.20   0        Ruim     0.82      \n",
      "-52    2.3   95     0.25   0        Ruim     0.63      \n",
      "-48    2.0   20     0.88   0        Ruim     0.58      \n",
      "-59    3.0   29     0.29   1        Bom      0.95      \n",
      "-61    2.9   31     0.31   1        Bom      0.94      \n",
      "-60    3.0   30     0.30   1        Bom      0.94      \n",
      "-60    3.0   30     0.29   1        Bom      0.95      \n",
      "-67    4.2   45     0.50   0        Ruim     0.92      \n",
      "-64    3.8   42     0.48   0        Ruim     0.75      \n",
      "-69    4.5   48     0.52   0        Ruim     0.96      \n",
      "-66    4.0   40     0.45   0        Ruim     0.75      \n",
      "-54    1.9   16     0.28   1        Bom      0.99      \n",
      "-56    2.2   19     0.26   1        Bom      0.99      \n",
      "-51    1.7   21     0.24   1        Bom      1.00      \n",
      "-49    2.4   18     0.27   1        Bom      0.99      \n",
      "-53    2.0   23     0.29   1        Bom      0.99      \n",
      "-76    5.8   67     0.63   0        Ruim     1.00      \n",
      "-74    5.1   62     0.59   0        Ruim     1.00      \n",
      "-77    6.2   72     0.68   0        Ruim     1.00      \n",
      "-73    5.5   58     0.56   0        Ruim     0.99      \n",
      "-79    5.9   75     0.71   0        Ruim     1.00      \n",
      "-55    1.8   35     0.60   1        Bom      0.78      \n",
      "-45    4.2   25     0.70   0        Ruim     0.57      \n",
      "-65    2.5   18     0.55   1        Bom      0.69      \n",
      "-58    3.8   28     0.80   0        Ruim     0.89      \n",
      "-41    5.0   50     0.50   0        Ruim     0.60      \n",
      "-80    2.0   20     0.20   1        Bom      0.94      \n",
      "-60    6.0   60     0.60   0        Ruim     0.99      \n",
      "-50    2.5   25     0.25   1        Bom      0.99      \n",
      "-57    2.8   28     0.28   1        Bom      0.97      \n",
      "-63    3.2   32     0.32   1        Bom      0.90      \n",
      "-58    2.9   31     0.29   1        Bom      0.96      \n",
      "-62    3.1   29     0.31   1        Bom      0.93      \n",
      "-30    1.0   1      0.01   1        Bom      1.00      \n",
      "-90    10.0  100    1.00   0        Ruim     1.00      \n",
      "-31    1.5   10     0.05   1        Bom      1.00      \n",
      "-89    9.0   90     0.90   0        Ruim     1.00      \n",
      "-44    7.5   12     0.15   1        Bom      0.86      \n",
      "-83    1.8   78     0.75   0        Ruim     1.00      \n",
      "-38    6.8   8      0.82   0        Ruim     0.83      \n",
      "-71    1.4   55     0.18   1        Bom      0.93      \n"
     ]
    }
   ],
   "source": [
    "print(f\"{'RSSI':<6} {'ETX':<5} {'Delay':<6} {'Busy':<6} {'Classe':<8} {'Status':<8} {'Confiança':<10}\")\n",
    "print(f\"{'-'*55}\")\n",
    "\n",
    "for i, row in enumerate(edges_input):\n",
    "    cls = preds[i].item()\n",
    "    conf = probs[i, cls].item()\n",
    "    print(f\"{row[0]:<6.0f} {row[1]:<5.1f} {row[2]:<6.0f} {row[3]:<6.2f} \"\n",
    "          f\"{cls:<8} {CLASS_NAMES[cls]:<8} {conf:<10.2f}\")"
   ]
  },
  {
   "cell_type": "markdown",
   "id": "e1880a9b",
   "metadata": {},
   "source": [
    "### Save"
   ]
  },
  {
   "cell_type": "code",
   "execution_count": 7,
   "id": "78efbb23",
   "metadata": {},
   "outputs": [
    {
     "name": "stdout",
     "output_type": "stream",
     "text": [
      "Inferência salva em ../outputs/inference_output.csv\n"
     ]
    }
   ],
   "source": [
    "inference_output = pd.DataFrame({\n",
    "    'class': preds.numpy(),\n",
    "    'confidence': torch.max(probs, dim=1)[0].numpy()\n",
    "})\n",
    "\n",
    "os.makedirs(\"../outputs\", exist_ok=True)\n",
    "inference_output.to_csv(\"../outputs/inference_output.csv\", index=False)\n",
    "\n",
    "print(\"Inferência salva em ../outputs/inference_output.csv\")"
   ]
  }
 ],
 "metadata": {
  "kernelspec": {
   "display_name": "venv (3.12.4)",
   "language": "python",
   "name": "python3"
  },
  "language_info": {
   "codemirror_mode": {
    "name": "ipython",
    "version": 3
   },
   "file_extension": ".py",
   "mimetype": "text/x-python",
   "name": "python",
   "nbconvert_exporter": "python",
   "pygments_lexer": "ipython3",
   "version": "3.12.4"
  }
 },
 "nbformat": 4,
 "nbformat_minor": 5
}
