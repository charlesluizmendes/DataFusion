{
 "cells": [
  {
   "cell_type": "markdown",
   "id": "6fb17196",
   "metadata": {},
   "source": [
    "## Pacotes"
   ]
  },
  {
   "cell_type": "code",
   "execution_count": 1,
   "id": "059607fc",
   "metadata": {},
   "outputs": [],
   "source": [
    "import numpy as np"
   ]
  },
  {
   "cell_type": "markdown",
   "id": "67022aa0",
   "metadata": {},
   "source": [
    "## Kalman Fusion"
   ]
  },
  {
   "cell_type": "code",
   "execution_count": 2,
   "id": "3ed83233",
   "metadata": {},
   "outputs": [],
   "source": [
    "import numpy as np\n",
    "\n",
    "class KalmanFusion3C:\n",
    "    def __init__(self, Q=0.01, R=0.1, weights=(0.0, 0.5, 1.0)):\n",
    "        \"\"\"\n",
    "        Filtro de Kalman 1D para fusão de probabilidade de 3 classes + heurísticas.\n",
    "\n",
    "        Args:\n",
    "            Q: variância do processo (incerteza do modelo GNN)\n",
    "            R: variância da medida (incerteza dos estimadores heurísticos)\n",
    "            weights: tupla de pesos para converter (baixa, media, alta) em score contínuo\n",
    "                     padrão = (0, 0.5, 1)\n",
    "        \"\"\"\n",
    "        self.Q = Q\n",
    "        self.R = R\n",
    "        self.weights = weights\n",
    "        self.x = None  # estado estimado (score fundido)\n",
    "        self.P = 1.0   # covariância inicial\n",
    "\n",
    "    def _probs_to_score(self, probs):\n",
    "        \"\"\"\n",
    "        Converte dict {'baixa':p1,'media':p2,'alta':p3} em score contínuo [0,1].\n",
    "        \"\"\"\n",
    "        w_baixa, w_media, w_alta = self.weights\n",
    "        return (\n",
    "            w_baixa * probs.get(\"baixa\", 0.0) +\n",
    "            w_media * probs.get(\"media\", 0.0) +\n",
    "            w_alta  * probs.get(\"alta\", 0.0)\n",
    "        )\n",
    "\n",
    "    def update(self, probs_dict, heuristics_cost):\n",
    "        \"\"\"\n",
    "        Atualiza o estado do filtro.\n",
    "\n",
    "        Args:\n",
    "            probs_dict: dict com {'baixa':p1,'media':p2,'alta':p3}\n",
    "            heuristics_cost: custo heurístico normalizado em [0,1]\n",
    "        \n",
    "        Returns:\n",
    "            valor fundido (score entre 0 e 1)\n",
    "        \"\"\"\n",
    "        # Converte as probabilidades em score\n",
    "        model_score = self._probs_to_score(probs_dict)\n",
    "\n",
    "        # Predição\n",
    "        if self.x is None:\n",
    "            self.x = model_score\n",
    "        x_pred = self.x\n",
    "        P_pred = self.P + self.Q\n",
    "\n",
    "        # Medida\n",
    "        z = heuristics_cost\n",
    "\n",
    "        # Ganho de Kalman\n",
    "        K = P_pred / (P_pred + self.R)\n",
    "\n",
    "        # Atualização do estado\n",
    "        self.x = x_pred + K * (z - x_pred)\n",
    "\n",
    "        # Atualização da incerteza\n",
    "        self.P = (1 - K) * P_pred\n",
    "\n",
    "        return self.x\n",
    "\n",
    "    def fused_cost(self):\n",
    "        \"\"\"\n",
    "        Retorna o custo final (transforma score em custo aditivo).\n",
    "        \"\"\"\n",
    "        return -np.log(self.x + 1e-6)"
   ]
  },
  {
   "cell_type": "markdown",
   "id": "dd95291f",
   "metadata": {},
   "source": [
    "## Execução"
   ]
  },
  {
   "cell_type": "code",
   "execution_count": 3,
   "id": "0b2b91d9",
   "metadata": {},
   "outputs": [],
   "source": [
    "# Saída do modelo\n",
    "probs = {'baixa': 0.163, 'media': 0.307, 'alta': 0.529}\n",
    "\n",
    "# Exemplo de custo heurístico normalizado (RSSI/ETX/Delay/Perda)\n",
    "heuristics_cost = 0.35\n",
    "\n",
    "# Instancia filtro\n",
    "kf = KalmanFusion3C(Q=0.01, R=0.05)\n",
    "\n",
    "# Atualiza com dados\n",
    "fused_value = kf.update(probs, heuristics_cost)\n",
    "fused_cost = kf.fused_cost()"
   ]
  },
  {
   "cell_type": "code",
   "execution_count": 4,
   "id": "b5c4b0e5",
   "metadata": {},
   "outputs": [
    {
     "name": "stdout",
     "output_type": "stream",
     "text": [
      "Score fundido (Kalman): 0.3656839622641509\n",
      "Custo final: 1.0059830750874976\n"
     ]
    }
   ],
   "source": [
    "print(\"Score fundido (Kalman):\", fused_value)\n",
    "print(\"Custo final:\", fused_cost)"
   ]
  }
 ],
 "metadata": {
  "kernelspec": {
   "display_name": "venv (3.12.4)",
   "language": "python",
   "name": "python3"
  },
  "language_info": {
   "codemirror_mode": {
    "name": "ipython",
    "version": 3
   },
   "file_extension": ".py",
   "mimetype": "text/x-python",
   "name": "python",
   "nbconvert_exporter": "python",
   "pygments_lexer": "ipython3",
   "version": "3.12.4"
  }
 },
 "nbformat": 4,
 "nbformat_minor": 5
}
