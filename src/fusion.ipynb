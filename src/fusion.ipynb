{
 "cells": [
  {
   "cell_type": "markdown",
   "id": "6fb17196",
   "metadata": {},
   "source": [
    "## Pacotes"
   ]
  },
  {
   "cell_type": "code",
   "execution_count": 5,
   "id": "059607fc",
   "metadata": {},
   "outputs": [],
   "source": [
    "import numpy as np"
   ]
  },
  {
   "cell_type": "markdown",
   "id": "67022aa0",
   "metadata": {},
   "source": [
    "## Kalman Fusion"
   ]
  },
  {
   "cell_type": "code",
   "execution_count": 6,
   "id": "3ed83233",
   "metadata": {},
   "outputs": [],
   "source": [
    "class KalmanFusion:\n",
    "    def __init__(self, Q=0.01, R=0.1):\n",
    "        \"\"\"\n",
    "        Q: variância do processo (incerteza do modelo GNN)\n",
    "        R: variância da medida (incerteza dos estimadores heurísticos)\n",
    "        \"\"\"\n",
    "        self.Q = Q  # Ruído do processo\n",
    "        self.R = R  # Ruído da medida\n",
    "        self.x = None  # Estado estimado (probabilidade/custo fundido)\n",
    "        self.P = 1.0  # Covariância inicial\n",
    "\n",
    "    def update(self, model_prob, heuristics_cost):\n",
    "        \"\"\"\n",
    "        model_prob: saída do modelo (probabilidade do GNN [0-1])\n",
    "        heuristics_cost: custo heurístico (normalizado entre 0-1)\n",
    "        \"\"\"\n",
    "        # Previsão\n",
    "        if self.x is None:\n",
    "            self.x = model_prob  # Inicializa com o modelo\n",
    "        x_pred = self.x\n",
    "        P_pred = self.P + self.Q\n",
    "\n",
    "        # Medida\n",
    "        z = heuristics_cost\n",
    "\n",
    "        # Ganho de Kalman\n",
    "        K = P_pred / (P_pred + self.R)\n",
    "\n",
    "        # Atualização do estado\n",
    "        self.x = x_pred + K * (z - x_pred)\n",
    "\n",
    "        # Atualização da incerteza\n",
    "        self.P = (1 - K) * P_pred\n",
    "\n",
    "        return self.x"
   ]
  },
  {
   "cell_type": "markdown",
   "id": "dd95291f",
   "metadata": {},
   "source": [
    "## Execução"
   ]
  },
  {
   "cell_type": "code",
   "execution_count": 7,
   "id": "0b2b91d9",
   "metadata": {},
   "outputs": [],
   "source": [
    "# Probabilidade do modelo (sua saída de inferência)\n",
    "prob_model = 0.9699  # do GNN\n",
    "\n",
    "# Heurísticas → vamos normalizar um exemplo fictício\n",
    "# (quanto mais alto, pior o link)\n",
    "RSSI = -85   # dBm (RSSI fraco → custo alto)\n",
    "ETX = 3.0    # quanto maior, pior\n",
    "delay = 20   # ms (quanto menor, melhor)\n",
    "loss = 0.2   # 20% de perdas\n",
    "\n",
    "# Normalização simples (0-1) → você pode ajustar melhor\n",
    "rssi_cost = min(1.0, max(0.0, (-(RSSI) - 60) / 40))   # -60 dBm → bom, -100 → ruim\n",
    "etx_cost = min(1.0, ETX / 10)  \n",
    "delay_cost = min(1.0, delay / 100)  \n",
    "loss_cost = min(1.0, loss)  \n",
    "\n",
    "heuristic_cost = (rssi_cost + etx_cost + delay_cost + loss_cost) / 4\n",
    "\n",
    "# Fusão via Kalman\n",
    "kf = KalmanFusion(Q=0.01, R=0.05)\n",
    "fused_cost = kf.update(prob_model, heuristic_cost)"
   ]
  },
  {
   "cell_type": "code",
   "execution_count": 8,
   "id": "b5c4b0e5",
   "metadata": {},
   "outputs": [
    {
     "name": "stdout",
     "output_type": "stream",
     "text": [
      "Probabilidade do modelo: 0.9699\n",
      "Custo heurístico normalizado: 0.3312\n",
      "Custo fundido (Kalman): 0.3614\n"
     ]
    }
   ],
   "source": [
    "print(f\"Probabilidade do modelo: {prob_model:.4f}\")\n",
    "print(f\"Custo heurístico normalizado: {heuristic_cost:.4f}\")\n",
    "print(f\"Custo fundido (Kalman): {fused_cost:.4f}\")"
   ]
  }
 ],
 "metadata": {
  "kernelspec": {
   "display_name": "venv (3.12.4)",
   "language": "python",
   "name": "python3"
  },
  "language_info": {
   "codemirror_mode": {
    "name": "ipython",
    "version": 3
   },
   "file_extension": ".py",
   "mimetype": "text/x-python",
   "name": "python",
   "nbconvert_exporter": "python",
   "pygments_lexer": "ipython3",
   "version": "3.12.4"
  }
 },
 "nbformat": 4,
 "nbformat_minor": 5
}
