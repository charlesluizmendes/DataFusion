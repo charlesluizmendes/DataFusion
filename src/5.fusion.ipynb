{
 "cells": [
  {
   "cell_type": "markdown",
   "id": "2d33f923",
   "metadata": {},
   "source": [
    "### Imports"
   ]
  },
  {
   "cell_type": "code",
   "execution_count": 1,
   "id": "57301dc5",
   "metadata": {},
   "outputs": [],
   "source": [
    "import os\n",
    "import numpy as np\n",
    "import pandas as pd"
   ]
  },
  {
   "cell_type": "markdown",
   "id": "f50112bf",
   "metadata": {},
   "source": [
    "### Inputs"
   ]
  },
  {
   "cell_type": "code",
   "execution_count": 2,
   "id": "46ca6451",
   "metadata": {},
   "outputs": [],
   "source": [
    "radnet_input_df = pd.read_csv(\"../inputs/radnet_input.csv\")\n",
    "radnet_input_apmr_edge = radnet_input_df['apmr_edge'].values\n",
    "radnet_input_mfsr_edge = radnet_input_df['mfsr_edge'].values\n",
    "radnet_input_idg_global = radnet_input_df['idg_global'].values"
   ]
  },
  {
   "cell_type": "markdown",
   "id": "73c9d8ea",
   "metadata": {},
   "source": [
    "- apmr_edge (Active Prefix Message Ratio): Taxa de eficiência dos Active Prefixes no encaminhamento de mensagens através das arestas, \n",
    "medindo quão bem os campos de prefixo conseguem realizar matching probabilístico para encaminhar mensagens entre nós vizinhos.\n",
    "\n",
    "- mfsr_edge (Message Forwarding Success Ratio): Proporção de mensagens transmitidas com sucesso através de uma aresta específica, \n",
    "considerando interferência, congestionamento e qualidade da conexão sem fio entre dois nós conectados.\n",
    "\n",
    "- idg_global (Interest Group Delivery): Eficácia global da entrega de mensagens no modo Interest-Group addressing, \n",
    "medindo quão bem o protocolo consegue localizar e entregar mensagens aos nós que compartilham o mesmo interesse da aplicação."
   ]
  },
  {
   "cell_type": "code",
   "execution_count": 3,
   "id": "231f6b80",
   "metadata": {},
   "outputs": [],
   "source": [
    "inference_output_df = pd.read_csv(\"../outputs/inference_output.csv\")\n",
    "inference_output_class = inference_output_df['class'].values\n",
    "inference_output_confidence = inference_output_df['confidence'].values"
   ]
  },
  {
   "cell_type": "markdown",
   "id": "61516e69",
   "metadata": {},
   "source": [
    "- confidence (Confiança da Inferência do Modelo GNN): Eficácia do modelo gerado pelo GNN medido na atapa anterior."
   ]
  },
  {
   "cell_type": "code",
   "execution_count": 4,
   "id": "d0d0907d",
   "metadata": {},
   "outputs": [],
   "source": [
    "edges_input_df = pd.read_csv(\"../inputs/edges_input.csv\")\n",
    "edges_input = edges_input_df.values.tolist()"
   ]
  },
  {
   "cell_type": "markdown",
   "id": "ac73c272",
   "metadata": {},
   "source": [
    "### Fusion"
   ]
  },
  {
   "cell_type": "code",
   "execution_count": 5,
   "id": "47271a35",
   "metadata": {},
   "outputs": [],
   "source": [
    "# pesos podenrados\n",
    "w_model, w_apmr, w_mfsr, w_idg = 0.4, 0.25, 0.25, 0.1\n",
    "w_sum = w_model + w_apmr + w_mfsr + w_idg"
   ]
  },
  {
   "cell_type": "code",
   "execution_count": 6,
   "id": "b77885fb",
   "metadata": {},
   "outputs": [],
   "source": [
    "confidence_model = np.where(inference_output_class == 1,\n",
    "    inference_output_confidence,\n",
    "    1.0 - inference_output_confidence\n",
    ")"
   ]
  },
  {
   "cell_type": "code",
   "execution_count": 7,
   "id": "ab9a9633",
   "metadata": {},
   "outputs": [],
   "source": [
    "fused = (\n",
    "    w_model * confidence_model +\n",
    "    w_apmr * radnet_input_apmr_edge +\n",
    "    w_mfsr * radnet_input_mfsr_edge +\n",
    "    w_idg  * radnet_input_idg_global\n",
    ") / w_sum"
   ]
  },
  {
   "cell_type": "code",
   "execution_count": 8,
   "id": "eb83c414",
   "metadata": {},
   "outputs": [],
   "source": [
    "# classe final a partir do filtrado\n",
    "cls = (fused >= 0.5).astype(int)\n",
    "\n",
    "# confiança orientada à classe escolhida\n",
    "conf = np.where(cls == 1, fused, 1.0 - fused)"
   ]
  },
  {
   "cell_type": "markdown",
   "id": "1e885bfe",
   "metadata": {},
   "source": [
    "### Apply"
   ]
  },
  {
   "cell_type": "code",
   "execution_count": 9,
   "id": "9d3291bd",
   "metadata": {},
   "outputs": [
    {
     "name": "stdout",
     "output_type": "stream",
     "text": [
      "RSSI   ETX   Delay  Busy   APMR   MFSR   IDG    Classe   Status   Confiança \n",
      "----------------------------------------------------------------------\n",
      "-74    3.7   91     0.31   0.79   0.94   0.85   1        Bom      0.52      \n",
      "-31    1.7   29     0.06   0.77   0.76   0.78   1        Bom      0.86      \n",
      "-68    4.0   96     0.70   0.94   0.85   0.90   1        Bom      0.54      \n",
      "-51    1.5   17     0.25   0.47   0.66   0.59   1        Bom      0.74      \n",
      "-46    1.1   17     0.38   0.81   0.87   0.71   1        Bom      0.88      \n",
      "-80    7.4   92     0.65   0.84   0.85   0.77   1        Bom      0.50      \n",
      "-39    1.1   15     0.04   0.67   0.70   0.63   1        Bom      0.80      \n",
      "-57    7.9   96     0.61   0.64   0.64   0.65   0        Ruim     0.61      \n",
      "-67    3.9   57     0.25   0.79   0.84   0.68   1        Bom      0.62      \n",
      "-62    8.6   83     0.43   0.57   0.67   0.50   0        Ruim     0.64      \n",
      "-49    2.7   33     0.28   0.90   0.77   0.90   1        Bom      0.89      \n",
      "-62    8.1   80     0.52   0.83   0.89   0.89   1        Bom      0.52      \n",
      "-56    2.0   14     0.11   0.74   0.73   0.71   1        Bom      0.83      \n",
      "-78    7.3   66     0.53   0.88   0.86   0.71   1        Bom      0.51      \n",
      "-54    1.9   7      0.34   0.62   0.63   0.48   1        Bom      0.75      \n",
      "-71    8.7   46     0.85   0.90   0.75   0.70   0        Ruim     0.52      \n",
      "-36    2.4   4      0.18   0.94   0.86   0.72   1        Bom      0.92      \n",
      "-64    9.7   99     0.51   0.63   0.58   0.67   0        Ruim     0.63      \n",
      "-56    3.2   4      0.33   0.57   0.67   0.64   1        Bom      0.77      \n",
      "-45    3.8   37     0.38   0.78   0.95   0.73   1        Bom      0.88      \n",
      "-68    3.7   84     0.60   0.78   0.84   0.73   0        Ruim     0.52      \n",
      "-45    3.9   33     0.28   0.73   0.74   0.68   1        Bom      0.82      \n",
      "-68    8.9   74     0.32   0.76   0.91   0.68   0        Ruim     0.52      \n",
      "-65    4.2   100    0.63   0.91   0.83   0.89   1        Bom      0.53      \n",
      "-44    3.2   8      0.07   0.87   0.82   0.78   1        Bom      0.90      \n",
      "-71    9.2   88     0.46   0.49   0.55   0.53   0        Ruim     0.69      \n",
      "-74    6.1   38     0.45   0.55   0.53   0.53   0        Ruim     0.67      \n",
      "-67    9.9   89     0.56   0.46   0.60   0.59   0        Ruim     0.67      \n",
      "-75    4.8   78     0.29   0.60   0.67   0.53   0        Ruim     0.63      \n",
      "-57    5.2   83     0.29   0.82   0.93   0.86   1        Bom      0.55      \n",
      "-50    2.4   9      0.07   0.65   0.55   0.68   1        Bom      0.77      \n",
      "-68    4.8   55     0.62   0.51   0.53   0.64   0        Ruim     0.67      \n",
      "-80    3.6   83     0.70   0.62   0.63   0.56   0        Ruim     0.63      \n",
      "-66    9.8   100    0.49   0.46   0.55   0.64   0        Ruim     0.68      \n",
      "-71    9.0   86     0.45   0.77   0.83   0.87   0        Ruim     0.51      \n",
      "-33    1.9   8      0.17   0.94   0.86   0.82   1        Bom      0.93      \n",
      "-34    3.9   14     0.25   0.58   0.61   0.63   1        Bom      0.76      \n",
      "-42    2.1   10     0.07   0.52   0.53   0.55   1        Bom      0.72      \n",
      "-90    8.7   92     0.38   0.51   0.52   0.66   0        Ruim     0.68      \n",
      "-86    8.7   76     0.38   0.80   0.88   0.76   0        Ruim     0.51      \n",
      "-62    7.5   8      0.74   0.54   0.68   0.62   0        Ruim     0.63      \n",
      "-64    7.5   97     0.88   0.53   0.53   0.60   0        Ruim     0.67      \n",
      "-56    7.3   30     0.68   0.71   0.62   0.52   0        Ruim     0.61      \n",
      "-69    3.5   32     0.29   0.56   0.74   0.53   1        Bom      0.70      \n",
      "-67    2.4   23     0.14   0.89   0.95   0.90   1        Bom      0.94      \n",
      "-85    3.9   30     0.96   0.83   0.82   0.77   0        Ruim     0.51      \n",
      "-67    7.5   56     0.78   0.84   0.80   0.81   0        Ruim     0.51      \n",
      "-74    6.5   33     0.36   0.72   0.72   0.80   0        Ruim     0.55      \n",
      "-70    6.8   82     0.59   0.73   0.67   0.56   0        Ruim     0.60      \n",
      "-56    3.9   29     0.08   0.86   0.78   0.70   1        Bom      0.87      \n",
      "-44    3.7   14     0.27   0.78   0.94   0.87   1        Bom      0.91      \n",
      "-81    9.8   79     0.68   0.73   0.65   0.58   0        Ruim     0.60      \n",
      "-61    1.6   20     0.09   0.63   0.68   0.66   1        Bom      0.79      \n",
      "-46    3.3   37     0.08   0.90   0.89   0.70   1        Bom      0.91      \n",
      "-37    1.7   8      0.32   0.51   0.62   0.64   1        Bom      0.74      \n",
      "-65    3.4   85     0.60   0.64   0.64   0.60   0        Ruim     0.62      \n",
      "-45    4.9   2      0.08   0.75   0.53   0.68   1        Bom      0.79      \n",
      "-31    3.4   6      0.30   0.77   0.83   0.74   1        Bom      0.87      \n",
      "-32    1.7   16     0.11   0.66   0.54   0.55   1        Bom      0.75      \n",
      "-56    1.1   19     0.08   0.80   0.82   0.82   1        Bom      0.88      \n",
      "-35    3.5   4      0.39   0.55   0.68   0.66   1        Bom      0.77      \n",
      "-45    3.7   7      0.38   0.93   0.95   0.88   1        Bom      0.95      \n",
      "-44    1.9   19     0.06   0.50   0.65   0.66   1        Bom      0.75      \n",
      "-34    2.6   15     0.23   0.52   0.52   0.58   1        Bom      0.72      \n",
      "-48    2.1   23     0.03   0.79   0.93   0.81   1        Bom      0.91      \n",
      "-58    2.5   40     0.28   0.88   0.91   0.81   1        Bom      0.90      \n",
      "-54    3.1   31     0.21   0.84   0.85   0.75   1        Bom      0.89      \n",
      "-53    2.8   10     0.26   0.89   0.93   0.75   1        Bom      0.92      \n",
      "-42    1.1   27     0.01   0.87   0.88   0.84   1        Bom      0.92      \n",
      "-49    2.3   11     0.34   0.80   0.93   0.90   1        Bom      0.91      \n"
     ]
    }
   ],
   "source": [
    "print(f\"{'RSSI':<6} {'ETX':<5} {'Delay':<6} {'Busy':<6} {'APMR':<6} {'MFSR':<6} {'IDG':<6} {'Classe':<8} {'Status':<8} {'Confiança':<10}\")\n",
    "print(f\"{'-'*70}\")\n",
    "\n",
    "CLASS_NAMES = {0: \"Ruim\", 1: \"Bom\"}\n",
    "\n",
    "for i, row in enumerate(edges_input):\n",
    "    print(f\"{row[0]:<6.0f} {row[1]:<5.1f} {row[2]:<6.0f} {row[3]:<6.2f} \"\n",
    "          f\"{radnet_input_apmr_edge[i]:<6.2f} {radnet_input_mfsr_edge[i]:<6.2f} {radnet_input_idg_global[i]:<6.2f} \"\n",
    "          f\"{cls[i]:<8} {CLASS_NAMES[int(cls[i])]:<8} {conf[i]:<10.2f}\")"
   ]
  },
  {
   "cell_type": "markdown",
   "id": "ad2629e8",
   "metadata": {},
   "source": [
    "### Save"
   ]
  },
  {
   "cell_type": "code",
   "execution_count": 10,
   "id": "f9257d18",
   "metadata": {},
   "outputs": [
    {
     "name": "stdout",
     "output_type": "stream",
     "text": [
      "Fusão de Dados salva em ../outputs/fusion_output.csv\n"
     ]
    }
   ],
   "source": [
    "fusion_output = pd.DataFrame({\n",
    "    'class': cls,\n",
    "    'confidence': conf\n",
    "})\n",
    "\n",
    "os.makedirs(\"../outputs\", exist_ok=True)\n",
    "fusion_output.to_csv(\"../outputs/fusion_output.csv\", index=False)\n",
    "\n",
    "print(\"Fusão de Dados salva em ../outputs/fusion_output.csv\")"
   ]
  }
 ],
 "metadata": {
  "kernelspec": {
   "display_name": "venv",
   "language": "python",
   "name": "python3"
  },
  "language_info": {
   "codemirror_mode": {
    "name": "ipython",
    "version": 3
   },
   "file_extension": ".py",
   "mimetype": "text/x-python",
   "name": "python",
   "nbconvert_exporter": "python",
   "pygments_lexer": "ipython3",
   "version": "3.10.11"
  }
 },
 "nbformat": 4,
 "nbformat_minor": 5
}
