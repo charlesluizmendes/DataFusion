{
 "cells": [
  {
   "cell_type": "markdown",
   "id": "2d33f923",
   "metadata": {},
   "source": [
    "### Imports"
   ]
  },
  {
   "cell_type": "code",
   "execution_count": 1,
   "id": "57301dc5",
   "metadata": {},
   "outputs": [],
   "source": [
    "import os\n",
    "import numpy as np\n",
    "import pandas as pd"
   ]
  },
  {
   "cell_type": "markdown",
   "id": "f50112bf",
   "metadata": {},
   "source": [
    "### Inputs"
   ]
  },
  {
   "cell_type": "code",
   "execution_count": 2,
   "id": "46ca6451",
   "metadata": {},
   "outputs": [],
   "source": [
    "radnet_input_df = pd.read_csv(\"../inputs/radnet_input.csv\")\n",
    "radnet_input_apmr_edge = radnet_input_df['apmr_edge'].values\n",
    "radnet_input_mfsr_edge = radnet_input_df['mfsr_edge'].values\n",
    "radnet_input_idg_global = radnet_input_df['idg_global'].iloc[0]"
   ]
  },
  {
   "cell_type": "markdown",
   "id": "73c9d8ea",
   "metadata": {},
   "source": [
    "- apmr_edge (Active Prefix Message Ratio): Taxa de eficiência dos Active Prefixes no encaminhamento de mensagens através das arestas, \n",
    "medindo quão bem os campos de prefixo conseguem realizar matching probabilístico para encaminhar mensagens entre nós vizinhos.\n",
    "\n",
    "- mfsr_edge (Message Forwarding Success Ratio): Proporção de mensagens transmitidas com sucesso através de uma aresta específica, \n",
    "considerando interferência, congestionamento e qualidade da conexão sem fio entre dois nós conectados.\n",
    "\n",
    "- idg_global (Interest Group Delivery): Eficácia global da entrega de mensagens no modo Interest-Group addressing, \n",
    "medindo quão bem o protocolo consegue localizar e entregar mensagens aos nós que compartilham o mesmo interesse da aplicação."
   ]
  },
  {
   "cell_type": "code",
   "execution_count": 3,
   "id": "231f6b80",
   "metadata": {},
   "outputs": [],
   "source": [
    "inference_output_df = pd.read_csv(\"../outputs/inference_output.csv\")\n",
    "inference_output_confidence = inference_output_df['confidence'].values"
   ]
  },
  {
   "cell_type": "markdown",
   "id": "61516e69",
   "metadata": {},
   "source": [
    "- confidence (Confiança da Inferência do Modelo GNN): Eficácia do modelo gerado pelo GNN medido na atapa anterior."
   ]
  },
  {
   "cell_type": "code",
   "execution_count": 4,
   "id": "d0d0907d",
   "metadata": {},
   "outputs": [],
   "source": [
    "edges_input_df = pd.read_csv(\"../inputs/edges_input.csv\")\n",
    "edges_input = edges_input_df.values.tolist()"
   ]
  },
  {
   "cell_type": "markdown",
   "id": "ac73c272",
   "metadata": {},
   "source": [
    "### Fusion"
   ]
  },
  {
   "cell_type": "code",
   "execution_count": 5,
   "id": "fa1e20b6",
   "metadata": {},
   "outputs": [],
   "source": [
    "weight_inference_model = 0.80\n",
    "weight_apmr_edge = 0.05\n",
    "weight_mfsr_edge = 0.05\n",
    "weight_idg_global = 0.10\n",
    "\n",
    "conf = (\n",
    "    weight_inference_model*inference_output_confidence + \n",
    "    weight_apmr_edge*radnet_input_apmr_edge + \n",
    "    weight_mfsr_edge*radnet_input_mfsr_edge + \n",
    "    weight_idg_global*radnet_input_idg_global\n",
    ")"
   ]
  },
  {
   "cell_type": "code",
   "execution_count": 6,
   "id": "8d3d10da",
   "metadata": {},
   "outputs": [],
   "source": [
    "tau = 0.5\n",
    "cls = (conf >= tau).astype(int)\n",
    "\n",
    "CLASS_NAMES = {0: \"Ruim\", 1: \"Bom\"}"
   ]
  },
  {
   "cell_type": "code",
   "execution_count": 7,
   "id": "5d44c671",
   "metadata": {},
   "outputs": [
    {
     "name": "stdout",
     "output_type": "stream",
     "text": [
      "RSSI   ETX   Delay  Busy   Classe   Status   Confiança \n",
      "-------------------------------------------------------\n",
      "-65    3.5   63     0.67   1        Bom      0.93      \n",
      "-34    2.8   30     0.38   1        Bom      0.93      \n",
      "-62    7.2   37     0.81   1        Bom      0.91      \n",
      "-52    1.8   9      0.15   1        Bom      0.92      \n",
      "-31    2.1   33     0.11   1        Bom      0.94      \n",
      "-61    3.5   21     0.01   1        Bom      0.95      \n",
      "-45    3.3   19     0.20   1        Bom      0.94      \n",
      "-64    7.7   71     0.54   1        Bom      0.94      \n",
      "-53    3.3   40     0.32   1        Bom      0.86      \n",
      "-39    2.0   10     0.04   1        Bom      0.95      \n",
      "-63    2.7   3      0.39   1        Bom      0.90      \n",
      "-87    3.5   50     0.54   1        Bom      0.91      \n",
      "-56    7.2   37     0.37   1        Bom      0.89      \n",
      "-89    8.3   83     0.59   1        Bom      0.95      \n",
      "-55    4.5   91     0.47   1        Bom      0.94      \n",
      "-32    2.9   21     0.15   1        Bom      0.95      \n",
      "-42    2.8   30     0.14   1        Bom      0.92      \n",
      "-40    1.7   10     0.10   1        Bom      0.94      \n",
      "-32    3.9   9      0.18   1        Bom      0.92      \n",
      "-90    4.7   95     0.73   1        Bom      0.94      \n",
      "-68    4.3   69     0.86   1        Bom      0.92      \n",
      "-61    4.6   28     0.27   1        Bom      0.84      \n",
      "-37    1.2   27     0.26   1        Bom      0.93      \n",
      "-53    3.4   44     0.99   1        Bom      0.94      \n",
      "-43    3.5   30     0.17   1        Bom      0.92      \n",
      "-63    5.5   49     0.83   1        Bom      0.91      \n",
      "-32    4.0   36     0.00   1        Bom      0.92      \n",
      "-76    4.5   21     0.37   1        Bom      0.71      \n",
      "-52    2.1   29     0.14   1        Bom      0.94      \n",
      "-59    2.2   35     0.38   1        Bom      0.84      \n",
      "-68    5.6   89     0.80   1        Bom      0.94      \n",
      "-86    4.6   29     0.41   1        Bom      0.91      \n",
      "-68    4.0   37     0.37   1        Bom      0.69      \n",
      "-50    1.8   8      0.19   1        Bom      0.92      \n",
      "-47    3.7   32     0.09   1        Bom      0.91      \n",
      "-55    2.7   38     0.02   1        Bom      0.91      \n",
      "-87    6.3   99     0.94   1        Bom      0.95      \n",
      "-54    1.8   3      0.00   1        Bom      0.94      \n",
      "-45    1.6   6      0.11   1        Bom      0.92      \n",
      "-52    3.6   8      0.11   1        Bom      0.94      \n",
      "-79    7.9   84     0.44   1        Bom      0.95      \n",
      "-33    2.5   35     0.22   1        Bom      0.93      \n",
      "-48    1.9   38     0.34   1        Bom      0.93      \n",
      "-59    3.5   23     0.28   1        Bom      0.89      \n",
      "-48    2.2   16     0.11   1        Bom      0.91      \n",
      "-36    3.5   6      0.35   1        Bom      0.91      \n",
      "-76    3.2   63     0.49   1        Bom      0.92      \n",
      "-65    3.6   37     0.75   1        Bom      0.92      \n",
      "-31    1.8   2      0.05   1        Bom      0.93      \n",
      "-48    1.1   19     0.02   1        Bom      0.95      \n",
      "-46    3.2   16     0.19   1        Bom      0.92      \n",
      "-50    2.4   10     0.32   1        Bom      0.92      \n",
      "-58    10.0  60     0.59   1        Bom      0.94      \n",
      "-65    1.6   1      0.33   1        Bom      0.91      \n",
      "-66    7.8   89     0.73   1        Bom      0.92      \n",
      "-60    7.9   93     0.71   1        Bom      0.95      \n",
      "-69    8.5   58     0.83   1        Bom      0.94      \n",
      "-74    5.4   56     0.80   1        Bom      0.94      \n",
      "-65    9.8   75     0.93   1        Bom      0.91      \n",
      "-79    6.1   98     0.37   1        Bom      0.92      \n",
      "-82    6.0   48     0.28   1        Bom      0.92      \n",
      "-79    9.6   85     0.85   1        Bom      0.92      \n",
      "-81    7.4   56     0.76   1        Bom      0.95      \n",
      "-79    4.7   45     0.86   1        Bom      0.94      \n",
      "-59    3.0   63     0.73   1        Bom      0.93      \n",
      "-61    8.4   88     0.26   1        Bom      0.95      \n",
      "-61    7.8   34     0.52   1        Bom      0.94      \n",
      "-86    9.1   32     0.66   1        Bom      0.95      \n",
      "-58    5.0   47     0.56   1        Bom      0.93      \n",
      "-73    5.3   29     0.89   1        Bom      0.94      \n"
     ]
    }
   ],
   "source": [
    "print(f\"{'RSSI':<6} {'ETX':<5} {'Delay':<6} {'Busy':<6} {'Classe':<8} {'Status':<8} {'Confiança':<10}\")\n",
    "print(f\"{'-'*55}\")\n",
    "\n",
    "for i, row in enumerate(edges_input):\n",
    "    print(f\"{row[0]:<6.0f} {row[1]:<5.1f} {row[2]:<6.0f} {row[3]:<6.2f} \"\n",
    "          f\"{cls[i]:<8} {CLASS_NAMES[cls[i]]:<8} {conf[i]:<10.2f}\")"
   ]
  },
  {
   "cell_type": "markdown",
   "id": "ad2629e8",
   "metadata": {},
   "source": [
    "### Save"
   ]
  },
  {
   "cell_type": "code",
   "execution_count": 8,
   "id": "f9257d18",
   "metadata": {},
   "outputs": [
    {
     "name": "stdout",
     "output_type": "stream",
     "text": [
      "Fusão de Dados salva em ../outputs/fusion_output.csv\n"
     ]
    }
   ],
   "source": [
    "fusion_output = pd.DataFrame({\n",
    "    'class': cls,\n",
    "    'confidence': conf\n",
    "})\n",
    "\n",
    "os.makedirs(\"../outputs\", exist_ok=True)\n",
    "fusion_output.to_csv(\"../outputs/fusion_output.csv\", index=False)\n",
    "\n",
    "print(\"Fusão de Dados salva em ../outputs/fusion_output.csv\")"
   ]
  }
 ],
 "metadata": {
  "kernelspec": {
   "display_name": "venv (3.12.4)",
   "language": "python",
   "name": "python3"
  },
  "language_info": {
   "codemirror_mode": {
    "name": "ipython",
    "version": 3
   },
   "file_extension": ".py",
   "mimetype": "text/x-python",
   "name": "python",
   "nbconvert_exporter": "python",
   "pygments_lexer": "ipython3",
   "version": "3.12.4"
  }
 },
 "nbformat": 4,
 "nbformat_minor": 5
}
