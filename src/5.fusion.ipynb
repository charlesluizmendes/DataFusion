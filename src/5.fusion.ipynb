{
 "cells": [
  {
   "cell_type": "markdown",
   "id": "2d33f923",
   "metadata": {},
   "source": [
    "### Imports"
   ]
  },
  {
   "cell_type": "code",
   "execution_count": 1,
   "id": "57301dc5",
   "metadata": {},
   "outputs": [],
   "source": [
    "import os\n",
    "import numpy as np\n",
    "import pandas as pd"
   ]
  },
  {
   "cell_type": "markdown",
   "id": "f50112bf",
   "metadata": {},
   "source": [
    "### Inputs"
   ]
  },
  {
   "cell_type": "code",
   "execution_count": 2,
   "id": "46ca6451",
   "metadata": {},
   "outputs": [],
   "source": [
    "radnet_input_df = pd.read_csv(\"../inputs/radnet_input.csv\")\n",
    "radnet_input_apmr_edge = radnet_input_df['apmr_edge'].values\n",
    "radnet_input_mfsr_edge = radnet_input_df['mfsr_edge'].values\n",
    "radnet_input_idg_global = radnet_input_df['idg_global'].values"
   ]
  },
  {
   "cell_type": "markdown",
   "id": "73c9d8ea",
   "metadata": {},
   "source": [
    "- apmr_edge (Active Prefix Message Ratio): Taxa de eficiência dos Active Prefixes no encaminhamento de mensagens através das arestas, \n",
    "medindo quão bem os campos de prefixo conseguem realizar matching probabilístico para encaminhar mensagens entre nós vizinhos.\n",
    "\n",
    "- mfsr_edge (Message Forwarding Success Ratio): Proporção de mensagens transmitidas com sucesso através de uma aresta específica, \n",
    "considerando interferência, congestionamento e qualidade da conexão sem fio entre dois nós conectados.\n",
    "\n",
    "- idg_global (Interest Group Delivery): Eficácia global da entrega de mensagens no modo Interest-Group addressing, \n",
    "medindo quão bem o protocolo consegue localizar e entregar mensagens aos nós que compartilham o mesmo interesse da aplicação."
   ]
  },
  {
   "cell_type": "code",
   "execution_count": 3,
   "id": "231f6b80",
   "metadata": {},
   "outputs": [],
   "source": [
    "inference_output_df = pd.read_csv(\"../outputs/inference_output.csv\")\n",
    "inference_output_class = inference_output_df['class'].values\n",
    "inference_output_confidence = inference_output_df['confidence'].values"
   ]
  },
  {
   "cell_type": "markdown",
   "id": "61516e69",
   "metadata": {},
   "source": [
    "- confidence (Confiança da Inferência do Modelo GNN): Eficácia do modelo gerado pelo GNN medido na atapa anterior."
   ]
  },
  {
   "cell_type": "code",
   "execution_count": 4,
   "id": "d0d0907d",
   "metadata": {},
   "outputs": [],
   "source": [
    "edges_input_df = pd.read_csv(\"../inputs/edges_input.csv\")\n",
    "edges_input = edges_input_df.values.tolist()"
   ]
  },
  {
   "cell_type": "markdown",
   "id": "ac73c272",
   "metadata": {},
   "source": [
    "### Fusion"
   ]
  },
  {
   "cell_type": "code",
   "execution_count": 5,
   "id": "47271a35",
   "metadata": {},
   "outputs": [],
   "source": [
    "# pesos podenrados\n",
    "w_model, w_apmr, w_mfsr, w_idg = 0.4, 0.25, 0.25, 0.1\n",
    "w_sum = w_model + w_apmr + w_mfsr + w_idg"
   ]
  },
  {
   "cell_type": "code",
   "execution_count": 6,
   "id": "b77885fb",
   "metadata": {},
   "outputs": [],
   "source": [
    "confidence_model = np.where(inference_output_class == 1,\n",
    "    inference_output_confidence,\n",
    "    1.0 - inference_output_confidence\n",
    ")"
   ]
  },
  {
   "cell_type": "code",
   "execution_count": 7,
   "id": "ab9a9633",
   "metadata": {},
   "outputs": [],
   "source": [
    "fused = (\n",
    "    w_model * confidence_model +\n",
    "    w_apmr * radnet_input_apmr_edge +\n",
    "    w_mfsr * radnet_input_mfsr_edge +\n",
    "    w_idg  * radnet_input_idg_global\n",
    ") / w_sum"
   ]
  },
  {
   "cell_type": "code",
   "execution_count": 8,
   "id": "eb83c414",
   "metadata": {},
   "outputs": [],
   "source": [
    "# classe final a partir do filtrado\n",
    "cls = (fused >= 0.5).astype(int)\n",
    "\n",
    "# confiança orientada à classe escolhida\n",
    "conf = np.where(cls == 1, fused, 1.0 - fused)"
   ]
  },
  {
   "cell_type": "markdown",
   "id": "1e885bfe",
   "metadata": {},
   "source": [
    "### Apply"
   ]
  },
  {
   "cell_type": "code",
   "execution_count": 9,
   "id": "9d3291bd",
   "metadata": {},
   "outputs": [
    {
     "name": "stdout",
     "output_type": "stream",
     "text": [
      "RSSI   ETX   Delay  Busy   APMR   MFSR   IDG    Classe   Status   Confiança \n",
      "----------------------------------------------------------------------\n",
      "-43    3.8   33     0.15   0.72   0.63   0.48   1        Bom      0.78      \n",
      "-78    4.8   3      0.23   0.79   0.60   0.72   1        Bom      0.73      \n",
      "-59    1.5   28     0.21   0.77   0.89   0.70   1        Bom      0.89      \n",
      "-82    7.1   15     0.83   0.87   0.90   0.79   1        Bom      0.52      \n",
      "-68    9.7   37     0.72   0.58   0.55   0.48   0        Ruim     0.67      \n",
      "-64    8.2   64     0.86   0.86   0.91   0.75   1        Bom      0.52      \n",
      "-82    5.7   36     0.83   0.93   0.89   0.69   1        Bom      0.53      \n",
      "-64    6.7   98     0.78   0.56   0.76   0.67   0        Ruim     0.60      \n",
      "-50    1.1   9      0.29   0.94   0.87   0.68   1        Bom      0.92      \n",
      "-46    2.1   33     0.39   0.94   0.88   0.72   1        Bom      0.92      \n",
      "-64    8.5   98     0.63   0.78   0.91   0.70   0        Ruim     0.51      \n",
      "-40    2.7   30     0.10   0.54   0.77   0.53   1        Bom      0.78      \n",
      "-44    3.3   10     0.38   0.80   0.87   0.69   1        Bom      0.88      \n",
      "-48    2.6   18     0.18   0.90   0.93   0.84   1        Bom      0.94      \n",
      "-55    1.0   15     0.35   0.86   0.88   0.73   1        Bom      0.91      \n",
      "-39    2.8   11     0.34   0.88   0.94   0.72   1        Bom      0.93      \n",
      "-57    4.5   29     0.52   0.54   0.77   0.50   0        Ruim     0.51      \n",
      "-65    3.0   25     0.29   0.90   0.95   0.84   1        Bom      0.93      \n",
      "-81    8.8   53     0.67   0.82   0.86   0.79   1        Bom      0.50      \n",
      "-90    8.1   90     0.98   0.62   0.73   0.67   0        Ruim     0.59      \n",
      "-76    5.1   31     0.36   0.58   0.55   0.53   0        Ruim     0.62      \n",
      "-62    3.3   37     0.39   0.72   0.84   0.78   1        Bom      0.77      \n",
      "-63    10.0  28     0.96   0.51   0.77   0.51   0        Ruim     0.63      \n",
      "-56    1.8   28     0.26   0.90   0.83   0.68   1        Bom      0.90      \n",
      "-54    1.2   36     0.21   0.90   0.89   0.77   1        Bom      0.92      \n",
      "-58    4.1   26     1.00   0.88   0.92   0.79   1        Bom      0.53      \n",
      "-80    7.6   42     0.50   0.68   0.74   0.48   0        Ruim     0.60      \n",
      "-81    7.5   92     0.78   0.61   0.53   0.66   0        Ruim     0.65      \n",
      "-71    8.3   85     0.65   0.92   0.91   0.89   1        Bom      0.55      \n",
      "-77    3.6   62     0.77   0.85   0.87   0.87   1        Bom      0.52      \n",
      "-35    3.5   22     0.19   0.51   0.50   0.60   1        Bom      0.71      \n",
      "-70    8.9   28     0.66   0.69   0.71   0.64   0        Ruim     0.58      \n",
      "-50    5.1   23     0.09   0.81   0.64   0.66   1        Bom      0.82      \n",
      "-34    2.6   32     0.34   0.52   0.62   0.46   1        Bom      0.73      \n",
      "-69    9.1   48     0.28   0.68   0.61   0.57   0        Ruim     0.62      \n",
      "-77    9.3   80     0.54   0.80   0.72   0.61   0        Ruim     0.56      \n",
      "-82    6.7   32     0.30   0.94   0.85   0.84   1        Bom      0.54      \n",
      "-64    3.4   32     0.07   0.76   0.89   0.84   1        Bom      0.89      \n",
      "-57    8.4   39     0.57   0.80   0.85   0.72   0        Ruim     0.51      \n",
      "-82    7.1   63     0.83   0.92   0.86   0.76   1        Bom      0.52      \n",
      "-59    3.4   11     0.27   0.65   0.60   0.67   1        Bom      0.77      \n",
      "-81    5.6   25     0.97   0.61   0.57   0.57   0        Ruim     0.65      \n",
      "-43    2.1   21     0.30   0.59   0.57   0.61   1        Bom      0.75      \n",
      "-62    6.0   28     0.72   0.54   0.65   0.50   0        Ruim     0.64      \n",
      "-77    4.2   21     0.12   0.89   0.93   0.81   1        Bom      0.87      \n",
      "-62    7.8   39     0.98   0.80   0.95   0.70   1        Bom      0.51      \n",
      "-70    5.7   69     0.37   0.68   0.52   0.59   0        Ruim     0.64      \n",
      "-67    3.3   28     0.72   0.70   0.64   0.63   0        Ruim     0.58      \n",
      "-56    2.3   9      0.25   0.52   0.71   0.65   1        Bom      0.77      \n",
      "-49    3.5   8      0.34   0.94   0.86   0.75   1        Bom      0.92      \n",
      "-79    4.4   96     0.58   0.71   0.59   0.62   0        Ruim     0.61      \n",
      "-42    2.4   19     0.32   0.90   0.91   0.69   1        Bom      0.92      \n",
      "-41    1.6   6      0.19   0.78   0.83   0.86   1        Bom      0.89      \n",
      "-48    1.8   38     0.12   0.76   0.77   0.88   1        Bom      0.87      \n",
      "-69    2.8   23     0.22   0.75   0.95   0.82   1        Bom      0.90      \n",
      "-65    3.8   3      0.30   0.47   0.68   0.51   1        Bom      0.73      \n",
      "-83    5.9   9      0.57   0.79   0.84   0.86   1        Bom      0.51      \n",
      "-60    7.5   39     0.63   0.46   0.51   0.47   0        Ruim     0.71      \n",
      "-58    5.0   92     0.70   0.66   0.73   0.47   0        Ruim     0.61      \n",
      "-61    1.1   19     0.31   0.79   0.91   0.70   1        Bom      0.89      \n",
      "-35    1.7   22     0.04   0.46   0.66   0.59   1        Bom      0.74      \n",
      "-80    5.0   63     0.54   0.82   0.86   0.72   0        Ruim     0.51      \n",
      "-86    9.8   87     0.82   0.90   0.92   0.77   1        Bom      0.53      \n",
      "-44    2.3   9      0.33   0.87   0.83   0.81   1        Bom      0.90      \n",
      "-61    2.1   30     0.04   0.58   0.51   0.53   1        Bom      0.73      \n",
      "-78    6.2   94     0.40   0.48   0.59   0.53   0        Ruim     0.68      \n",
      "-88    5.7   70     0.89   0.57   0.65   0.65   0        Ruim     0.63      \n",
      "-35    2.9   9      0.08   0.52   0.63   0.62   1        Bom      0.75      \n",
      "-63    3.4   7      0.37   0.61   0.57   0.60   1        Bom      0.74      \n",
      "-79    1.0   3      0.23   0.52   0.72   0.54   1        Bom      0.76      \n"
     ]
    }
   ],
   "source": [
    "print(f\"{'RSSI':<6} {'ETX':<5} {'Delay':<6} {'Busy':<6} {'APMR':<6} {'MFSR':<6} {'IDG':<6} {'Classe':<8} {'Status':<8} {'Confiança':<10}\")\n",
    "print(f\"{'-'*70}\")\n",
    "\n",
    "CLASS_NAMES = {0: \"Ruim\", 1: \"Bom\"}\n",
    "\n",
    "for i, row in enumerate(edges_input):\n",
    "    print(f\"{row[0]:<6.0f} {row[1]:<5.1f} {row[2]:<6.0f} {row[3]:<6.2f} \"\n",
    "          f\"{radnet_input_apmr_edge[i]:<6.2f} {radnet_input_mfsr_edge[i]:<6.2f} {radnet_input_idg_global[i]:<6.2f} \"\n",
    "          f\"{cls[i]:<8} {CLASS_NAMES[int(cls[i])]:<8} {conf[i]:<10.2f}\")"
   ]
  },
  {
   "cell_type": "markdown",
   "id": "ad2629e8",
   "metadata": {},
   "source": [
    "### Save"
   ]
  },
  {
   "cell_type": "code",
   "execution_count": 10,
   "id": "f9257d18",
   "metadata": {},
   "outputs": [
    {
     "name": "stdout",
     "output_type": "stream",
     "text": [
      "Fusão de Dados salva em ../outputs/fusion_output.csv\n"
     ]
    }
   ],
   "source": [
    "fusion_output = pd.DataFrame({\n",
    "    'class': cls,\n",
    "    'confidence': conf\n",
    "})\n",
    "\n",
    "os.makedirs(\"../outputs\", exist_ok=True)\n",
    "fusion_output.to_csv(\"../outputs/fusion_output.csv\", index=False)\n",
    "\n",
    "print(\"Fusão de Dados salva em ../outputs/fusion_output.csv\")"
   ]
  }
 ],
 "metadata": {
  "kernelspec": {
   "display_name": "venv (3.9.6)",
   "language": "python",
   "name": "python3"
  },
  "language_info": {
   "codemirror_mode": {
    "name": "ipython",
    "version": 3
   },
   "file_extension": ".py",
   "mimetype": "text/x-python",
   "name": "python",
   "nbconvert_exporter": "python",
   "pygments_lexer": "ipython3",
   "version": "3.9.6"
  }
 },
 "nbformat": 4,
 "nbformat_minor": 5
}
