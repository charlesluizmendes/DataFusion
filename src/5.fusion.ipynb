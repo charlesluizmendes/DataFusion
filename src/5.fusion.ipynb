{
 "cells": [
  {
   "cell_type": "markdown",
   "id": "2d33f923",
   "metadata": {},
   "source": [
    "### Imports"
   ]
  },
  {
   "cell_type": "code",
   "execution_count": 181,
   "id": "57301dc5",
   "metadata": {},
   "outputs": [],
   "source": [
    "import os\n",
    "import numpy as np\n",
    "import pandas as pd"
   ]
  },
  {
   "cell_type": "markdown",
   "id": "f50112bf",
   "metadata": {},
   "source": [
    "### Inputs"
   ]
  },
  {
   "cell_type": "code",
   "execution_count": 182,
   "id": "46ca6451",
   "metadata": {},
   "outputs": [],
   "source": [
    "radnet_input_df = pd.read_csv(\"../inputs/radnet_input.csv\")\n",
    "radnet_input_apmr_edge = radnet_input_df['apmr_edge'].values\n",
    "radnet_input_mfsr_edge = radnet_input_df['mfsr_edge'].values\n",
    "radnet_input_idg_global = radnet_input_df['idg_global'].values"
   ]
  },
  {
   "cell_type": "markdown",
   "id": "73c9d8ea",
   "metadata": {},
   "source": [
    "- apmr_edge (Active Prefix Message Ratio): Taxa de eficiência dos Active Prefixes no encaminhamento de mensagens através das arestas, \n",
    "medindo quão bem os campos de prefixo conseguem realizar matching probabilístico para encaminhar mensagens entre nós vizinhos.\n",
    "\n",
    "- mfsr_edge (Message Forwarding Success Ratio): Proporção de mensagens transmitidas com sucesso através de uma aresta específica, \n",
    "considerando interferência, congestionamento e qualidade da conexão sem fio entre dois nós conectados.\n",
    "\n",
    "- idg_global (Interest Group Delivery): Eficácia global da entrega de mensagens no modo Interest-Group addressing, \n",
    "medindo quão bem o protocolo consegue localizar e entregar mensagens aos nós que compartilham o mesmo interesse da aplicação."
   ]
  },
  {
   "cell_type": "code",
   "execution_count": 183,
   "id": "231f6b80",
   "metadata": {},
   "outputs": [],
   "source": [
    "inference_output_df = pd.read_csv(\"../outputs/inference_output.csv\")\n",
    "inference_output_class = inference_output_df['class'].values\n",
    "inference_output_confidence = inference_output_df['confidence'].values"
   ]
  },
  {
   "cell_type": "markdown",
   "id": "61516e69",
   "metadata": {},
   "source": [
    "- confidence (Confiança da Inferência do Modelo GNN): Eficácia do modelo gerado pelo GNN medido na atapa anterior."
   ]
  },
  {
   "cell_type": "code",
   "execution_count": 184,
   "id": "d0d0907d",
   "metadata": {},
   "outputs": [],
   "source": [
    "edges_input_df = pd.read_csv(\"../inputs/edges_input.csv\")\n",
    "edges_input = edges_input_df.values.tolist()"
   ]
  },
  {
   "cell_type": "markdown",
   "id": "ac73c272",
   "metadata": {},
   "source": [
    "### Fusion"
   ]
  },
  {
   "cell_type": "code",
   "execution_count": 185,
   "id": "47271a35",
   "metadata": {},
   "outputs": [],
   "source": [
    "# pesos podenrados\n",
    "w_model, w_apmr, w_mfsr, w_idg = 0.4, 0.25, 0.25, 0.1\n",
    "w_sum = w_model + w_apmr + w_mfsr + w_idg"
   ]
  },
  {
   "cell_type": "code",
   "execution_count": 186,
   "id": "b77885fb",
   "metadata": {},
   "outputs": [],
   "source": [
    "confidence_model = np.where(inference_output_class == 1,\n",
    "    inference_output_confidence,\n",
    "    1.0 - inference_output_confidence\n",
    ")"
   ]
  },
  {
   "cell_type": "code",
   "execution_count": 187,
   "id": "ab9a9633",
   "metadata": {},
   "outputs": [],
   "source": [
    "fused = (\n",
    "    w_model * confidence_model +\n",
    "    w_apmr * radnet_input_apmr_edge +\n",
    "    w_mfsr * radnet_input_mfsr_edge +\n",
    "    w_idg  * radnet_input_idg_global\n",
    ") / w_sum"
   ]
  },
  {
   "cell_type": "code",
   "execution_count": 188,
   "id": "eb83c414",
   "metadata": {},
   "outputs": [],
   "source": [
    "# classe final a partir do filtrado\n",
    "cls = (fused >= 0.5).astype(int)\n",
    "\n",
    "# confiança orientada à classe escolhida\n",
    "conf = np.where(cls == 1, fused, 1.0 - fused)"
   ]
  },
  {
   "cell_type": "markdown",
   "id": "1e885bfe",
   "metadata": {},
   "source": [
    "### Apply"
   ]
  },
  {
   "cell_type": "code",
   "execution_count": 189,
   "id": "9d3291bd",
   "metadata": {},
   "outputs": [
    {
     "name": "stdout",
     "output_type": "stream",
     "text": [
      "RSSI   ETX   Delay  Busy   Classe   Status   Confiança \n",
      "-------------------------------------------------------\n",
      "-72    8.6   83     0.69   1        Bom      0.52      \n",
      "-84    3.6   37     0.71   1        Bom      0.51      \n",
      "-89    8.8   63     0.45   0        Ruim     0.62      \n",
      "-36    3.0   22     0.20   1        Bom      0.91      \n",
      "-58    4.8   53     0.75   1        Bom      0.51      \n",
      "-57    1.5   22     0.37   1        Bom      0.86      \n",
      "-83    7.4   89     0.37   0        Ruim     0.54      \n",
      "-67    6.5   86     0.51   1        Bom      0.53      \n",
      "-50    3.6   23     0.26   1        Bom      0.91      \n",
      "-68    5.2   40     0.90   0        Ruim     0.68      \n",
      "-87    9.6   65     0.66   0        Ruim     0.65      \n",
      "-32    3.0   23     0.21   1        Bom      0.89      \n",
      "-62    4.2   87     0.92   0        Ruim     0.64      \n",
      "-67    3.2   36     0.32   1        Bom      0.68      \n",
      "-65    3.0   36     0.22   1        Bom      0.91      \n",
      "-37    2.5   31     0.29   1        Bom      0.92      \n",
      "-34    2.7   32     0.27   1        Bom      0.88      \n",
      "-61    1.7   26     0.32   1        Bom      0.93      \n",
      "-74    8.4   64     0.49   1        Bom      0.51      \n",
      "-82    9.1   84     0.47   0        Ruim     0.61      \n",
      "-62    3.4   88     0.70   0        Ruim     0.58      \n",
      "-75    9.1   39     0.87   1        Bom      0.53      \n",
      "-50    1.3   15     0.04   1        Bom      0.93      \n",
      "-34    2.4   24     0.12   1        Bom      0.88      \n",
      "-43    2.7   25     0.06   1        Bom      0.78      \n",
      "-69    3.6   38     0.77   0        Ruim     0.65      \n",
      "-60    7.4   40     0.44   0        Ruim     0.62      \n",
      "-60    3.6   16     0.03   1        Bom      0.92      \n",
      "-73    7.4   46     0.55   0        Ruim     0.66      \n",
      "-35    2.2   40     0.37   1        Bom      0.93      \n",
      "-59    7.9   35     0.27   1        Bom      0.54      \n",
      "-83    8.7   91     0.55   0        Ruim     0.65      \n",
      "-58    4.9   37     0.28   1        Bom      0.67      \n",
      "-61    2.5   24     0.34   1        Bom      0.72      \n",
      "-62    2.7   37     0.28   1        Bom      0.78      \n",
      "-80    3.5   87     0.53   0        Ruim     0.60      \n",
      "-38    1.2   18     0.30   1        Bom      0.88      \n",
      "-59    3.4   40     0.37   1        Bom      0.84      \n",
      "-46    3.2   6      0.18   1        Bom      0.77      \n",
      "-52    2.2   3      0.34   1        Bom      0.79      \n",
      "-42    1.2   29     0.06   1        Bom      0.81      \n",
      "-58    3.9   3      0.13   1        Bom      0.90      \n",
      "-63    8.4   52     0.43   0        Ruim     0.50      \n",
      "-66    4.7   38     0.31   1        Bom      0.70      \n",
      "-65    5.8   60     0.76   0        Ruim     0.65      \n",
      "-64    1.6   5      0.31   1        Bom      0.92      \n",
      "-87    8.1   87     0.32   0        Ruim     0.58      \n",
      "-84    8.6   30     0.76   0        Ruim     0.63      \n",
      "-31    1.0   10     0.07   1        Bom      0.91      \n",
      "-56    2.6   39     0.06   1        Bom      0.93      \n",
      "-31    3.6   6      0.14   1        Bom      0.73      \n",
      "-55    4.0   93     0.39   0        Ruim     0.67      \n",
      "-63    5.4   23     0.37   1        Bom      0.70      \n",
      "-62    8.2   88     0.66   0        Ruim     0.67      \n",
      "-62    1.3   10     0.15   1        Bom      0.91      \n",
      "-54    3.2   36     0.41   1        Bom      0.83      \n",
      "-36    2.6   32     0.32   1        Bom      0.94      \n",
      "-68    9.0   79     0.32   0        Ruim     0.59      \n",
      "-73    5.8   63     0.49   1        Bom      0.53      \n",
      "-52    2.5   28     0.02   1        Bom      0.80      \n",
      "-61    9.2   50     0.30   0        Ruim     0.66      \n",
      "-83    9.7   52     0.45   0        Ruim     0.65      \n",
      "-75    7.0   61     0.74   0        Ruim     0.70      \n",
      "-59    2.5   4      0.19   1        Bom      0.81      \n",
      "-67    3.3   85     0.76   0        Ruim     0.64      \n",
      "-30    1.2   3      0.16   1        Bom      0.75      \n",
      "-76    2.2   17     0.18   1        Bom      0.89      \n",
      "-46    2.6   27     0.11   1        Bom      0.81      \n",
      "-43    1.4   33     0.05   1        Bom      0.90      \n",
      "-38    2.0   22     0.01   1        Bom      0.92      \n"
     ]
    }
   ],
   "source": [
    "print(f\"{'RSSI':<6} {'ETX':<5} {'Delay':<6} {'Busy':<6} {'Classe':<8} {'Status':<8} {'Confiança':<10}\")\n",
    "print(f\"{'-'*55}\")\n",
    "\n",
    "CLASS_NAMES = {0: \"Ruim\", 1: \"Bom\"}\n",
    "for i, row in enumerate(edges_input):\n",
    "    print(f\"{row[0]:<6.0f} {row[1]:<5.1f} {row[2]:<6.0f} {row[3]:<6.2f} \"\n",
    "          f\"{cls[i]:<8} {CLASS_NAMES[int(cls[i])]:<8} {conf[i]:<10.2f}\")"
   ]
  },
  {
   "cell_type": "markdown",
   "id": "ad2629e8",
   "metadata": {},
   "source": [
    "### Save"
   ]
  },
  {
   "cell_type": "code",
   "execution_count": 190,
   "id": "f9257d18",
   "metadata": {},
   "outputs": [
    {
     "name": "stdout",
     "output_type": "stream",
     "text": [
      "Fusão de Dados salva em ../outputs/fusion_output.csv\n"
     ]
    }
   ],
   "source": [
    "fusion_output = pd.DataFrame({\n",
    "    'class': cls,\n",
    "    'confidence': conf\n",
    "})\n",
    "\n",
    "os.makedirs(\"../outputs\", exist_ok=True)\n",
    "fusion_output.to_csv(\"../outputs/fusion_output.csv\", index=False)\n",
    "\n",
    "print(\"Fusão de Dados salva em ../outputs/fusion_output.csv\")"
   ]
  }
 ],
 "metadata": {
  "kernelspec": {
   "display_name": "venv (3.12.4)",
   "language": "python",
   "name": "python3"
  },
  "language_info": {
   "codemirror_mode": {
    "name": "ipython",
    "version": 3
   },
   "file_extension": ".py",
   "mimetype": "text/x-python",
   "name": "python",
   "nbconvert_exporter": "python",
   "pygments_lexer": "ipython3",
   "version": "3.12.4"
  }
 },
 "nbformat": 4,
 "nbformat_minor": 5
}
