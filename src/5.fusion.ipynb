{
 "cells": [
  {
   "cell_type": "markdown",
   "id": "2d33f923",
   "metadata": {},
   "source": [
    "### Imports"
   ]
  },
  {
   "cell_type": "code",
   "execution_count": 1,
   "id": "57301dc5",
   "metadata": {},
   "outputs": [],
   "source": [
    "import os\n",
    "import numpy as np\n",
    "import pandas as pd"
   ]
  },
  {
   "cell_type": "markdown",
   "id": "f50112bf",
   "metadata": {},
   "source": [
    "### Inputs"
   ]
  },
  {
   "cell_type": "code",
   "execution_count": 2,
   "id": "46ca6451",
   "metadata": {},
   "outputs": [],
   "source": [
    "radnet_input_df = pd.read_csv(\"../inputs/radnet_input.csv\")\n",
    "radnet_input_apmr_edge = radnet_input_df['apmr_edge'].values\n",
    "radnet_input_mfsr_edge = radnet_input_df['mfsr_edge'].values\n",
    "radnet_input_idg_global = radnet_input_df['idg_global'].values"
   ]
  },
  {
   "cell_type": "markdown",
   "id": "73c9d8ea",
   "metadata": {},
   "source": [
    "- apmr_edge (Active Prefix Message Ratio): Taxa de eficiência dos Active Prefixes no encaminhamento de mensagens através das arestas, \n",
    "medindo quão bem os campos de prefixo conseguem realizar matching probabilístico para encaminhar mensagens entre nós vizinhos.\n",
    "\n",
    "- mfsr_edge (Message Forwarding Success Ratio): Proporção de mensagens transmitidas com sucesso através de uma aresta específica, \n",
    "considerando interferência, congestionamento e qualidade da conexão sem fio entre dois nós conectados.\n",
    "\n",
    "- idg_global (Interest Group Delivery): Eficácia global da entrega de mensagens no modo Interest-Group addressing, \n",
    "medindo quão bem o protocolo consegue localizar e entregar mensagens aos nós que compartilham o mesmo interesse da aplicação."
   ]
  },
  {
   "cell_type": "code",
   "execution_count": 3,
   "id": "231f6b80",
   "metadata": {},
   "outputs": [],
   "source": [
    "inference_output_df = pd.read_csv(\"../outputs/inference_output.csv\")\n",
    "inference_output_class = inference_output_df['class'].values\n",
    "inference_output_confidence = inference_output_df['confidence'].values"
   ]
  },
  {
   "cell_type": "markdown",
   "id": "61516e69",
   "metadata": {},
   "source": [
    "- confidence (Confiança da Inferência do Modelo GNN): Eficácia do modelo gerado pelo GNN medido na atapa anterior."
   ]
  },
  {
   "cell_type": "code",
   "execution_count": 4,
   "id": "d0d0907d",
   "metadata": {},
   "outputs": [],
   "source": [
    "edges_input_df = pd.read_csv(\"../inputs/edges_input.csv\")\n",
    "edges_input = edges_input_df.values.tolist()"
   ]
  },
  {
   "cell_type": "markdown",
   "id": "ac73c272",
   "metadata": {},
   "source": [
    "### Fusion"
   ]
  },
  {
   "cell_type": "code",
   "execution_count": 5,
   "id": "47271a35",
   "metadata": {},
   "outputs": [],
   "source": [
    "# pesos podenrados\n",
    "w_model, w_apmr, w_mfsr, w_idg = 0.4, 0.25, 0.25, 0.1\n",
    "w_sum = w_model + w_apmr + w_mfsr + w_idg"
   ]
  },
  {
   "cell_type": "code",
   "execution_count": 6,
   "id": "b77885fb",
   "metadata": {},
   "outputs": [],
   "source": [
    "confidence_model = np.where(inference_output_class == 1,\n",
    "    inference_output_confidence,\n",
    "    1.0 - inference_output_confidence\n",
    ")"
   ]
  },
  {
   "cell_type": "code",
   "execution_count": 7,
   "id": "ab9a9633",
   "metadata": {},
   "outputs": [],
   "source": [
    "fused = (\n",
    "    w_model * confidence_model +\n",
    "    w_apmr * radnet_input_apmr_edge +\n",
    "    w_mfsr * radnet_input_mfsr_edge +\n",
    "    w_idg  * radnet_input_idg_global\n",
    ") / w_sum"
   ]
  },
  {
   "cell_type": "code",
   "execution_count": 8,
   "id": "eb83c414",
   "metadata": {},
   "outputs": [],
   "source": [
    "# classe final a partir do filtrado\n",
    "cls = (fused >= 0.5).astype(int)\n",
    "\n",
    "# confiança orientada à classe escolhida\n",
    "conf = np.where(cls == 1, fused, 1.0 - fused)"
   ]
  },
  {
   "cell_type": "markdown",
   "id": "1e885bfe",
   "metadata": {},
   "source": [
    "### Apply"
   ]
  },
  {
   "cell_type": "code",
   "execution_count": 9,
   "id": "9d3291bd",
   "metadata": {},
   "outputs": [
    {
     "name": "stdout",
     "output_type": "stream",
     "text": [
      "RSSI   ETX   Delay  Busy   APMR   MFSR   IDG    Classe   Status   Confiança \n",
      "----------------------------------------------------------------------\n",
      "-60    5.5   78     0.53   0.68   0.72   0.58   0        Ruim     0.59      \n",
      "-34    2.0   38     0.34   0.57   0.68   0.67   1        Bom      0.78      \n",
      "-90    6.9   42     0.57   0.76   0.83   0.74   0        Ruim     0.53      \n",
      "-85    3.2   48     0.59   0.84   0.92   0.73   1        Bom      0.51      \n",
      "-45    3.3   12     0.07   0.79   0.88   0.71   1        Bom      0.89      \n",
      "-90    6.9   86     0.67   0.48   0.55   0.64   0        Ruim     0.68      \n",
      "-49    2.4   35     0.25   0.84   0.88   0.75   1        Bom      0.90      \n",
      "-36    1.1   21     0.18   0.47   0.57   0.66   1        Bom      0.72      \n",
      "-62    5.9   31     0.15   0.80   0.89   0.82   1        Bom      0.79      \n",
      "-77    8.8   84     0.75   0.78   0.87   0.76   0        Ruim     0.51      \n",
      "-46    1.7   22     0.26   0.92   0.93   0.72   1        Bom      0.93      \n",
      "-41    2.7   15     0.24   0.86   0.85   0.83   1        Bom      0.91      \n",
      "-34    2.5   9      0.20   0.54   0.73   0.64   1        Bom      0.78      \n",
      "-32    3.0   11     0.17   0.88   0.94   0.89   1        Bom      0.94      \n",
      "-44    3.6   22     0.13   0.60   0.57   0.49   1        Bom      0.74      \n",
      "-48    3.6   38     0.10   0.62   0.64   0.65   1        Bom      0.78      \n",
      "-43    2.7   16     0.26   0.49   0.62   0.56   1        Bom      0.73      \n",
      "-61    7.8   39     0.37   0.46   0.53   0.51   0        Ruim     0.70      \n",
      "-56    3.2   3      0.01   0.84   0.84   0.68   1        Bom      0.89      \n",
      "-70    2.9   11     0.05   0.92   0.92   0.69   1        Bom      0.92      \n",
      "-84    7.7   75     0.47   0.65   0.65   0.57   0        Ruim     0.62      \n",
      "-37    3.6   36     0.03   0.55   0.78   0.59   1        Bom      0.79      \n",
      "-63    8.5   59     0.92   0.50   0.52   0.48   0        Ruim     0.70      \n",
      "-51    1.9   24     0.07   0.45   0.75   0.58   1        Bom      0.76      \n",
      "-58    6.5   51     0.96   0.75   0.86   0.68   0        Ruim     0.53      \n",
      "-59    3.5   6      0.29   0.81   0.84   0.82   1        Bom      0.89      \n",
      "-59    1.6   35     0.34   0.52   0.56   0.58   1        Bom      0.72      \n",
      "-80    5.6   42     0.71   0.46   0.76   0.55   0        Ruim     0.64      \n",
      "-64    6.1   27     0.72   0.64   0.64   0.45   0        Ruim     0.64      \n",
      "-76    9.8   77     0.51   0.88   0.94   0.80   1        Bom      0.53      \n",
      "-63    2.2   37     0.32   0.90   0.92   0.74   1        Bom      0.90      \n",
      "-44    2.0   29     0.23   0.94   0.84   0.73   1        Bom      0.92      \n",
      "-67    4.6   51     0.36   0.69   0.90   0.72   0        Ruim     0.51      \n",
      "-80    7.6   77     0.74   0.50   0.65   0.59   0        Ruim     0.65      \n",
      "-48    2.3   16     0.13   0.80   0.88   0.79   1        Bom      0.90      \n",
      "-62    3.1   54     0.94   0.81   0.92   0.83   1        Bom      0.51      \n",
      "-60    7.9   56     0.83   0.93   0.84   0.76   1        Bom      0.52      \n",
      "-82    5.9   36     0.77   0.59   0.65   0.62   0        Ruim     0.63      \n",
      "-76    7.1   71     0.55   0.52   0.75   0.47   0        Ruim     0.64      \n",
      "-68    8.5   84     0.25   0.91   0.86   0.89   1        Bom      0.53      \n",
      "-35    1.0   23     0.13   0.84   0.93   0.90   1        Bom      0.93      \n",
      "-75    6.7   78     0.48   0.66   0.55   0.53   0        Ruim     0.64      \n",
      "-64    3.6   39     0.32   0.76   0.85   0.77   1        Bom      0.74      \n",
      "-64    9.1   80     0.58   0.72   0.64   0.46   0        Ruim     0.61      \n",
      "-75    9.4   44     0.40   0.91   0.84   0.87   1        Bom      0.53      \n",
      "-46    3.1   18     0.31   0.75   0.90   0.70   1        Bom      0.88      \n",
      "-62    9.0   64     0.73   0.65   0.70   0.69   0        Ruim     0.59      \n",
      "-47    1.5   20     0.13   0.70   0.94   0.78   1        Bom      0.89      \n",
      "-54    3.5   15     0.40   0.63   0.77   0.62   1        Bom      0.80      \n",
      "-66    9.4   66     0.50   0.76   0.93   0.77   0        Ruim     0.50      \n",
      "-70    9.2   83     0.36   0.64   0.72   0.56   0        Ruim     0.60      \n",
      "-68    9.8   47     0.57   0.79   0.93   0.86   1        Bom      0.52      \n",
      "-58    2.4   14     0.04   0.73   0.61   0.47   1        Bom      0.78      \n",
      "-48    1.2   6      0.07   0.93   0.93   0.75   1        Bom      0.94      \n",
      "-42    3.5   37     0.04   0.85   0.92   0.81   1        Bom      0.92      \n",
      "-58    1.7   6      0.40   0.85   0.87   0.78   1        Bom      0.91      \n",
      "-57    5.2   90     0.69   0.93   0.86   0.68   1        Bom      0.52      \n",
      "-78    6.5   50     0.45   0.63   0.74   0.66   0        Ruim     0.59      \n",
      "-80    6.4   32     0.58   0.82   0.86   0.87   1        Bom      0.51      \n",
      "-78    9.6   35     0.65   0.94   0.83   0.77   1        Bom      0.52      \n",
      "-72    6.5   67     0.55   0.82   0.87   0.84   1        Bom      0.51      \n",
      "-62    4.6   51     0.81   0.61   0.56   0.56   0        Ruim     0.65      \n",
      "-37    3.8   26     0.30   0.61   0.50   0.57   1        Bom      0.73      \n",
      "-48    2.6   39     0.37   0.67   0.75   0.60   1        Bom      0.80      \n",
      "-74    3.7   34     0.31   0.52   0.66   0.60   1        Bom      0.56      \n",
      "-61    4.8   53     0.45   0.57   0.60   0.66   0        Ruim     0.64      \n",
      "-76    3.3   27     0.60   0.59   0.63   0.67   0        Ruim     0.61      \n",
      "-34    1.9   15     0.25   0.71   0.62   0.57   1        Bom      0.79      \n",
      "-53    1.7   11     0.24   0.48   0.53   0.62   1        Bom      0.71      \n",
      "-50    3.9   38     0.17   0.60   0.70   0.51   1        Bom      0.77      \n"
     ]
    }
   ],
   "source": [
    "print(f\"{'RSSI':<6} {'ETX':<5} {'Delay':<6} {'Busy':<6} {'APMR':<6} {'MFSR':<6} {'IDG':<6} {'Classe':<8} {'Status':<8} {'Confiança':<10}\")\n",
    "print(f\"{'-'*70}\")\n",
    "\n",
    "CLASS_NAMES = {0: \"Ruim\", 1: \"Bom\"}\n",
    "\n",
    "for i, row in enumerate(edges_input):\n",
    "    print(f\"{row[0]:<6.0f} {row[1]:<5.1f} {row[2]:<6.0f} {row[3]:<6.2f} \"\n",
    "          f\"{radnet_input_apmr_edge[i]:<6.2f} {radnet_input_mfsr_edge[i]:<6.2f} {radnet_input_idg_global[i]:<6.2f} \"\n",
    "          f\"{cls[i]:<8} {CLASS_NAMES[int(cls[i])]:<8} {conf[i]:<10.2f}\")"
   ]
  },
  {
   "cell_type": "markdown",
   "id": "ad2629e8",
   "metadata": {},
   "source": [
    "### Save"
   ]
  },
  {
   "cell_type": "code",
   "execution_count": 10,
   "id": "f9257d18",
   "metadata": {},
   "outputs": [
    {
     "name": "stdout",
     "output_type": "stream",
     "text": [
      "Fusão de Dados salva em ../outputs/fusion_output.csv\n"
     ]
    }
   ],
   "source": [
    "fusion_output = pd.DataFrame({\n",
    "    'class': cls,\n",
    "    'confidence': conf\n",
    "})\n",
    "\n",
    "os.makedirs(\"../outputs\", exist_ok=True)\n",
    "fusion_output.to_csv(\"../outputs/fusion_output.csv\", index=False)\n",
    "\n",
    "print(\"Fusão de Dados salva em ../outputs/fusion_output.csv\")"
   ]
  }
 ],
 "metadata": {
  "kernelspec": {
   "display_name": "venv (3.12.4)",
   "language": "python",
   "name": "python3"
  },
  "language_info": {
   "codemirror_mode": {
    "name": "ipython",
    "version": 3
   },
   "file_extension": ".py",
   "mimetype": "text/x-python",
   "name": "python",
   "nbconvert_exporter": "python",
   "pygments_lexer": "ipython3",
   "version": "3.12.4"
  }
 },
 "nbformat": 4,
 "nbformat_minor": 5
}
