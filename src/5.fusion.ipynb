{
 "cells": [
  {
   "cell_type": "markdown",
   "id": "2d33f923",
   "metadata": {},
   "source": [
    "### Imports"
   ]
  },
  {
   "cell_type": "code",
   "execution_count": 31,
   "id": "57301dc5",
   "metadata": {},
   "outputs": [],
   "source": [
    "import os\n",
    "import numpy as np\n",
    "import pandas as pd"
   ]
  },
  {
   "cell_type": "markdown",
   "id": "f50112bf",
   "metadata": {},
   "source": [
    "### Inputs"
   ]
  },
  {
   "cell_type": "code",
   "execution_count": 32,
   "id": "46ca6451",
   "metadata": {},
   "outputs": [],
   "source": [
    "radnet_input_df = pd.read_csv(\"../inputs/radnet_input.csv\")\n",
    "radnet_input_apmr_edge = radnet_input_df['apmr_edge'].values\n",
    "radnet_input_mfsr_edge = radnet_input_df['mfsr_edge'].values\n",
    "radnet_input_idg_global = radnet_input_df['idg_global'].values"
   ]
  },
  {
   "cell_type": "markdown",
   "id": "73c9d8ea",
   "metadata": {},
   "source": [
    "- apmr_edge (Active Prefix Message Ratio): Taxa de eficiência dos Active Prefixes no encaminhamento de mensagens através das arestas, \n",
    "medindo quão bem os campos de prefixo conseguem realizar matching probabilístico para encaminhar mensagens entre nós vizinhos.\n",
    "\n",
    "- mfsr_edge (Message Forwarding Success Ratio): Proporção de mensagens transmitidas com sucesso através de uma aresta específica, \n",
    "considerando interferência, congestionamento e qualidade da conexão sem fio entre dois nós conectados.\n",
    "\n",
    "- idg_global (Interest Group Delivery): Eficácia global da entrega de mensagens no modo Interest-Group addressing, \n",
    "medindo quão bem o protocolo consegue localizar e entregar mensagens aos nós que compartilham o mesmo interesse da aplicação."
   ]
  },
  {
   "cell_type": "code",
   "execution_count": 33,
   "id": "231f6b80",
   "metadata": {},
   "outputs": [],
   "source": [
    "inference_output_df = pd.read_csv(\"../outputs/inference_output.csv\")\n",
    "inference_output_class = inference_output_df['class'].values\n",
    "inference_output_confidence = inference_output_df['confidence'].values"
   ]
  },
  {
   "cell_type": "markdown",
   "id": "61516e69",
   "metadata": {},
   "source": [
    "- confidence (Confiança da Inferência do Modelo GNN): Eficácia do modelo gerado pelo GNN medido na atapa anterior."
   ]
  },
  {
   "cell_type": "code",
   "execution_count": 34,
   "id": "d0d0907d",
   "metadata": {},
   "outputs": [],
   "source": [
    "edges_input_df = pd.read_csv(\"../inputs/edges_input.csv\")\n",
    "edges_input = edges_input_df.values.tolist()"
   ]
  },
  {
   "cell_type": "markdown",
   "id": "ac73c272",
   "metadata": {},
   "source": [
    "### Fusion"
   ]
  },
  {
   "cell_type": "code",
   "execution_count": 35,
   "id": "47271a35",
   "metadata": {},
   "outputs": [],
   "source": [
    "# pesos podenrados\n",
    "w_model, w_apmr, w_mfsr, w_idg = 0.4, 0.25, 0.25, 0.1\n",
    "w_sum = w_model + w_apmr + w_mfsr + w_idg"
   ]
  },
  {
   "cell_type": "code",
   "execution_count": 36,
   "id": "b77885fb",
   "metadata": {},
   "outputs": [],
   "source": [
    "confidence_model = np.where(inference_output_class == 1,\n",
    "    inference_output_confidence,\n",
    "    1.0 - inference_output_confidence\n",
    ")"
   ]
  },
  {
   "cell_type": "code",
   "execution_count": 37,
   "id": "ab9a9633",
   "metadata": {},
   "outputs": [],
   "source": [
    "fused = (\n",
    "    w_model * confidence_model +\n",
    "    w_apmr * radnet_input_apmr_edge +\n",
    "    w_mfsr * radnet_input_mfsr_edge +\n",
    "    w_idg  * radnet_input_idg_global\n",
    ") / w_sum"
   ]
  },
  {
   "cell_type": "code",
   "execution_count": 38,
   "id": "eb83c414",
   "metadata": {},
   "outputs": [],
   "source": [
    "# classe final a partir do filtrado\n",
    "cls = (fused >= 0.5).astype(int)\n",
    "\n",
    "# confiança orientada à classe escolhida\n",
    "conf = np.where(cls == 1, fused, 1.0 - fused)"
   ]
  },
  {
   "cell_type": "markdown",
   "id": "1e885bfe",
   "metadata": {},
   "source": [
    "### Apply"
   ]
  },
  {
   "cell_type": "code",
   "execution_count": 39,
   "id": "9d3291bd",
   "metadata": {},
   "outputs": [
    {
     "name": "stdout",
     "output_type": "stream",
     "text": [
      "RSSI   ETX   Delay  Busy   APMR   MFSR   IDG    Classe   Status   Confiança \n",
      "----------------------------------------------------------------------\n",
      "-55    8.1   38     0.94   0.94   0.86   0.76   1        Bom      0.53      \n",
      "-57    3.8   4      0.39   0.49   0.67   0.59   1        Bom      0.74      \n",
      "-86    5.9   83     0.40   0.80   0.85   0.71   0        Ruim     0.52      \n",
      "-62    7.8   66     0.39   0.65   0.73   0.78   0        Ruim     0.58      \n",
      "-90    7.0   96     0.93   0.53   0.69   0.60   0        Ruim     0.64      \n",
      "-36    2.5   36     0.23   0.81   0.83   0.83   1        Bom      0.89      \n",
      "-56    6.4   11     0.50   0.77   0.91   0.88   1        Bom      0.62      \n",
      "-66    5.7   32     0.63   0.78   0.91   0.76   1        Bom      0.50      \n",
      "-36    4.0   5      0.07   0.50   0.65   0.62   1        Bom      0.75      \n",
      "-69    9.2   43     0.99   0.62   0.59   0.45   0        Ruim     0.65      \n",
      "-65    4.1   82     0.89   0.93   0.90   0.78   1        Bom      0.54      \n",
      "-44    1.2   31     0.33   0.68   0.66   0.53   1        Bom      0.79      \n",
      "-58    9.6   35     0.77   0.81   0.85   0.79   0        Ruim     0.51      \n",
      "-70    7.2   33     0.82   0.60   0.75   0.75   0        Ruim     0.59      \n",
      "-57    9.4   62     0.89   0.80   0.84   0.69   0        Ruim     0.52      \n",
      "-65    6.3   45     0.52   0.47   0.76   0.57   0        Ruim     0.63      \n",
      "-69    8.2   54     0.76   0.81   0.87   0.71   0        Ruim     0.51      \n",
      "-78    6.3   46     0.43   0.60   0.70   0.50   0        Ruim     0.63      \n",
      "-36    3.6   6      0.03   0.86   0.95   0.79   1        Bom      0.93      \n",
      "-33    2.7   5      0.28   0.82   0.75   0.89   1        Bom      0.88      \n",
      "-32    3.5   15     0.09   0.53   0.58   0.52   1        Bom      0.73      \n",
      "-61    6.4   87     0.74   0.76   0.93   0.74   0        Ruim     0.50      \n",
      "-76    7.7   71     0.99   0.94   0.93   0.77   1        Bom      0.54      \n",
      "-82    7.4   56     0.79   0.63   0.77   0.61   0        Ruim     0.59      \n",
      "-58    3.1   95     0.26   0.94   0.93   0.82   1        Bom      0.56      \n",
      "-85    6.2   37     0.39   0.87   0.89   0.79   1        Bom      0.52      \n",
      "-49    2.8   34     0.11   0.69   0.86   0.72   1        Bom      0.86      \n",
      "-47    8.7   17     0.90   0.81   0.83   0.76   0        Ruim     0.51      \n",
      "-72    9.8   73     0.91   0.91   0.89   0.87   1        Bom      0.54      \n",
      "-47    2.2   1      0.16   0.77   0.88   0.73   1        Bom      0.89      \n",
      "-37    2.0   12     0.31   0.71   0.70   0.55   1        Bom      0.81      \n",
      "-54    2.2   17     0.23   0.85   0.85   0.88   1        Bom      0.91      \n",
      "-57    2.8   25     0.37   0.53   0.75   0.49   1        Bom      0.76      \n",
      "-71    3.5   53     0.46   0.89   0.87   0.88   1        Bom      0.54      \n",
      "-30    2.3   19     0.37   0.86   0.82   0.76   1        Bom      0.89      \n",
      "-64    7.1   56     0.54   0.83   0.86   0.82   1        Bom      0.50      \n",
      "-62    8.1   34     0.45   0.58   0.60   0.47   0        Ruim     0.65      \n",
      "-86    8.4   71     0.56   0.81   0.92   0.75   1        Bom      0.51      \n",
      "-87    8.7   85     0.82   0.50   0.51   0.66   0        Ruim     0.68      \n",
      "-81    9.6   97     0.44   0.78   0.90   0.80   1        Bom      0.50      \n",
      "-64    2.4   35     0.16   0.50   0.56   0.64   1        Bom      0.72      \n",
      "-75    4.4   53     0.54   0.71   0.71   0.58   0        Ruim     0.58      \n",
      "-77    3.0   2      0.05   0.81   0.93   0.70   1        Bom      0.90      \n",
      "-64    7.8   88     0.41   0.93   0.81   0.69   1        Bom      0.50      \n",
      "-74    6.9   98     0.86   0.78   0.94   0.75   1        Bom      0.50      \n",
      "-49    3.2   24     0.05   0.65   0.51   0.63   1        Bom      0.75      \n",
      "-45    2.9   27     0.30   0.63   0.56   0.52   1        Bom      0.74      \n",
      "-60    3.9   78     0.38   0.80   0.87   0.74   1        Bom      0.50      \n",
      "-37    3.2   36     0.23   0.52   0.69   0.60   1        Bom      0.76      \n",
      "-62    1.4   25     0.33   0.64   0.53   0.65   1        Bom      0.75      \n",
      "-62    2.4   9      0.25   0.80   0.90   0.82   1        Bom      0.90      \n",
      "-38    1.1   18     0.17   0.71   0.62   0.67   1        Bom      0.80      \n",
      "-72    9.4   77     0.82   0.53   0.72   0.48   0        Ruim     0.64      \n",
      "-60    7.4   6      0.47   0.72   0.78   0.73   0        Ruim     0.51      \n",
      "-73    4.7   63     0.38   0.71   0.74   0.56   0        Ruim     0.58      \n",
      "-79    6.0   71     0.49   0.70   0.78   0.65   0        Ruim     0.57      \n",
      "-30    4.4   21     0.13   0.71   0.89   0.78   1        Bom      0.88      \n",
      "-51    2.9   38     0.24   0.72   0.74   0.52   1        Bom      0.81      \n",
      "-34    2.2   23     0.12   0.73   0.51   0.77   1        Bom      0.79      \n",
      "-36    2.5   12     0.25   0.70   0.56   0.47   1        Bom      0.76      \n",
      "-48    3.1   9      0.08   0.73   0.54   0.49   1        Bom      0.77      \n",
      "-47    3.8   3      0.12   0.94   0.94   0.74   1        Bom      0.94      \n",
      "-48    2.1   6      0.06   0.64   0.77   0.55   1        Bom      0.81      \n",
      "-61    3.7   27     0.32   0.77   0.89   0.74   1        Bom      0.87      \n",
      "-36    2.1   19     0.10   0.64   0.53   0.53   1        Bom      0.75      \n",
      "-52    3.5   30     0.26   0.72   0.72   0.77   1        Bom      0.83      \n",
      "-66    3.3   2      0.34   0.77   0.89   0.86   1        Bom      0.90      \n",
      "-31    2.9   13     0.31   0.90   0.85   0.88   1        Bom      0.92      \n",
      "-40    2.7   29     0.07   0.51   0.61   0.68   1        Bom      0.75      \n",
      "-40    2.1   35     0.40   0.55   0.59   0.63   1        Bom      0.74      \n"
     ]
    }
   ],
   "source": [
    "print(f\"{'RSSI':<6} {'ETX':<5} {'Delay':<6} {'Busy':<6} {'APMR':<6} {'MFSR':<6} {'IDG':<6} {'Classe':<8} {'Status':<8} {'Confiança':<10}\")\n",
    "print(f\"{'-'*70}\")\n",
    "\n",
    "CLASS_NAMES = {0: \"Ruim\", 1: \"Bom\"}\n",
    "\n",
    "for i, row in enumerate(edges_input):\n",
    "    print(f\"{row[0]:<6.0f} {row[1]:<5.1f} {row[2]:<6.0f} {row[3]:<6.2f} \"\n",
    "          f\"{radnet_input_apmr_edge[i]:<6.2f} {radnet_input_mfsr_edge[i]:<6.2f} {radnet_input_idg_global[i]:<6.2f} \"\n",
    "          f\"{cls[i]:<8} {CLASS_NAMES[int(cls[i])]:<8} {conf[i]:<10.2f}\")"
   ]
  },
  {
   "cell_type": "markdown",
   "id": "ad2629e8",
   "metadata": {},
   "source": [
    "### Save"
   ]
  },
  {
   "cell_type": "code",
   "execution_count": 40,
   "id": "f9257d18",
   "metadata": {},
   "outputs": [
    {
     "name": "stdout",
     "output_type": "stream",
     "text": [
      "Fusão de Dados salva em ../outputs/fusion_output.csv\n"
     ]
    }
   ],
   "source": [
    "fusion_output = pd.DataFrame({\n",
    "    'class': cls,\n",
    "    'confidence': conf\n",
    "})\n",
    "\n",
    "os.makedirs(\"../outputs\", exist_ok=True)\n",
    "fusion_output.to_csv(\"../outputs/fusion_output.csv\", index=False)\n",
    "\n",
    "print(\"Fusão de Dados salva em ../outputs/fusion_output.csv\")"
   ]
  }
 ],
 "metadata": {
  "kernelspec": {
   "display_name": "venv (3.12.4)",
   "language": "python",
   "name": "python3"
  },
  "language_info": {
   "codemirror_mode": {
    "name": "ipython",
    "version": 3
   },
   "file_extension": ".py",
   "mimetype": "text/x-python",
   "name": "python",
   "nbconvert_exporter": "python",
   "pygments_lexer": "ipython3",
   "version": "3.12.4"
  }
 },
 "nbformat": 4,
 "nbformat_minor": 5
}
