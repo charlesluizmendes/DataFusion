{
 "cells": [
  {
   "cell_type": "markdown",
   "id": "2d33f923",
   "metadata": {},
   "source": [
    "### Imports"
   ]
  },
  {
   "cell_type": "code",
   "execution_count": 19,
   "id": "57301dc5",
   "metadata": {},
   "outputs": [],
   "source": [
    "import os\n",
    "import numpy as np\n",
    "import pandas as pd"
   ]
  },
  {
   "cell_type": "markdown",
   "id": "f50112bf",
   "metadata": {},
   "source": [
    "### Inputs"
   ]
  },
  {
   "cell_type": "code",
   "execution_count": 20,
   "id": "46ca6451",
   "metadata": {},
   "outputs": [],
   "source": [
    "radnet_input_df = pd.read_csv(\"../inputs/radnet_input.csv\")\n",
    "radnet_input_apmr_edge = radnet_input_df['apmr_edge'].values\n",
    "radnet_input_mfsr_edge = radnet_input_df['mfsr_edge'].values\n",
    "radnet_input_idg_global = radnet_input_df['idg_global'].values"
   ]
  },
  {
   "cell_type": "markdown",
   "id": "73c9d8ea",
   "metadata": {},
   "source": [
    "- apmr_edge (Active Prefix Message Ratio): Taxa de eficiência dos Active Prefixes no encaminhamento de mensagens através das arestas, \n",
    "medindo quão bem os campos de prefixo conseguem realizar matching probabilístico para encaminhar mensagens entre nós vizinhos.\n",
    "\n",
    "- mfsr_edge (Message Forwarding Success Ratio): Proporção de mensagens transmitidas com sucesso através de uma aresta específica, \n",
    "considerando interferência, congestionamento e qualidade da conexão sem fio entre dois nós conectados.\n",
    "\n",
    "- idg_global (Interest Group Delivery): Eficácia global da entrega de mensagens no modo Interest-Group addressing, \n",
    "medindo quão bem o protocolo consegue localizar e entregar mensagens aos nós que compartilham o mesmo interesse da aplicação."
   ]
  },
  {
   "cell_type": "code",
   "execution_count": 21,
   "id": "231f6b80",
   "metadata": {},
   "outputs": [],
   "source": [
    "inference_output_df = pd.read_csv(\"../outputs/inference_output.csv\")\n",
    "inference_output_class = inference_output_df['class'].values\n",
    "inference_output_confidence = inference_output_df['confidence'].values"
   ]
  },
  {
   "cell_type": "markdown",
   "id": "61516e69",
   "metadata": {},
   "source": [
    "- confidence (Confiança da Inferência do Modelo GNN): Eficácia do modelo gerado pelo GNN medido na atapa anterior."
   ]
  },
  {
   "cell_type": "code",
   "execution_count": 22,
   "id": "d0d0907d",
   "metadata": {},
   "outputs": [],
   "source": [
    "edges_input_df = pd.read_csv(\"../inputs/edges_input.csv\")\n",
    "edges_input = edges_input_df.values.tolist()"
   ]
  },
  {
   "cell_type": "markdown",
   "id": "ac73c272",
   "metadata": {},
   "source": [
    "### Fusion"
   ]
  },
  {
   "cell_type": "code",
   "execution_count": 23,
   "id": "47271a35",
   "metadata": {},
   "outputs": [],
   "source": [
    "w_conf, w_apmr, w_mfsr, w_idg = 0.5, 0.2, 0.2, 0.1\n",
    "w_sum = w_conf + w_apmr + w_mfsr + w_idg"
   ]
  },
  {
   "cell_type": "code",
   "execution_count": 24,
   "id": "ab9a9633",
   "metadata": {},
   "outputs": [],
   "source": [
    "fused = (\n",
    "    w_conf*inference_output_confidence +\n",
    "    w_apmr*radnet_input_apmr_edge +\n",
    "    w_mfsr*radnet_input_mfsr_edge +\n",
    "    w_idg*radnet_input_idg_global\n",
    ") / w_sum"
   ]
  },
  {
   "cell_type": "markdown",
   "id": "1e885bfe",
   "metadata": {},
   "source": [
    "### Apply"
   ]
  },
  {
   "cell_type": "code",
   "execution_count": 25,
   "id": "39638289",
   "metadata": {},
   "outputs": [],
   "source": [
    "cls  = np.where(fused < 0.5, 1 - inference_output_class, inference_output_class)\n",
    "conf = np.where(fused < 0.5, 1 - fused, fused)"
   ]
  },
  {
   "cell_type": "code",
   "execution_count": 26,
   "id": "9d3291bd",
   "metadata": {},
   "outputs": [
    {
     "name": "stdout",
     "output_type": "stream",
     "text": [
      "RSSI   ETX   Delay  Busy   Classe   Status   Confiança \n",
      "-------------------------------------------------------\n",
      "-83    8.3   100    0.72   0        Ruim     0.80      \n",
      "-89    5.0   58     0.84   0        Ruim     0.80      \n",
      "-69    5.7   33     0.57   0        Ruim     0.90      \n",
      "-85    7.5   62     0.81   0        Ruim     0.84      \n",
      "-88    4.0   36     0.81   0        Ruim     0.92      \n",
      "-70    4.5   67     0.89   0        Ruim     0.94      \n",
      "-84    9.3   42     0.73   0        Ruim     0.94      \n",
      "-70    9.8   98     0.63   0        Ruim     0.78      \n",
      "-65    9.8   42     0.43   0        Ruim     0.92      \n",
      "-64    5.4   98     0.90   0        Ruim     0.93      \n",
      "-74    7.2   40     0.91   0        Ruim     0.94      \n",
      "-73    7.2   40     0.37   0        Ruim     0.91      \n",
      "-71    9.0   74     0.58   0        Ruim     0.94      \n",
      "-82    8.4   90     0.96   0        Ruim     0.82      \n",
      "-61    6.2   49     0.44   0        Ruim     0.92      \n",
      "-87    8.3   83     0.70   0        Ruim     0.94      \n",
      "-89    7.8   53     0.86   0        Ruim     0.84      \n",
      "-92    4.2   86     0.87   0        Ruim     0.79      \n",
      "-71    9.5   64     0.32   0        Ruim     0.93      \n",
      "-86    9.5   69     0.99   0        Ruim     0.87      \n",
      "-89    4.9   50     0.92   0        Ruim     0.79      \n",
      "-62    6.3   67     0.64   0        Ruim     0.94      \n",
      "-89    6.4   78     0.89   0        Ruim     0.91      \n",
      "-90    4.4   92     0.98   0        Ruim     0.93      \n",
      "-68    8.4   75     0.94   0        Ruim     0.80      \n",
      "-78    7.7   52     0.39   0        Ruim     0.90      \n",
      "-73    9.9   87     0.67   0        Ruim     0.76      \n",
      "-74    4.8   32     0.77   0        Ruim     0.78      \n",
      "-87    8.8   40     0.58   0        Ruim     0.92      \n",
      "-85    8.4   47     0.38   0        Ruim     0.93      \n",
      "-92    4.8   74     0.38   0        Ruim     0.85      \n",
      "-67    4.1   50     0.64   0        Ruim     0.81      \n",
      "-81    7.3   32     0.33   0        Ruim     0.79      \n",
      "-94    8.2   74     0.98   0        Ruim     0.84      \n",
      "-75    8.9   74     0.65   0        Ruim     0.79      \n",
      "-78    9.5   56     0.70   0        Ruim     0.76      \n",
      "-90    9.1   35     0.92   0        Ruim     0.80      \n",
      "-89    7.3   72     0.88   0        Ruim     0.92      \n",
      "-79    9.8   40     0.61   0        Ruim     0.95      \n",
      "-92    5.7   90     0.96   0        Ruim     0.82      \n",
      "-89    7.2   80     0.86   0        Ruim     0.95      \n",
      "-75    9.6   52     0.46   0        Ruim     0.93      \n",
      "-86    5.0   58     0.41   0        Ruim     0.80      \n",
      "-66    8.0   71     0.94   0        Ruim     0.78      \n",
      "-61    9.7   92     0.55   0        Ruim     0.80      \n",
      "-63    6.7   97     0.47   0        Ruim     0.91      \n",
      "-79    8.0   53     0.42   0        Ruim     0.84      \n",
      "-89    5.6   42     0.42   0        Ruim     0.82      \n",
      "-80    9.5   48     0.99   0        Ruim     0.80      \n",
      "-63    6.2   71     0.33   0        Ruim     0.78      \n",
      "-73    7.9   34     0.81   0        Ruim     0.77      \n",
      "-63    9.6   74     0.78   0        Ruim     0.79      \n",
      "-84    6.9   54     0.50   0        Ruim     0.88      \n",
      "-70    9.8   43     0.50   0        Ruim     0.93      \n",
      "-71    5.0   72     0.68   0        Ruim     0.79      \n",
      "-63    7.2   77     0.98   0        Ruim     0.83      \n",
      "-85    9.2   62     0.85   0        Ruim     0.84      \n",
      "-76    8.4   62     0.74   0        Ruim     0.92      \n",
      "-77    8.0   65     0.89   0        Ruim     0.83      \n",
      "-87    7.7   92     0.93   0        Ruim     0.88      \n",
      "-72    7.0   47     0.92   0        Ruim     0.93      \n",
      "-61    8.7   64     0.78   0        Ruim     0.79      \n",
      "-66    7.9   56     0.68   0        Ruim     0.95      \n",
      "-90    7.7   70     0.94   0        Ruim     0.94      \n",
      "-61    8.7   33     0.39   0        Ruim     0.91      \n",
      "-80    8.3   49     0.31   0        Ruim     0.90      \n",
      "-68    6.2   52     0.43   0        Ruim     0.91      \n",
      "-84    8.8   69     0.34   0        Ruim     0.87      \n",
      "-63    4.3   80     0.61   0        Ruim     0.92      \n",
      "-67    9.3   57     0.42   0        Ruim     0.91      \n"
     ]
    }
   ],
   "source": [
    "print(f\"{'RSSI':<6} {'ETX':<5} {'Delay':<6} {'Busy':<6} {'Classe':<8} {'Status':<8} {'Confiança':<10}\")\n",
    "print(f\"{'-'*55}\")\n",
    "\n",
    "CLASS_NAMES = {0: \"Ruim\", 1: \"Bom\"}\n",
    "\n",
    "for i, row in enumerate(edges_input):\n",
    "    print(f\"{row[0]:<6.0f} {row[1]:<5.1f} {row[2]:<6.0f} {row[3]:<6.2f} \"\n",
    "          f\"{cls[i]:<8} {CLASS_NAMES[int(cls[i])]:<8} {conf[i]:<10.2f}\")"
   ]
  },
  {
   "cell_type": "markdown",
   "id": "ad2629e8",
   "metadata": {},
   "source": [
    "### Save"
   ]
  },
  {
   "cell_type": "code",
   "execution_count": 27,
   "id": "f9257d18",
   "metadata": {},
   "outputs": [
    {
     "name": "stdout",
     "output_type": "stream",
     "text": [
      "Fusão de Dados salva em ../outputs/fusion_output.csv\n"
     ]
    }
   ],
   "source": [
    "fusion_output = pd.DataFrame({\n",
    "    'class': cls,\n",
    "    'confidence': conf\n",
    "})\n",
    "\n",
    "os.makedirs(\"../outputs\", exist_ok=True)\n",
    "fusion_output.to_csv(\"../outputs/fusion_output.csv\", index=False)\n",
    "\n",
    "print(\"Fusão de Dados salva em ../outputs/fusion_output.csv\")"
   ]
  }
 ],
 "metadata": {
  "kernelspec": {
   "display_name": "venv (3.12.4)",
   "language": "python",
   "name": "python3"
  },
  "language_info": {
   "codemirror_mode": {
    "name": "ipython",
    "version": 3
   },
   "file_extension": ".py",
   "mimetype": "text/x-python",
   "name": "python",
   "nbconvert_exporter": "python",
   "pygments_lexer": "ipython3",
   "version": "3.12.4"
  }
 },
 "nbformat": 4,
 "nbformat_minor": 5
}
