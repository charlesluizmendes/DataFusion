{
 "cells": [
  {
   "cell_type": "code",
   "execution_count": 1,
   "id": "1f2b77f1",
   "metadata": {},
   "outputs": [],
   "source": [
    "import os\n",
    "import pandas as pd\n",
    "import numpy as np"
   ]
  },
  {
   "cell_type": "code",
   "execution_count": 2,
   "id": "79f20a66",
   "metadata": {},
   "outputs": [],
   "source": [
    "num_nodes = 50                      # número de nós do grafo\n",
    "edges_per_class = 5                 # número de arestas por classe\n",
    "rng = np.random.default_rng(42)\n",
    "X = rng.normal(size=(num_nodes, 3)) # features dos nós"
   ]
  },
  {
   "cell_type": "code",
   "execution_count": 3,
   "id": "a39f291d",
   "metadata": {},
   "outputs": [],
   "source": [
    "def generate_edges_for_class(label, n_edges, num_nodes, rng, X):\n",
    "    edges, latencies, labels = [], [], []\n",
    "    for _ in range(n_edges):\n",
    "        i, j = rng.choice(num_nodes, size=2, replace=False)\n",
    "\n",
    "        if label == \"baixa\":\n",
    "            latency = rng.uniform(10, 49)   # < 50ms\n",
    "        elif label == \"media\":\n",
    "            latency = rng.uniform(60, 149)  # [50,150)\n",
    "        else:\n",
    "            latency = rng.uniform(160, 300) # >= 150ms\n",
    "\n",
    "        edges.append((i, j))\n",
    "        latencies.append(latency)\n",
    "        labels.append(label)\n",
    "    return edges, latencies, labels"
   ]
  },
  {
   "cell_type": "code",
   "execution_count": 4,
   "id": "6d9b102e",
   "metadata": {},
   "outputs": [],
   "source": [
    "edges, latencies, labels = [], [], []\n",
    "for label in [\"baixa\", \"media\", \"alta\"]:\n",
    "    e, l, lab = generate_edges_for_class(label, edges_per_class, num_nodes, rng, X)\n",
    "    edges.extend(e)\n",
    "    latencies.extend(l)\n",
    "    labels.extend(lab)"
   ]
  },
  {
   "cell_type": "code",
   "execution_count": 5,
   "id": "419bdf83",
   "metadata": {},
   "outputs": [],
   "source": [
    "nodes_df = pd.DataFrame(X, columns=[\"feat_1\",\"feat_2\",\"feat_3\"])\n",
    "nodes_df.index.name = \"node_id\"\n",
    "\n",
    "edges_df = pd.DataFrame({\n",
    "    \"src\": [i for (i,_) in edges],\n",
    "    \"dst\": [j for (_,j) in edges],\n",
    "    \"latency_ms\": latencies,\n",
    "    \"label\": labels\n",
    "})"
   ]
  },
  {
   "cell_type": "code",
   "execution_count": 6,
   "id": "da1f7633",
   "metadata": {},
   "outputs": [],
   "source": [
    "os.makedirs(\"../datasets\", exist_ok=True)\n",
    "nodes_path = \"../datasets/synthetic_nodes.csv\"\n",
    "edges_path = \"../datasets/synthetic_edges.csv\"\n",
    "nodes_df.to_csv(nodes_path)\n",
    "edges_df.to_csv(edges_path, index=False)"
   ]
  },
  {
   "cell_type": "code",
   "execution_count": 7,
   "id": "d7cbe433",
   "metadata": {},
   "outputs": [
    {
     "name": "stdout",
     "output_type": "stream",
     "text": [
      "Prévia — Nós (features):\n",
      "           feat_1    feat_2    feat_3\n",
      "node_id                              \n",
      "0        0.304717 -1.039984  0.750451\n",
      "1        0.940565 -1.951035 -1.302180\n",
      "2        0.127840 -0.316243 -0.016801\n",
      "3       -0.853044  0.879398  0.777792\n",
      "4        0.066031  1.127241  0.467509\n",
      "\n",
      "Prévia — Arestas (latência e rótulos):\n",
      " src  dst  latency_ms label\n",
      "   7   26   14.234454 baixa\n",
      "  27   33   20.968118 baixa\n",
      "  11   32   39.977252 baixa\n",
      "  16   35   45.724462 baixa\n",
      "  11   47   31.639246 baixa\n",
      "\n",
      "Distribuição das classes (label):\n",
      "label\n",
      "baixa    5\n",
      "media    5\n",
      "alta     5\n",
      "Name: count, dtype: int64\n",
      "\n",
      "Arquivos gerados:\n",
      "- Nós: ../datasets/synthetic_nodes.csv\n",
      "- Arestas: ../datasets/synthetic_edges.csv\n"
     ]
    }
   ],
   "source": [
    "print(\"Prévia — Nós (features):\")\n",
    "print(nodes_df.head().to_string(index=True))\n",
    "print(\"\\nPrévia — Arestas (latência e rótulos):\")\n",
    "print(edges_df.head().to_string(index=False))\n",
    "\n",
    "print(\"\\nDistribuição das classes (label):\")\n",
    "print(edges_df[\"label\"].value_counts())\n",
    "\n",
    "print(\"\\nArquivos gerados:\")\n",
    "print(f\"- Nós: {nodes_path}\")\n",
    "print(f\"- Arestas: {edges_path}\")"
   ]
  }
 ],
 "metadata": {
  "kernelspec": {
   "display_name": "venv (3.12.4)",
   "language": "python",
   "name": "python3"
  },
  "language_info": {
   "codemirror_mode": {
    "name": "ipython",
    "version": 3
   },
   "file_extension": ".py",
   "mimetype": "text/x-python",
   "name": "python",
   "nbconvert_exporter": "python",
   "pygments_lexer": "ipython3",
   "version": "3.12.4"
  }
 },
 "nbformat": 4,
 "nbformat_minor": 5
}
