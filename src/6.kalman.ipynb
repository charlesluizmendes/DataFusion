{
 "cells": [
  {
   "cell_type": "markdown",
   "id": "b8f8dbf1",
   "metadata": {},
   "source": [
    "### Imports"
   ]
  },
  {
   "cell_type": "code",
   "execution_count": 10,
   "id": "d8db0a7e",
   "metadata": {},
   "outputs": [],
   "source": [
    "import os\n",
    "import numpy as np\n",
    "import pandas as pd"
   ]
  },
  {
   "cell_type": "markdown",
   "id": "7b390d1c",
   "metadata": {},
   "source": [
    "### Inputs"
   ]
  },
  {
   "cell_type": "code",
   "execution_count": 11,
   "id": "d7e271a2",
   "metadata": {},
   "outputs": [],
   "source": [
    "fusion_output_df = pd.read_csv(\"../outputs/fusion_output.csv\")\n",
    "fusion_output_class = fusion_output_df['class'].values\n",
    "fusion_output_confidence = fusion_output_df['confidence'].values"
   ]
  },
  {
   "cell_type": "code",
   "execution_count": 12,
   "id": "41a1f475",
   "metadata": {},
   "outputs": [],
   "source": [
    "edges_input_df = pd.read_csv(\"../inputs/edges_input.csv\")\n",
    "edges_input = edges_input_df.values.tolist()"
   ]
  },
  {
   "cell_type": "code",
   "execution_count": 13,
   "id": "a00683f1",
   "metadata": {},
   "outputs": [],
   "source": [
    "radnet_input_df = pd.read_csv(\"../inputs/radnet_input.csv\")\n",
    "radnet_input_apmr_edge = radnet_input_df['apmr_edge'].values\n",
    "radnet_input_mfsr_edge = radnet_input_df['mfsr_edge'].values\n",
    "radnet_input_idg_global = radnet_input_df['idg_global'].values"
   ]
  },
  {
   "cell_type": "markdown",
   "id": "1da7d5b1",
   "metadata": {},
   "source": [
    "### Kalman Filter"
   ]
  },
  {
   "cell_type": "code",
   "execution_count": 14,
   "id": "2e84fe65",
   "metadata": {},
   "outputs": [],
   "source": [
    "def kalman_filter(z, Q=1e-4, R=1e-2):\n",
    "    n = len(z)\n",
    "    xhat = np.zeros(n)\n",
    "    P = np.zeros(n)\n",
    "    xhat[0] = z[0]\n",
    "    P[0] = 1.0\n",
    "    for k in range(1, n):\n",
    "        # previsão\n",
    "        xhatminus = xhat[k-1]\n",
    "        Pminus = P[k-1] + Q\n",
    "        # atualização\n",
    "        K = Pminus / (Pminus + R)\n",
    "        xhat[k] = xhatminus + K * (z[k] - xhatminus)\n",
    "        P[k] = (1 - K) * Pminus\n",
    "    return xhat"
   ]
  },
  {
   "cell_type": "code",
   "execution_count": 15,
   "id": "310e0518",
   "metadata": {},
   "outputs": [],
   "source": [
    "confidence_fusion = np.where(fusion_output_class == 1,\n",
    "    fusion_output_confidence,\n",
    "    1.0 - fusion_output_confidence\n",
    ")"
   ]
  },
  {
   "cell_type": "code",
   "execution_count": 16,
   "id": "4ea22f2f",
   "metadata": {},
   "outputs": [],
   "source": [
    "kalman = kalman_filter(confidence_fusion)\n",
    "\n",
    "# classe final a partir do filtrado\n",
    "cls = (kalman >= 0.5).astype(int)\n",
    "\n",
    "# confiança orientada à classe escolhida\n",
    "conf = np.where(cls == 1, kalman, 1.0 - kalman)"
   ]
  },
  {
   "cell_type": "code",
   "execution_count": 17,
   "id": "448b3ce7",
   "metadata": {},
   "outputs": [
    {
     "name": "stdout",
     "output_type": "stream",
     "text": [
      "RSSI   ETX   Delay  Busy   APMR   MFSR   IDG    Classe   Status   Confiança \n",
      "---------------------------------------------------------------------------\n",
      "-55    8.1   38     0.94   0.94   0.86   0.76   1        Bom      0.53      \n",
      "-57    3.8   4      0.39   0.49   0.67   0.59   1        Bom      0.74      \n",
      "-86    5.9   83     0.40   0.80   0.85   0.71   1        Bom      0.61      \n",
      "-62    7.8   66     0.39   0.65   0.73   0.78   1        Bom      0.55      \n",
      "-90    7.0   96     0.93   0.53   0.69   0.60   1        Bom      0.50      \n",
      "-36    2.5   36     0.23   0.81   0.83   0.83   1        Bom      0.58      \n",
      "-56    6.4   11     0.50   0.77   0.91   0.88   1        Bom      0.59      \n",
      "-66    5.7   32     0.63   0.78   0.91   0.76   1        Bom      0.58      \n",
      "-36    4.0   5      0.07   0.50   0.65   0.62   1        Bom      0.60      \n",
      "-69    9.2   43     0.99   0.62   0.59   0.45   1        Bom      0.57      \n",
      "-65    4.1   82     0.89   0.93   0.90   0.78   1        Bom      0.56      \n",
      "-44    1.2   31     0.33   0.68   0.66   0.53   1        Bom      0.59      \n",
      "-58    9.6   35     0.77   0.81   0.85   0.79   1        Bom      0.58      \n",
      "-70    7.2   33     0.82   0.60   0.75   0.75   1        Bom      0.56      \n",
      "-57    9.4   62     0.89   0.80   0.84   0.69   1        Bom      0.55      \n",
      "-65    6.3   45     0.52   0.47   0.76   0.57   1        Bom      0.53      \n",
      "-69    8.2   54     0.76   0.81   0.87   0.71   1        Bom      0.53      \n",
      "-78    6.3   46     0.43   0.60   0.70   0.50   1        Bom      0.51      \n",
      "-36    3.6   6      0.03   0.86   0.95   0.79   1        Bom      0.55      \n",
      "-33    2.7   5      0.28   0.82   0.75   0.89   1        Bom      0.59      \n",
      "-32    3.5   15     0.09   0.53   0.58   0.52   1        Bom      0.60      \n",
      "-61    6.4   87     0.74   0.76   0.93   0.74   1        Bom      0.59      \n",
      "-76    7.7   71     0.99   0.94   0.93   0.77   1        Bom      0.59      \n",
      "-82    7.4   56     0.79   0.63   0.77   0.61   1        Bom      0.57      \n",
      "-58    3.1   95     0.26   0.94   0.93   0.82   1        Bom      0.57      \n",
      "-85    6.2   37     0.39   0.87   0.89   0.79   1        Bom      0.56      \n",
      "-49    2.8   34     0.11   0.69   0.86   0.72   1        Bom      0.59      \n",
      "-47    8.7   17     0.90   0.81   0.83   0.76   1        Bom      0.58      \n",
      "-72    9.8   73     0.91   0.91   0.89   0.87   1        Bom      0.58      \n",
      "-47    2.2   1      0.16   0.77   0.88   0.73   1        Bom      0.61      \n",
      "-37    2.0   12     0.31   0.71   0.70   0.55   1        Bom      0.63      \n",
      "-54    2.2   17     0.23   0.85   0.85   0.88   1        Bom      0.65      \n",
      "-57    2.8   25     0.37   0.53   0.75   0.49   1        Bom      0.66      \n",
      "-71    3.5   53     0.46   0.89   0.87   0.88   1        Bom      0.65      \n",
      "-30    2.3   19     0.37   0.86   0.82   0.76   1        Bom      0.68      \n",
      "-64    7.1   56     0.54   0.83   0.86   0.82   1        Bom      0.66      \n",
      "-62    8.1   34     0.45   0.58   0.60   0.47   1        Bom      0.63      \n",
      "-86    8.4   71     0.56   0.81   0.92   0.75   1        Bom      0.62      \n",
      "-87    8.7   85     0.82   0.50   0.51   0.66   1        Bom      0.59      \n",
      "-81    9.6   97     0.44   0.78   0.90   0.80   1        Bom      0.58      \n",
      "-64    2.4   35     0.16   0.50   0.56   0.64   1        Bom      0.59      \n",
      "-75    4.4   53     0.54   0.71   0.71   0.58   1        Bom      0.58      \n",
      "-77    3.0   2      0.05   0.81   0.93   0.70   1        Bom      0.61      \n",
      "-64    7.8   88     0.41   0.93   0.81   0.69   1        Bom      0.60      \n",
      "-74    6.9   98     0.86   0.78   0.94   0.75   1        Bom      0.59      \n",
      "-49    3.2   24     0.05   0.65   0.51   0.63   1        Bom      0.61      \n",
      "-45    2.9   27     0.30   0.63   0.56   0.52   1        Bom      0.62      \n",
      "-60    3.9   78     0.38   0.80   0.87   0.74   1        Bom      0.61      \n",
      "-37    3.2   36     0.23   0.52   0.69   0.60   1        Bom      0.62      \n",
      "-62    1.4   25     0.33   0.64   0.53   0.65   1        Bom      0.63      \n",
      "-62    2.4   9      0.25   0.80   0.90   0.82   1        Bom      0.66      \n",
      "-38    1.1   18     0.17   0.71   0.62   0.67   1        Bom      0.67      \n",
      "-72    9.4   77     0.82   0.53   0.72   0.48   1        Bom      0.64      \n",
      "-60    7.4   6      0.47   0.72   0.78   0.73   1        Bom      0.63      \n",
      "-73    4.7   63     0.38   0.71   0.74   0.56   1        Bom      0.61      \n",
      "-79    6.0   71     0.49   0.70   0.78   0.65   1        Bom      0.59      \n",
      "-30    4.4   21     0.13   0.71   0.89   0.78   1        Bom      0.62      \n",
      "-51    2.9   38     0.24   0.72   0.74   0.52   1        Bom      0.64      \n",
      "-34    2.2   23     0.12   0.73   0.51   0.77   1        Bom      0.65      \n",
      "-36    2.5   12     0.25   0.70   0.56   0.47   1        Bom      0.66      \n",
      "-48    3.1   9      0.08   0.73   0.54   0.49   1        Bom      0.67      \n",
      "-47    3.8   3      0.12   0.94   0.94   0.74   1        Bom      0.70      \n",
      "-48    2.1   6      0.06   0.64   0.77   0.55   1        Bom      0.71      \n",
      "-61    3.7   27     0.32   0.77   0.89   0.74   1        Bom      0.72      \n",
      "-36    2.1   19     0.10   0.64   0.53   0.53   1        Bom      0.73      \n",
      "-52    3.5   30     0.26   0.72   0.72   0.77   1        Bom      0.74      \n",
      "-66    3.3   2      0.34   0.77   0.89   0.86   1        Bom      0.75      \n",
      "-31    2.9   13     0.31   0.90   0.85   0.88   1        Bom      0.77      \n",
      "-40    2.7   29     0.07   0.51   0.61   0.68   1        Bom      0.77      \n",
      "-40    2.1   35     0.40   0.55   0.59   0.63   1        Bom      0.76      \n"
     ]
    }
   ],
   "source": [
    "print(f\"{'RSSI':<6} {'ETX':<5} {'Delay':<6} {'Busy':<6} {'APMR':<6} {'MFSR':<6} {'IDG':<6} {'Classe':<8} {'Status':<8} {'Confiança':<10}\")\n",
    "print(f\"{'-'*75}\")\n",
    "\n",
    "CLASS_NAMES = {0: \"Ruim\", 1: \"Bom\"}\n",
    "\n",
    "for i, row in enumerate(edges_input):\n",
    "    print(f\"{row[0]:<6.0f} {row[1]:<5.1f} {row[2]:<6.0f} {row[3]:<6.2f} \"\n",
    "          f\"{radnet_input_apmr_edge[i]:<6.2f} {radnet_input_mfsr_edge[i]:<6.2f} {radnet_input_idg_global[i]:<6.2f} \"\n",
    "          f\"{cls[i]:<8} {CLASS_NAMES[int(cls[i])]:<8} {conf[i]:<10.2f}\")"
   ]
  },
  {
   "cell_type": "markdown",
   "id": "aa2f413a",
   "metadata": {},
   "source": [
    "### Save"
   ]
  },
  {
   "cell_type": "code",
   "execution_count": 18,
   "id": "f1ad0de5",
   "metadata": {},
   "outputs": [
    {
     "name": "stdout",
     "output_type": "stream",
     "text": [
      "Filtro de Kalman salvo em ../outputs/kalman_output.csv\n"
     ]
    }
   ],
   "source": [
    "kalman_output = pd.DataFrame({\n",
    "    'class': cls,\n",
    "    'confidence': conf\n",
    "})\n",
    "\n",
    "os.makedirs(\"../outputs\", exist_ok=True)\n",
    "kalman_output.to_csv(\"../outputs/kalman_output.csv\", index=False)\n",
    "\n",
    "print(\"Filtro de Kalman salvo em ../outputs/kalman_output.csv\")"
   ]
  }
 ],
 "metadata": {
  "kernelspec": {
   "display_name": "venv (3.12.4)",
   "language": "python",
   "name": "python3"
  },
  "language_info": {
   "codemirror_mode": {
    "name": "ipython",
    "version": 3
   },
   "file_extension": ".py",
   "mimetype": "text/x-python",
   "name": "python",
   "nbconvert_exporter": "python",
   "pygments_lexer": "ipython3",
   "version": "3.12.4"
  }
 },
 "nbformat": 4,
 "nbformat_minor": 5
}
