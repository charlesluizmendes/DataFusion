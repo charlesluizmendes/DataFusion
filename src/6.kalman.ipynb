{
 "cells": [
  {
   "cell_type": "markdown",
   "id": "b8f8dbf1",
   "metadata": {},
   "source": [
    "### Imports"
   ]
  },
  {
   "cell_type": "code",
   "execution_count": 1,
   "id": "d8db0a7e",
   "metadata": {},
   "outputs": [],
   "source": [
    "import os\n",
    "import numpy as np\n",
    "import pandas as pd"
   ]
  },
  {
   "cell_type": "markdown",
   "id": "7b390d1c",
   "metadata": {},
   "source": [
    "### Inputs"
   ]
  },
  {
   "cell_type": "code",
   "execution_count": 2,
   "id": "d7e271a2",
   "metadata": {},
   "outputs": [],
   "source": [
    "fusion_output_df = pd.read_csv(\"../outputs/fusion_output.csv\")\n",
    "fusion_output_confidence = fusion_output_df['confidence'].values"
   ]
  },
  {
   "cell_type": "code",
   "execution_count": 3,
   "id": "41a1f475",
   "metadata": {},
   "outputs": [],
   "source": [
    "edges_input_df = pd.read_csv(\"../inputs/edges_input.csv\")\n",
    "edges_input = edges_input_df.values.tolist()"
   ]
  },
  {
   "cell_type": "markdown",
   "id": "1da7d5b1",
   "metadata": {},
   "source": [
    "### Kalman Filter"
   ]
  },
  {
   "cell_type": "code",
   "execution_count": 4,
   "id": "2e84fe65",
   "metadata": {},
   "outputs": [],
   "source": [
    "class KalmanFilter:\n",
    "    def __init__(self, process_variance=1e-3, measurement_variance=1e-2, initial_estimate=0.5):\n",
    "        self.x = initial_estimate       \n",
    "        self.P = 1.0                    \n",
    "        self.Q = process_variance       \n",
    "        self.R = measurement_variance   \n",
    "\n",
    "    def update(self, measurement):\n",
    "        self.P += self.Q\n",
    "        K = self.P / (self.P + self.R)\n",
    "        self.x += K * (measurement - self.x)\n",
    "        self.P *= (1 - K)\n",
    "        return self.x"
   ]
  },
  {
   "cell_type": "code",
   "execution_count": 5,
   "id": "c153e0f1",
   "metadata": {},
   "outputs": [],
   "source": [
    "def apply_kalman(confidences):\n",
    "    kf = KalmanFilter()\n",
    "    smoothed = []\n",
    "    for z in confidences:\n",
    "        smoothed.append(kf.update(z))\n",
    "    return np.array(smoothed)"
   ]
  },
  {
   "cell_type": "markdown",
   "id": "3af40ad2",
   "metadata": {},
   "source": [
    "### Apply"
   ]
  },
  {
   "cell_type": "code",
   "execution_count": 6,
   "id": "4ea22f2f",
   "metadata": {},
   "outputs": [],
   "source": [
    "conf = apply_kalman(fusion_output_confidence)"
   ]
  },
  {
   "cell_type": "code",
   "execution_count": 7,
   "id": "5c90974d",
   "metadata": {},
   "outputs": [],
   "source": [
    "tau = 0.5\n",
    "cls = (conf >= tau).astype(int)\n",
    "\n",
    "CLASS_NAMES = {0: \"Ruim\", 1: \"Bom\"}"
   ]
  },
  {
   "cell_type": "code",
   "execution_count": 8,
   "id": "448b3ce7",
   "metadata": {},
   "outputs": [
    {
     "name": "stdout",
     "output_type": "stream",
     "text": [
      "RSSI   ETX   Delay  Busy   Classe   Status   Confiança \n",
      "-------------------------------------------------------\n",
      "-65    3.5   63     0.67   1        Bom      0.92      \n",
      "-34    2.8   30     0.38   1        Bom      0.92      \n",
      "-62    7.2   37     0.81   1        Bom      0.92      \n",
      "-52    1.8   9      0.15   1        Bom      0.92      \n",
      "-31    2.1   33     0.11   1        Bom      0.92      \n",
      "-61    3.5   21     0.01   1        Bom      0.93      \n",
      "-45    3.3   19     0.20   1        Bom      0.93      \n",
      "-64    7.7   71     0.54   1        Bom      0.94      \n",
      "-53    3.3   40     0.32   1        Bom      0.92      \n",
      "-39    2.0   10     0.04   1        Bom      0.92      \n",
      "-63    2.7   3      0.39   1        Bom      0.92      \n",
      "-87    3.5   50     0.54   1        Bom      0.92      \n",
      "-56    7.2   37     0.37   1        Bom      0.91      \n",
      "-89    8.3   83     0.59   1        Bom      0.92      \n",
      "-55    4.5   91     0.47   1        Bom      0.93      \n",
      "-32    2.9   21     0.15   1        Bom      0.93      \n",
      "-42    2.8   30     0.14   1        Bom      0.93      \n",
      "-40    1.7   10     0.10   1        Bom      0.93      \n",
      "-32    3.9   9      0.18   1        Bom      0.93      \n",
      "-90    4.7   95     0.73   1        Bom      0.93      \n",
      "-68    4.3   69     0.86   1        Bom      0.93      \n",
      "-61    4.6   28     0.27   1        Bom      0.91      \n",
      "-37    1.2   27     0.26   1        Bom      0.91      \n",
      "-53    3.4   44     0.99   1        Bom      0.92      \n",
      "-43    3.5   30     0.17   1        Bom      0.92      \n",
      "-63    5.5   49     0.83   1        Bom      0.92      \n",
      "-32    4.0   36     0.00   1        Bom      0.92      \n",
      "-76    4.5   21     0.37   1        Bom      0.86      \n",
      "-52    2.1   29     0.14   1        Bom      0.88      \n",
      "-59    2.2   35     0.38   1        Bom      0.87      \n",
      "-68    5.6   89     0.80   1        Bom      0.89      \n",
      "-86    4.6   29     0.41   1        Bom      0.90      \n",
      "-68    4.0   37     0.37   1        Bom      0.84      \n",
      "-50    1.8   8      0.19   1        Bom      0.86      \n",
      "-47    3.7   32     0.09   1        Bom      0.87      \n",
      "-55    2.7   38     0.02   1        Bom      0.88      \n",
      "-87    6.3   99     0.94   1        Bom      0.90      \n",
      "-54    1.8   3      0.00   1        Bom      0.91      \n",
      "-45    1.6   6      0.11   1        Bom      0.91      \n",
      "-52    3.6   8      0.11   1        Bom      0.92      \n",
      "-79    7.9   84     0.44   1        Bom      0.93      \n",
      "-33    2.5   35     0.22   1        Bom      0.93      \n",
      "-48    1.9   38     0.34   1        Bom      0.93      \n",
      "-59    3.5   23     0.28   1        Bom      0.92      \n",
      "-48    2.2   16     0.11   1        Bom      0.92      \n",
      "-36    3.5   6      0.35   1        Bom      0.92      \n",
      "-76    3.2   63     0.49   1        Bom      0.92      \n",
      "-65    3.6   37     0.75   1        Bom      0.92      \n",
      "-31    1.8   2      0.05   1        Bom      0.92      \n",
      "-48    1.1   19     0.02   1        Bom      0.93      \n",
      "-46    3.2   16     0.19   1        Bom      0.93      \n",
      "-50    2.4   10     0.32   1        Bom      0.93      \n",
      "-58    10.0  60     0.59   1        Bom      0.93      \n",
      "-65    1.6   1      0.33   1        Bom      0.92      \n",
      "-66    7.8   89     0.73   1        Bom      0.92      \n",
      "-60    7.9   93     0.71   1        Bom      0.93      \n",
      "-69    8.5   58     0.83   1        Bom      0.93      \n",
      "-74    5.4   56     0.80   1        Bom      0.93      \n",
      "-65    9.8   75     0.93   1        Bom      0.93      \n",
      "-79    6.1   98     0.37   1        Bom      0.93      \n",
      "-82    6.0   48     0.28   1        Bom      0.92      \n",
      "-79    9.6   85     0.85   1        Bom      0.92      \n",
      "-81    7.4   56     0.76   1        Bom      0.93      \n",
      "-79    4.7   45     0.86   1        Bom      0.93      \n",
      "-59    3.0   63     0.73   1        Bom      0.93      \n",
      "-61    8.4   88     0.26   1        Bom      0.94      \n",
      "-61    7.8   34     0.52   1        Bom      0.94      \n",
      "-86    9.1   32     0.66   1        Bom      0.94      \n",
      "-58    5.0   47     0.56   1        Bom      0.94      \n",
      "-73    5.3   29     0.89   1        Bom      0.94      \n"
     ]
    }
   ],
   "source": [
    "print(f\"{'RSSI':<6} {'ETX':<5} {'Delay':<6} {'Busy':<6} {'Classe':<8} {'Status':<8} {'Confiança':<10}\")\n",
    "print(f\"{'-'*55}\")\n",
    "\n",
    "for i, row in enumerate(edges_input):\n",
    "    print(f\"{row[0]:<6.0f} {row[1]:<5.1f} {row[2]:<6.0f} {row[3]:<6.2f} \"\n",
    "          f\"{cls[i]:<8} {CLASS_NAMES[cls[i]]:<8} {conf[i]:<10.2f}\")"
   ]
  },
  {
   "cell_type": "markdown",
   "id": "aa2f413a",
   "metadata": {},
   "source": [
    "### Save"
   ]
  },
  {
   "cell_type": "code",
   "execution_count": 9,
   "id": "f1ad0de5",
   "metadata": {},
   "outputs": [
    {
     "name": "stdout",
     "output_type": "stream",
     "text": [
      "Filtro de Kalman salvo em ../outputs/kalman_output.csv\n"
     ]
    }
   ],
   "source": [
    "kalman_output = pd.DataFrame({\n",
    "    'class': cls,\n",
    "    'confidence': conf\n",
    "})\n",
    "\n",
    "os.makedirs(\"../outputs\", exist_ok=True)\n",
    "kalman_output.to_csv(\"../outputs/kalman_output.csv\", index=False)\n",
    "\n",
    "print(\"Filtro de Kalman salvo em ../outputs/kalman_output.csv\")"
   ]
  }
 ],
 "metadata": {
  "kernelspec": {
   "display_name": "venv (3.12.4)",
   "language": "python",
   "name": "python3"
  },
  "language_info": {
   "codemirror_mode": {
    "name": "ipython",
    "version": 3
   },
   "file_extension": ".py",
   "mimetype": "text/x-python",
   "name": "python",
   "nbconvert_exporter": "python",
   "pygments_lexer": "ipython3",
   "version": "3.12.4"
  }
 },
 "nbformat": 4,
 "nbformat_minor": 5
}
