{
 "cells": [
  {
   "cell_type": "markdown",
   "id": "b8f8dbf1",
   "metadata": {},
   "source": [
    "### Imports"
   ]
  },
  {
   "cell_type": "code",
   "execution_count": 67,
   "id": "d8db0a7e",
   "metadata": {},
   "outputs": [],
   "source": [
    "import os\n",
    "import numpy as np\n",
    "import pandas as pd"
   ]
  },
  {
   "cell_type": "markdown",
   "id": "7b390d1c",
   "metadata": {},
   "source": [
    "### Inputs"
   ]
  },
  {
   "cell_type": "code",
   "execution_count": 68,
   "id": "d7e271a2",
   "metadata": {},
   "outputs": [],
   "source": [
    "fusion_output_df = pd.read_csv(\"../outputs/fusion_output.csv\")\n",
    "fusion_output_class = fusion_output_df['class'].values\n",
    "fusion_output_confidence = fusion_output_df['confidence'].values"
   ]
  },
  {
   "cell_type": "code",
   "execution_count": 69,
   "id": "41a1f475",
   "metadata": {},
   "outputs": [],
   "source": [
    "edges_input_df = pd.read_csv(\"../inputs/edges_input.csv\")\n",
    "edges_input = edges_input_df.values.tolist()"
   ]
  },
  {
   "cell_type": "code",
   "execution_count": 70,
   "id": "a00683f1",
   "metadata": {},
   "outputs": [],
   "source": [
    "radnet_input_df = pd.read_csv(\"../inputs/radnet_input.csv\")\n",
    "radnet_input_apmr_edge = radnet_input_df['apmr_edge'].values\n",
    "radnet_input_mfsr_edge = radnet_input_df['mfsr_edge'].values\n",
    "radnet_input_idg_global = radnet_input_df['idg_global'].values"
   ]
  },
  {
   "cell_type": "markdown",
   "id": "1da7d5b1",
   "metadata": {},
   "source": [
    "### Kalman Filter"
   ]
  },
  {
   "cell_type": "code",
   "execution_count": 71,
   "id": "2e84fe65",
   "metadata": {},
   "outputs": [],
   "source": [
    "def kalman_filter(z, Q=1e-4, R=1e-2):\n",
    "    n = len(z)\n",
    "    xhat = np.zeros(n)\n",
    "    P = np.zeros(n)\n",
    "    xhat[0] = z[0]\n",
    "    P[0] = 1.0\n",
    "    for k in range(1, n):\n",
    "        # previsão\n",
    "        xhatminus = xhat[k-1]\n",
    "        Pminus = P[k-1] + Q\n",
    "        # atualização\n",
    "        K = Pminus / (Pminus + R)\n",
    "        xhat[k] = xhatminus + K * (z[k] - xhatminus)\n",
    "        P[k] = (1 - K) * Pminus\n",
    "    return xhat"
   ]
  },
  {
   "cell_type": "code",
   "execution_count": 72,
   "id": "310e0518",
   "metadata": {},
   "outputs": [],
   "source": [
    "confidence_fusion = np.where(fusion_output_class == 1,\n",
    "    fusion_output_confidence,\n",
    "    1.0 - fusion_output_confidence\n",
    ")"
   ]
  },
  {
   "cell_type": "code",
   "execution_count": 73,
   "id": "4ea22f2f",
   "metadata": {},
   "outputs": [],
   "source": [
    "kalman = kalman_filter(confidence_fusion)\n",
    "\n",
    "# classe final a partir do filtrado\n",
    "cls = (kalman >= 0.5).astype(int)\n",
    "\n",
    "# confiança orientada à classe escolhida\n",
    "conf = np.where(cls == 1, kalman, 1.0 - kalman)"
   ]
  },
  {
   "cell_type": "code",
   "execution_count": 74,
   "id": "448b3ce7",
   "metadata": {},
   "outputs": [
    {
     "name": "stdout",
     "output_type": "stream",
     "text": [
      "RSSI   ETX   Delay  Busy   APMR   MFSR   IDG    Classe   Status   Confiança \n",
      "---------------------------------------------------------------------------\n",
      "-72    8.6   83     0.69   0.82   0.91   0.89   1        Bom      0.52      \n",
      "-84    3.6   37     0.71   0.87   0.85   0.84   1        Bom      0.51      \n",
      "-89    8.8   63     0.45   0.50   0.77   0.57   0        Ruim     0.55      \n",
      "-36    3.0   22     0.20   0.90   0.82   0.79   1        Bom      0.60      \n",
      "-58    4.8   53     0.75   0.82   0.90   0.76   1        Bom      0.58      \n",
      "-57    1.5   22     0.37   0.79   0.78   0.75   1        Bom      0.64      \n",
      "-83    7.4   89     0.37   0.82   0.74   0.67   1        Bom      0.61      \n",
      "-67    6.5   86     0.51   0.91   0.95   0.68   1        Bom      0.59      \n",
      "-50    3.6   23     0.26   0.81   0.94   0.82   1        Bom      0.64      \n",
      "-68    5.2   40     0.90   0.54   0.54   0.46   1        Bom      0.60      \n",
      "-87    9.6   65     0.66   0.57   0.62   0.46   1        Bom      0.56      \n",
      "-32    3.0   23     0.21   0.79   0.83   0.82   1        Bom      0.60      \n",
      "-62    4.2   87     0.92   0.47   0.71   0.63   1        Bom      0.58      \n",
      "-67    3.2   36     0.32   0.46   0.75   0.51   1        Bom      0.59      \n",
      "-65    3.0   36     0.22   0.92   0.94   0.73   1        Bom      0.62      \n",
      "-37    2.5   31     0.29   0.82   0.92   0.84   1        Bom      0.65      \n",
      "-34    2.7   32     0.27   0.76   0.90   0.71   1        Bom      0.68      \n",
      "-61    1.7   26     0.32   0.95   0.92   0.72   1        Bom      0.70      \n",
      "-74    8.4   64     0.49   0.82   0.87   0.83   1        Bom      0.68      \n",
      "-82    9.1   84     0.47   0.71   0.62   0.62   1        Bom      0.65      \n",
      "-62    3.4   88     0.70   0.69   0.70   0.66   1        Bom      0.63      \n",
      "-75    9.1   39     0.87   0.93   0.89   0.77   1        Bom      0.62      \n",
      "-50    1.3   15     0.04   0.89   0.91   0.80   1        Bom      0.65      \n",
      "-34    2.4   24     0.12   0.78   0.84   0.78   1        Bom      0.67      \n",
      "-43    2.7   25     0.06   0.57   0.77   0.48   1        Bom      0.68      \n",
      "-69    3.6   38     0.77   0.52   0.65   0.47   1        Bom      0.65      \n",
      "-60    7.4   40     0.44   0.69   0.55   0.68   1        Bom      0.63      \n",
      "-60    3.6   16     0.03   0.91   0.89   0.75   1        Bom      0.65      \n",
      "-73    7.4   46     0.55   0.60   0.57   0.47   1        Bom      0.62      \n",
      "-35    2.2   40     0.37   0.92   0.86   0.85   1        Bom      0.65      \n",
      "-59    7.9   35     0.27   0.92   0.87   0.69   1        Bom      0.64      \n",
      "-83    8.7   91     0.55   0.59   0.54   0.68   1        Bom      0.61      \n",
      "-58    4.9   37     0.28   0.65   0.55   0.67   1        Bom      0.62      \n",
      "-61    2.5   24     0.34   0.50   0.55   0.65   1        Bom      0.63      \n",
      "-62    2.7   37     0.28   0.69   0.67   0.67   1        Bom      0.64      \n",
      "-80    3.5   87     0.53   0.70   0.73   0.46   1        Bom      0.62      \n",
      "-38    1.2   18     0.30   0.76   0.88   0.72   1        Bom      0.65      \n",
      "-59    3.4   40     0.37   0.85   0.93   0.78   1        Bom      0.66      \n",
      "-46    3.2   6      0.18   0.59   0.67   0.53   1        Bom      0.67      \n",
      "-52    2.2   3      0.34   0.58   0.77   0.58   1        Bom      0.69      \n",
      "-42    1.2   29     0.06   0.72   0.68   0.56   1        Bom      0.70      \n",
      "-58    3.9   3      0.13   0.77   0.89   0.84   1        Bom      0.72      \n",
      "-63    8.4   52     0.43   0.90   0.78   0.77   1        Bom      0.70      \n",
      "-66    4.7   38     0.31   0.88   0.92   0.72   1        Bom      0.70      \n",
      "-65    5.8   60     0.76   0.50   0.72   0.48   1        Bom      0.66      \n",
      "-64    1.6   5      0.31   0.89   0.89   0.82   1        Bom      0.69      \n",
      "-87    8.1   87     0.32   0.68   0.73   0.62   1        Bom      0.66      \n",
      "-84    8.6   30     0.76   0.64   0.63   0.56   1        Bom      0.63      \n",
      "-31    1.0   10     0.07   0.81   0.91   0.81   1        Bom      0.66      \n",
      "-56    2.6   39     0.06   0.85   0.94   0.81   1        Bom      0.69      \n",
      "-31    3.6   6      0.14   0.51   0.62   0.54   1        Bom      0.69      \n",
      "-55    4.0   93     0.39   0.49   0.61   0.52   1        Bom      0.66      \n",
      "-63    5.4   23     0.37   0.78   0.94   0.77   1        Bom      0.66      \n",
      "-62    8.2   88     0.66   0.47   0.67   0.45   1        Bom      0.63      \n",
      "-62    1.3   10     0.15   0.90   0.86   0.68   1        Bom      0.66      \n",
      "-54    3.2   36     0.41   0.75   0.87   0.74   1        Bom      0.67      \n",
      "-36    2.6   32     0.32   0.90   0.94   0.85   1        Bom      0.70      \n",
      "-68    9.0   79     0.32   0.69   0.76   0.50   1        Bom      0.67      \n",
      "-73    5.8   63     0.49   0.94   0.88   0.74   1        Bom      0.66      \n",
      "-52    2.5   28     0.02   0.71   0.62   0.63   1        Bom      0.67      \n",
      "-61    9.2   50     0.30   0.53   0.65   0.49   1        Bom      0.64      \n",
      "-83    9.7   52     0.45   0.58   0.62   0.52   1        Bom      0.61      \n",
      "-75    7.0   61     0.74   0.48   0.52   0.56   1        Bom      0.58      \n",
      "-59    2.5   4      0.19   0.75   0.66   0.58   1        Bom      0.60      \n",
      "-67    3.3   85     0.76   0.58   0.54   0.80   1        Bom      0.58      \n",
      "-30    1.2   3      0.16   0.57   0.56   0.65   1        Bom      0.60      \n",
      "-76    2.2   17     0.18   0.80   0.87   0.84   1        Bom      0.63      \n",
      "-46    2.6   27     0.11   0.71   0.72   0.56   1        Bom      0.64      \n",
      "-43    1.4   33     0.05   0.83   0.83   0.85   1        Bom      0.67      \n",
      "-38    2.0   22     0.01   0.80   0.94   0.87   1        Bom      0.69      \n"
     ]
    }
   ],
   "source": [
    "print(f\"{'RSSI':<6} {'ETX':<5} {'Delay':<6} {'Busy':<6} {'APMR':<6} {'MFSR':<6} {'IDG':<6} {'Classe':<8} {'Status':<8} {'Confiança':<10}\")\n",
    "print(f\"{'-'*75}\")\n",
    "\n",
    "CLASS_NAMES = {0: \"Ruim\", 1: \"Bom\"}\n",
    "\n",
    "for i, row in enumerate(edges_input):\n",
    "    print(f\"{row[0]:<6.0f} {row[1]:<5.1f} {row[2]:<6.0f} {row[3]:<6.2f} \"\n",
    "          f\"{radnet_input_apmr_edge[i]:<6.2f} {radnet_input_mfsr_edge[i]:<6.2f} {radnet_input_idg_global[i]:<6.2f} \"\n",
    "          f\"{cls[i]:<8} {CLASS_NAMES[int(cls[i])]:<8} {conf[i]:<10.2f}\")"
   ]
  },
  {
   "cell_type": "markdown",
   "id": "aa2f413a",
   "metadata": {},
   "source": [
    "### Save"
   ]
  },
  {
   "cell_type": "code",
   "execution_count": 75,
   "id": "f1ad0de5",
   "metadata": {},
   "outputs": [
    {
     "name": "stdout",
     "output_type": "stream",
     "text": [
      "Filtro de Kalman salvo em ../outputs/kalman_output.csv\n"
     ]
    }
   ],
   "source": [
    "kalman_output = pd.DataFrame({\n",
    "    'class': cls,\n",
    "    'confidence': conf\n",
    "})\n",
    "\n",
    "os.makedirs(\"../outputs\", exist_ok=True)\n",
    "kalman_output.to_csv(\"../outputs/kalman_output.csv\", index=False)\n",
    "\n",
    "print(\"Filtro de Kalman salvo em ../outputs/kalman_output.csv\")"
   ]
  }
 ],
 "metadata": {
  "kernelspec": {
   "display_name": "venv (3.12.4)",
   "language": "python",
   "name": "python3"
  },
  "language_info": {
   "codemirror_mode": {
    "name": "ipython",
    "version": 3
   },
   "file_extension": ".py",
   "mimetype": "text/x-python",
   "name": "python",
   "nbconvert_exporter": "python",
   "pygments_lexer": "ipython3",
   "version": "3.12.4"
  }
 },
 "nbformat": 4,
 "nbformat_minor": 5
}
