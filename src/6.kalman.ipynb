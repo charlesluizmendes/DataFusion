{
 "cells": [
  {
   "cell_type": "markdown",
   "id": "b8f8dbf1",
   "metadata": {},
   "source": [
    "### Imports"
   ]
  },
  {
   "cell_type": "code",
   "execution_count": 51,
   "id": "d8db0a7e",
   "metadata": {},
   "outputs": [],
   "source": [
    "import os\n",
    "import numpy as np\n",
    "import pandas as pd"
   ]
  },
  {
   "cell_type": "markdown",
   "id": "7b390d1c",
   "metadata": {},
   "source": [
    "### Inputs"
   ]
  },
  {
   "cell_type": "code",
   "execution_count": 52,
   "id": "d7e271a2",
   "metadata": {},
   "outputs": [],
   "source": [
    "fusion_output_df = pd.read_csv(\"../outputs/fusion_output.csv\")\n",
    "fusion_output_class = fusion_output_df['class'].values\n",
    "fusion_output_confidence = fusion_output_df['confidence'].values"
   ]
  },
  {
   "cell_type": "code",
   "execution_count": 53,
   "id": "41a1f475",
   "metadata": {},
   "outputs": [],
   "source": [
    "edges_input_df = pd.read_csv(\"../inputs/edges_input.csv\")\n",
    "edges_input = edges_input_df.values.tolist()"
   ]
  },
  {
   "cell_type": "markdown",
   "id": "1da7d5b1",
   "metadata": {},
   "source": [
    "### Kalman Filter"
   ]
  },
  {
   "cell_type": "code",
   "execution_count": 54,
   "id": "2e84fe65",
   "metadata": {},
   "outputs": [],
   "source": [
    "def kalman_filter(z, Q=1e-4, R=1e-2):\n",
    "    n = len(z)\n",
    "    xhat = np.zeros(n)\n",
    "    P = np.zeros(n)\n",
    "    xhat[0] = z[0]\n",
    "    P[0] = 1.0\n",
    "    for k in range(1, n):\n",
    "        # previsão\n",
    "        xhatminus = xhat[k-1]\n",
    "        Pminus = P[k-1] + Q\n",
    "        # atualização\n",
    "        K = Pminus / (Pminus + R)\n",
    "        xhat[k] = xhatminus + K * (z[k] - xhatminus)\n",
    "        P[k] = (1 - K) * Pminus\n",
    "    return xhat"
   ]
  },
  {
   "cell_type": "code",
   "execution_count": 55,
   "id": "310e0518",
   "metadata": {},
   "outputs": [],
   "source": [
    "confidence_fusion = np.where(fusion_output_class == 1,\n",
    "    fusion_output_confidence,\n",
    "    1.0 - fusion_output_confidence\n",
    ")"
   ]
  },
  {
   "cell_type": "code",
   "execution_count": 56,
   "id": "4ea22f2f",
   "metadata": {},
   "outputs": [],
   "source": [
    "kalman = kalman_filter(confidence_fusion)\n",
    "\n",
    "# classe final a partir do filtrado\n",
    "cls = (kalman >= 0.5).astype(int)\n",
    "\n",
    "# confiança orientada à classe escolhida\n",
    "conf = np.where(cls == 1, kalman, 1.0 - kalman)"
   ]
  },
  {
   "cell_type": "code",
   "execution_count": 57,
   "id": "448b3ce7",
   "metadata": {},
   "outputs": [
    {
     "name": "stdout",
     "output_type": "stream",
     "text": [
      "RSSI   ETX   Delay  Busy   Classe   Status   Confiança \n",
      "-------------------------------------------------------\n",
      "-89    4.9   47     0.43   0        Ruim     0.52      \n",
      "-87    8.3   74     0.44   0        Ruim     0.52      \n",
      "-82    6.9   98     0.34   0        Ruim     0.51      \n",
      "-70    9.6   76     0.93   1        Bom      0.50      \n",
      "-62    8.7   61     0.82   1        Bom      0.51      \n",
      "-73    8.9   36     0.91   1        Bom      0.51      \n",
      "-80    4.7   62     0.74   1        Bom      0.52      \n",
      "-60    6.6   100    0.47   1        Bom      0.51      \n",
      "-77    9.9   78     0.43   1        Bom      0.52      \n",
      "-89    9.5   78     0.86   1        Bom      0.52      \n",
      "-95    8.3   98     0.57   1        Bom      0.52      \n",
      "-72    9.5   68     0.52   1        Bom      0.51      \n",
      "-90    7.5   48     0.90   1        Bom      0.52      \n",
      "-88    5.1   76     0.97   1        Bom      0.51      \n",
      "-85    8.9   79     0.87   1        Bom      0.52      \n",
      "-78    4.3   81     0.33   1        Bom      0.51      \n",
      "-78    4.7   37     0.40   1        Bom      0.52      \n",
      "-88    7.9   82     0.37   1        Bom      0.52      \n",
      "-88    9.1   47     0.35   1        Bom      0.52      \n",
      "-85    8.8   99     0.94   1        Bom      0.52      \n",
      "-69    8.9   71     0.66   1        Bom      0.52      \n",
      "-68    8.7   71     0.98   1        Bom      0.52      \n",
      "-79    5.2   78     0.33   1        Bom      0.51      \n",
      "-90    5.7   62     0.95   1        Bom      0.51      \n",
      "-90    6.0   75     0.81   1        Bom      0.51      \n",
      "-66    8.4   45     0.34   1        Bom      0.51      \n",
      "-63    7.2   65     0.58   1        Bom      0.52      \n",
      "-72    5.1   87     0.96   1        Bom      0.51      \n",
      "-73    9.7   33     0.69   1        Bom      0.51      \n",
      "-81    6.5   56     0.66   1        Bom      0.51      \n",
      "-75    6.4   67     0.78   1        Bom      0.51      \n",
      "-81    9.3   53     0.78   1        Bom      0.51      \n",
      "-60    8.3   85     0.38   1        Bom      0.51      \n",
      "-86    5.6   97     0.87   1        Bom      0.51      \n",
      "-73    8.1   76     0.87   1        Bom      0.51      \n",
      "-62    5.1   89     0.64   1        Bom      0.51      \n",
      "-62    4.5   41     0.91   1        Bom      0.51      \n",
      "-73    9.9   95     0.46   1        Bom      0.51      \n",
      "-69    8.2   39     0.91   1        Bom      0.51      \n",
      "-74    5.8   56     0.99   1        Bom      0.51      \n",
      "-82    7.7   85     0.86   1        Bom      0.51      \n",
      "-78    6.8   91     0.59   1        Bom      0.51      \n",
      "-80    8.7   47     0.69   1        Bom      0.51      \n",
      "-85    8.1   68     0.89   1        Bom      0.51      \n",
      "-76    10.0  96     0.84   1        Bom      0.51      \n",
      "-62    7.8   76     0.46   1        Bom      0.52      \n",
      "-74    8.8   91     0.75   1        Bom      0.52      \n",
      "-74    8.0   48     0.89   1        Bom      0.52      \n",
      "-64    6.8   99     0.60   1        Bom      0.52      \n",
      "-67    9.4   35     0.80   1        Bom      0.51      \n",
      "-67    5.2   81     0.59   1        Bom      0.51      \n",
      "-61    8.4   73     0.98   1        Bom      0.51      \n",
      "-87    9.5   46     0.88   1        Bom      0.51      \n",
      "-65    7.9   98     0.88   1        Bom      0.51      \n",
      "-81    8.0   71     0.97   1        Bom      0.51      \n",
      "-86    6.3   77     0.66   1        Bom      0.51      \n",
      "-70    9.0   35     0.77   1        Bom      0.51      \n",
      "-93    7.9   85     0.37   1        Bom      0.51      \n",
      "-83    5.8   32     0.39   1        Bom      0.51      \n",
      "-76    6.1   58     0.98   1        Bom      0.51      \n",
      "-74    9.6   72     0.58   1        Bom      0.51      \n",
      "-91    9.0   78     0.70   1        Bom      0.51      \n",
      "-60    6.1   80     0.60   1        Bom      0.52      \n",
      "-67    5.8   30     0.30   1        Bom      0.52      \n",
      "-71    7.4   72     0.50   1        Bom      0.52      \n",
      "-94    8.5   51     0.81   1        Bom      0.52      \n",
      "-65    6.2   60     0.81   1        Bom      0.52      \n",
      "-94    9.6   90     0.92   1        Bom      0.52      \n",
      "-88    4.4   41     0.53   1        Bom      0.52      \n",
      "-88    6.1   78     0.87   1        Bom      0.52      \n"
     ]
    }
   ],
   "source": [
    "print(f\"{'RSSI':<6} {'ETX':<5} {'Delay':<6} {'Busy':<6} {'Classe':<8} {'Status':<8} {'Confiança':<10}\")\n",
    "print(f\"{'-'*55}\")\n",
    "\n",
    "CLASS_NAMES = {0: \"Ruim\", 1: \"Bom\"}\n",
    "for i, row in enumerate(edges_input):\n",
    "    print(f\"{row[0]:<6.0f} {row[1]:<5.1f} {row[2]:<6.0f} {row[3]:<6.2f} \"\n",
    "          f\"{cls[i]:<8} {CLASS_NAMES[int(cls[i])]:<8} {conf[i]:<10.2f}\")"
   ]
  },
  {
   "cell_type": "markdown",
   "id": "aa2f413a",
   "metadata": {},
   "source": [
    "### Save"
   ]
  },
  {
   "cell_type": "code",
   "execution_count": 58,
   "id": "f1ad0de5",
   "metadata": {},
   "outputs": [
    {
     "name": "stdout",
     "output_type": "stream",
     "text": [
      "Filtro de Kalman salvo em ../outputs/kalman_output.csv\n"
     ]
    }
   ],
   "source": [
    "kalman_output = pd.DataFrame({\n",
    "    'class': cls,\n",
    "    'confidence': conf\n",
    "})\n",
    "\n",
    "os.makedirs(\"../outputs\", exist_ok=True)\n",
    "kalman_output.to_csv(\"../outputs/kalman_output.csv\", index=False)\n",
    "\n",
    "print(\"Filtro de Kalman salvo em ../outputs/kalman_output.csv\")"
   ]
  }
 ],
 "metadata": {
  "kernelspec": {
   "display_name": "venv (3.12.4)",
   "language": "python",
   "name": "python3"
  },
  "language_info": {
   "codemirror_mode": {
    "name": "ipython",
    "version": 3
   },
   "file_extension": ".py",
   "mimetype": "text/x-python",
   "name": "python",
   "nbconvert_exporter": "python",
   "pygments_lexer": "ipython3",
   "version": "3.12.4"
  }
 },
 "nbformat": 4,
 "nbformat_minor": 5
}
