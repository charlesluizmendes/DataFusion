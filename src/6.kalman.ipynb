{
 "cells": [
  {
   "cell_type": "markdown",
   "id": "b8f8dbf1",
   "metadata": {},
   "source": [
    "### Imports"
   ]
  },
  {
   "cell_type": "code",
   "execution_count": 1,
   "id": "d8db0a7e",
   "metadata": {},
   "outputs": [],
   "source": [
    "import os\n",
    "import numpy as np\n",
    "import pandas as pd"
   ]
  },
  {
   "cell_type": "markdown",
   "id": "7b390d1c",
   "metadata": {},
   "source": [
    "### Inputs"
   ]
  },
  {
   "cell_type": "code",
   "execution_count": 2,
   "id": "d7e271a2",
   "metadata": {},
   "outputs": [],
   "source": [
    "fusion_output_df = pd.read_csv(\"../outputs/fusion_output.csv\")\n",
    "fusion_output_class = fusion_output_df['class'].values\n",
    "fusion_output_confidence = fusion_output_df['confidence'].values"
   ]
  },
  {
   "cell_type": "code",
   "execution_count": 3,
   "id": "41a1f475",
   "metadata": {},
   "outputs": [],
   "source": [
    "edges_input_df = pd.read_csv(\"../inputs/edges_input.csv\")\n",
    "edges_input = edges_input_df.values.tolist()"
   ]
  },
  {
   "cell_type": "code",
   "execution_count": 4,
   "id": "a00683f1",
   "metadata": {},
   "outputs": [],
   "source": [
    "radnet_input_df = pd.read_csv(\"../inputs/radnet_input.csv\")\n",
    "radnet_input_apmr_edge = radnet_input_df['apmr_edge'].values\n",
    "radnet_input_mfsr_edge = radnet_input_df['mfsr_edge'].values\n",
    "radnet_input_idg_global = radnet_input_df['idg_global'].values"
   ]
  },
  {
   "cell_type": "markdown",
   "id": "1da7d5b1",
   "metadata": {},
   "source": [
    "### Kalman Filter"
   ]
  },
  {
   "cell_type": "code",
   "execution_count": 5,
   "id": "2e84fe65",
   "metadata": {},
   "outputs": [],
   "source": [
    "def kalman_filter(z, Q=1e-4, R=1e-2):\n",
    "    n = len(z)\n",
    "    xhat = np.zeros(n)\n",
    "    P = np.zeros(n)\n",
    "    xhat[0] = z[0]\n",
    "    P[0] = 1.0\n",
    "    for k in range(1, n):\n",
    "        # previsão\n",
    "        xhatminus = xhat[k-1]\n",
    "        Pminus = P[k-1] + Q\n",
    "        # atualização\n",
    "        K = Pminus / (Pminus + R)\n",
    "        xhat[k] = xhatminus + K * (z[k] - xhatminus)\n",
    "        P[k] = (1 - K) * Pminus\n",
    "    return xhat"
   ]
  },
  {
   "cell_type": "code",
   "execution_count": 6,
   "id": "310e0518",
   "metadata": {},
   "outputs": [],
   "source": [
    "confidence_fusion = np.where(fusion_output_class == 1,\n",
    "    fusion_output_confidence,\n",
    "    1.0 - fusion_output_confidence\n",
    ")"
   ]
  },
  {
   "cell_type": "code",
   "execution_count": 7,
   "id": "4ea22f2f",
   "metadata": {},
   "outputs": [],
   "source": [
    "kalman = kalman_filter(confidence_fusion)\n",
    "\n",
    "# classe final a partir do filtrado\n",
    "cls = (kalman >= 0.5).astype(int)\n",
    "\n",
    "# confiança orientada à classe escolhida\n",
    "conf = np.where(cls == 1, kalman, 1.0 - kalman)"
   ]
  },
  {
   "cell_type": "code",
   "execution_count": 8,
   "id": "448b3ce7",
   "metadata": {},
   "outputs": [
    {
     "name": "stdout",
     "output_type": "stream",
     "text": [
      "RSSI   ETX   Delay  Busy   APMR   MFSR   IDG    Classe   Status   Confiança \n",
      "---------------------------------------------------------------------------\n",
      "-60    5.5   78     0.53   0.68   0.72   0.58   0        Ruim     0.59      \n",
      "-34    2.0   38     0.34   0.57   0.68   0.67   1        Bom      0.77      \n",
      "-90    6.9   42     0.57   0.76   0.83   0.74   1        Bom      0.62      \n",
      "-85    3.2   48     0.59   0.84   0.92   0.73   1        Bom      0.59      \n",
      "-45    3.3   12     0.07   0.79   0.88   0.71   1        Bom      0.66      \n",
      "-90    6.9   86     0.67   0.48   0.55   0.64   1        Bom      0.59      \n",
      "-49    2.4   35     0.25   0.84   0.88   0.75   1        Bom      0.65      \n",
      "-36    1.1   21     0.18   0.47   0.57   0.66   1        Bom      0.66      \n",
      "-62    5.9   31     0.15   0.80   0.89   0.82   1        Bom      0.68      \n",
      "-77    8.8   84     0.75   0.78   0.87   0.76   1        Bom      0.65      \n",
      "-46    1.7   22     0.26   0.92   0.93   0.72   1        Bom      0.69      \n",
      "-41    2.7   15     0.24   0.86   0.85   0.83   1        Bom      0.72      \n",
      "-34    2.5   9      0.20   0.54   0.73   0.64   1        Bom      0.72      \n",
      "-32    3.0   11     0.17   0.88   0.94   0.89   1        Bom      0.75      \n",
      "-44    3.6   22     0.13   0.60   0.57   0.49   1        Bom      0.75      \n",
      "-48    3.6   38     0.10   0.62   0.64   0.65   1        Bom      0.75      \n",
      "-43    2.7   16     0.26   0.49   0.62   0.56   1        Bom      0.75      \n",
      "-61    7.8   39     0.37   0.46   0.53   0.51   1        Bom      0.70      \n",
      "-56    3.2   3      0.01   0.84   0.84   0.68   1        Bom      0.72      \n",
      "-70    2.9   11     0.05   0.92   0.92   0.69   1        Bom      0.74      \n",
      "-84    7.7   75     0.47   0.65   0.65   0.57   1        Bom      0.71      \n",
      "-37    3.6   36     0.03   0.55   0.78   0.59   1        Bom      0.71      \n",
      "-63    8.5   59     0.92   0.50   0.52   0.48   1        Bom      0.67      \n",
      "-51    1.9   24     0.07   0.45   0.75   0.58   1        Bom      0.68      \n",
      "-58    6.5   51     0.96   0.75   0.86   0.68   1        Bom      0.66      \n",
      "-59    3.5   6      0.29   0.81   0.84   0.82   1        Bom      0.68      \n",
      "-59    1.6   35     0.34   0.52   0.56   0.58   1        Bom      0.69      \n",
      "-80    5.6   42     0.71   0.46   0.76   0.55   1        Bom      0.66      \n",
      "-64    6.1   27     0.72   0.64   0.64   0.45   1        Bom      0.63      \n",
      "-76    9.8   77     0.51   0.88   0.94   0.80   1        Bom      0.62      \n",
      "-63    2.2   37     0.32   0.90   0.92   0.74   1        Bom      0.65      \n",
      "-44    2.0   29     0.23   0.94   0.84   0.73   1        Bom      0.67      \n",
      "-67    4.6   51     0.36   0.69   0.90   0.72   1        Bom      0.65      \n",
      "-80    7.6   77     0.74   0.50   0.65   0.59   1        Bom      0.63      \n",
      "-48    2.3   16     0.13   0.80   0.88   0.79   1        Bom      0.65      \n",
      "-62    3.1   54     0.94   0.81   0.92   0.83   1        Bom      0.64      \n",
      "-60    7.9   56     0.83   0.93   0.84   0.76   1        Bom      0.63      \n",
      "-82    5.9   36     0.77   0.59   0.65   0.62   1        Bom      0.60      \n",
      "-76    7.1   71     0.55   0.52   0.75   0.47   1        Bom      0.58      \n",
      "-68    8.5   84     0.25   0.91   0.86   0.89   1        Bom      0.58      \n",
      "-35    1.0   23     0.13   0.84   0.93   0.90   1        Bom      0.61      \n",
      "-75    6.7   78     0.48   0.66   0.55   0.53   1        Bom      0.59      \n",
      "-64    3.6   39     0.32   0.76   0.85   0.77   1        Bom      0.60      \n",
      "-64    9.1   80     0.58   0.72   0.64   0.46   1        Bom      0.58      \n",
      "-75    9.4   44     0.40   0.91   0.84   0.87   1        Bom      0.57      \n",
      "-46    3.1   18     0.31   0.75   0.90   0.70   1        Bom      0.60      \n",
      "-62    9.0   64     0.73   0.65   0.70   0.69   1        Bom      0.59      \n",
      "-47    1.5   20     0.13   0.70   0.94   0.78   1        Bom      0.61      \n",
      "-54    3.5   15     0.40   0.63   0.77   0.62   1        Bom      0.63      \n",
      "-66    9.4   66     0.50   0.76   0.93   0.77   1        Bom      0.62      \n",
      "-70    9.2   83     0.36   0.64   0.72   0.56   1        Bom      0.60      \n",
      "-68    9.8   47     0.57   0.79   0.93   0.86   1        Bom      0.59      \n",
      "-58    2.4   14     0.04   0.73   0.61   0.47   1        Bom      0.61      \n",
      "-48    1.2   6      0.07   0.93   0.93   0.75   1        Bom      0.64      \n",
      "-42    3.5   37     0.04   0.85   0.92   0.81   1        Bom      0.67      \n",
      "-58    1.7   6      0.40   0.85   0.87   0.78   1        Bom      0.69      \n",
      "-57    5.2   90     0.69   0.93   0.86   0.68   1        Bom      0.67      \n",
      "-78    6.5   50     0.45   0.63   0.74   0.66   1        Bom      0.65      \n",
      "-80    6.4   32     0.58   0.82   0.86   0.87   1        Bom      0.63      \n",
      "-78    9.6   35     0.65   0.94   0.83   0.77   1        Bom      0.62      \n",
      "-72    6.5   67     0.55   0.82   0.87   0.84   1        Bom      0.61      \n",
      "-62    4.6   51     0.81   0.61   0.56   0.56   1        Bom      0.59      \n",
      "-37    3.8   26     0.30   0.61   0.50   0.57   1        Bom      0.60      \n",
      "-48    2.6   39     0.37   0.67   0.75   0.60   1        Bom      0.62      \n",
      "-74    3.7   34     0.31   0.52   0.66   0.60   1        Bom      0.61      \n",
      "-61    4.8   53     0.45   0.57   0.60   0.66   1        Bom      0.59      \n",
      "-76    3.3   27     0.60   0.59   0.63   0.67   1        Bom      0.57      \n",
      "-34    1.9   15     0.25   0.71   0.62   0.57   1        Bom      0.59      \n",
      "-53    1.7   11     0.24   0.48   0.53   0.62   1        Bom      0.60      \n",
      "-50    3.9   38     0.17   0.60   0.70   0.51   1        Bom      0.62      \n"
     ]
    }
   ],
   "source": [
    "print(f\"{'RSSI':<6} {'ETX':<5} {'Delay':<6} {'Busy':<6} {'APMR':<6} {'MFSR':<6} {'IDG':<6} {'Classe':<8} {'Status':<8} {'Confiança':<10}\")\n",
    "print(f\"{'-'*75}\")\n",
    "\n",
    "CLASS_NAMES = {0: \"Ruim\", 1: \"Bom\"}\n",
    "\n",
    "for i, row in enumerate(edges_input):\n",
    "    print(f\"{row[0]:<6.0f} {row[1]:<5.1f} {row[2]:<6.0f} {row[3]:<6.2f} \"\n",
    "          f\"{radnet_input_apmr_edge[i]:<6.2f} {radnet_input_mfsr_edge[i]:<6.2f} {radnet_input_idg_global[i]:<6.2f} \"\n",
    "          f\"{cls[i]:<8} {CLASS_NAMES[int(cls[i])]:<8} {conf[i]:<10.2f}\")"
   ]
  },
  {
   "cell_type": "markdown",
   "id": "aa2f413a",
   "metadata": {},
   "source": [
    "### Save"
   ]
  },
  {
   "cell_type": "code",
   "execution_count": 9,
   "id": "f1ad0de5",
   "metadata": {},
   "outputs": [
    {
     "name": "stdout",
     "output_type": "stream",
     "text": [
      "Filtro de Kalman salvo em ../outputs/kalman_output.csv\n"
     ]
    }
   ],
   "source": [
    "kalman_output = pd.DataFrame({\n",
    "    'class': cls,\n",
    "    'confidence': conf\n",
    "})\n",
    "\n",
    "os.makedirs(\"../outputs\", exist_ok=True)\n",
    "kalman_output.to_csv(\"../outputs/kalman_output.csv\", index=False)\n",
    "\n",
    "print(\"Filtro de Kalman salvo em ../outputs/kalman_output.csv\")"
   ]
  }
 ],
 "metadata": {
  "kernelspec": {
   "display_name": "venv (3.12.4)",
   "language": "python",
   "name": "python3"
  },
  "language_info": {
   "codemirror_mode": {
    "name": "ipython",
    "version": 3
   },
   "file_extension": ".py",
   "mimetype": "text/x-python",
   "name": "python",
   "nbconvert_exporter": "python",
   "pygments_lexer": "ipython3",
   "version": "3.12.4"
  }
 },
 "nbformat": 4,
 "nbformat_minor": 5
}
