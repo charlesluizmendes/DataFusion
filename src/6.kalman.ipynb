{
 "cells": [
  {
   "cell_type": "markdown",
   "id": "b8f8dbf1",
   "metadata": {},
   "source": [
    "### Imports"
   ]
  },
  {
   "cell_type": "code",
   "execution_count": null,
   "id": "d8db0a7e",
   "metadata": {},
   "outputs": [],
   "source": [
    "import os\n",
    "import numpy as np\n",
    "import pandas as pd"
   ]
  },
  {
   "cell_type": "markdown",
   "id": "7b390d1c",
   "metadata": {},
   "source": [
    "### Inputs"
   ]
  },
  {
   "cell_type": "code",
   "execution_count": null,
   "id": "d7e271a2",
   "metadata": {},
   "outputs": [],
   "source": [
    "fusion_output_df = pd.read_csv(\"../outputs/fusion_output.csv\")\n",
    "fusion_output_confidence = fusion_output_df['confidence'].values"
   ]
  },
  {
   "cell_type": "code",
   "execution_count": null,
   "id": "41a1f475",
   "metadata": {},
   "outputs": [],
   "source": [
    "edges_input_df = pd.read_csv(\"../inputs/edges_input.csv\")\n",
    "edges_input = edges_input_df.values.tolist()"
   ]
  },
  {
   "cell_type": "markdown",
   "id": "1da7d5b1",
   "metadata": {},
   "source": [
    "### Kalman Filter"
   ]
  },
  {
   "cell_type": "code",
   "execution_count": null,
   "id": "2e84fe65",
   "metadata": {},
   "outputs": [],
   "source": [
    "class KalmanFilter:\n",
    "    def __init__(self, process_variance=1e-3, measurement_variance=1e-2, initial_estimate=0.5):\n",
    "        self.x = initial_estimate       \n",
    "        self.P = 1.0                    \n",
    "        self.Q = process_variance       \n",
    "        self.R = measurement_variance   \n",
    "\n",
    "    def update(self, measurement):\n",
    "        self.P += self.Q\n",
    "        K = self.P / (self.P + self.R)\n",
    "        self.x += K * (measurement - self.x)\n",
    "        self.P *= (1 - K)\n",
    "        return self.x"
   ]
  },
  {
   "cell_type": "code",
   "execution_count": null,
   "id": "c153e0f1",
   "metadata": {},
   "outputs": [],
   "source": [
    "def apply_kalman(confidences):\n",
    "    kf = KalmanFilter()\n",
    "    smoothed = []\n",
    "    for z in confidences:\n",
    "        smoothed.append(kf.update(z))\n",
    "    return np.array(smoothed)"
   ]
  },
  {
   "cell_type": "markdown",
   "id": "3af40ad2",
   "metadata": {},
   "source": [
    "### Apply"
   ]
  },
  {
   "cell_type": "code",
   "execution_count": null,
   "id": "4ea22f2f",
   "metadata": {},
   "outputs": [],
   "source": [
    "conf = apply_kalman(fusion_output_confidence)"
   ]
  },
  {
   "cell_type": "code",
   "execution_count": null,
   "id": "5c90974d",
   "metadata": {},
   "outputs": [],
   "source": [
    "tau = 0.5\n",
    "cls = (conf >= tau).astype(int)\n",
    "\n",
    "CLASS_NAMES = {0: \"Ruim\", 1: \"Bom\"}"
   ]
  },
  {
   "cell_type": "code",
   "execution_count": null,
   "id": "448b3ce7",
   "metadata": {},
   "outputs": [],
   "source": [
    "print(f\"{'RSSI':<6} {'ETX':<5} {'Delay':<6} {'Busy':<6} {'Classe':<8} {'Status':<8} {'Confiança':<10}\")\n",
    "print(f\"{'-'*55}\")\n",
    "\n",
    "for i, row in enumerate(edges_input):\n",
    "    print(f\"{row[0]:<6.0f} {row[1]:<5.1f} {row[2]:<6.0f} {row[3]:<6.2f} \"\n",
    "          f\"{cls[i]:<8} {CLASS_NAMES[cls[i]]:<8} {conf[i]:<10.2f}\")"
   ]
  },
  {
   "cell_type": "markdown",
   "id": "aa2f413a",
   "metadata": {},
   "source": [
    "### Save"
   ]
  },
  {
   "cell_type": "code",
   "execution_count": null,
   "id": "f1ad0de5",
   "metadata": {},
   "outputs": [],
   "source": [
    "kalman_output = pd.DataFrame({\n",
    "    'class': cls,\n",
    "    'confidence': conf\n",
    "})\n",
    "\n",
    "os.makedirs(\"../outputs\", exist_ok=True)\n",
    "kalman_output.to_csv(\"../outputs/kalman_output.csv\", index=False)\n",
    "\n",
    "print(\"Filtro de Kalman salvo em ../outputs/kalman_output.csv\")"
   ]
  }
 ],
 "metadata": {
  "kernelspec": {
   "display_name": "venv (3.12.4)",
   "language": "python",
   "name": "python3"
  },
  "language_info": {
   "codemirror_mode": {
    "name": "ipython",
    "version": 3
   },
   "file_extension": ".py",
   "mimetype": "text/x-python",
   "name": "python",
   "nbconvert_exporter": "python",
   "pygments_lexer": "ipython3",
   "version": "3.12.4"
  }
 },
 "nbformat": 4,
 "nbformat_minor": 5
}
