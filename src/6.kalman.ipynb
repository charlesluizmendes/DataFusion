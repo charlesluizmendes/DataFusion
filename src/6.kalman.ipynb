{
 "cells": [
  {
   "cell_type": "markdown",
   "id": "b8f8dbf1",
   "metadata": {},
   "source": [
    "### Imports"
   ]
  },
  {
   "cell_type": "code",
   "execution_count": 16,
   "id": "d8db0a7e",
   "metadata": {},
   "outputs": [],
   "source": [
    "import os\n",
    "import numpy as np\n",
    "import pandas as pd"
   ]
  },
  {
   "cell_type": "markdown",
   "id": "7b390d1c",
   "metadata": {},
   "source": [
    "### Inputs"
   ]
  },
  {
   "cell_type": "code",
   "execution_count": 17,
   "id": "d7e271a2",
   "metadata": {},
   "outputs": [],
   "source": [
    "fusion_output_df = pd.read_csv(\"../outputs/fusion_output.csv\")\n",
    "fusion_output_class = fusion_output_df['class'].values\n",
    "fusion_output_confidence = fusion_output_df['confidence'].values"
   ]
  },
  {
   "cell_type": "code",
   "execution_count": 18,
   "id": "41a1f475",
   "metadata": {},
   "outputs": [],
   "source": [
    "edges_input_df = pd.read_csv(\"../inputs/edges_input.csv\")\n",
    "edges_input = edges_input_df.values.tolist()"
   ]
  },
  {
   "cell_type": "markdown",
   "id": "1da7d5b1",
   "metadata": {},
   "source": [
    "### Kalman Filter"
   ]
  },
  {
   "cell_type": "code",
   "execution_count": 19,
   "id": "2e84fe65",
   "metadata": {},
   "outputs": [],
   "source": [
    "def kalman_filter_1d(z, Q=1e-4, R=1e-2):\n",
    "    n = len(z)\n",
    "    xhat = np.zeros(n)\n",
    "    P = np.zeros(n)\n",
    "    xhat[0] = z[0]\n",
    "    P[0] = 1.0\n",
    "    for k in range(1, n):\n",
    "        # previsão\n",
    "        xhatminus = xhat[k-1]\n",
    "        Pminus = P[k-1] + Q\n",
    "        # atualização\n",
    "        K = Pminus / (Pminus + R)\n",
    "        xhat[k] = xhatminus + K * (z[k] - xhatminus)\n",
    "        P[k] = (1 - K) * Pminus\n",
    "    return xhat"
   ]
  },
  {
   "cell_type": "markdown",
   "id": "3af40ad2",
   "metadata": {},
   "source": [
    "### Apply"
   ]
  },
  {
   "cell_type": "code",
   "execution_count": 20,
   "id": "4ea22f2f",
   "metadata": {},
   "outputs": [],
   "source": [
    "conf = kalman_filter_1d(fusion_output_confidence)\n",
    "cls = np.where(conf < 0.5, 1 - fusion_output_class, fusion_output_class)"
   ]
  },
  {
   "cell_type": "code",
   "execution_count": 21,
   "id": "448b3ce7",
   "metadata": {},
   "outputs": [
    {
     "name": "stdout",
     "output_type": "stream",
     "text": [
      "RSSI   ETX   Delay  Busy   Classe   Status   Confiança \n",
      "-------------------------------------------------------\n",
      "-83    8.3   100    0.72   0        Ruim     0.80      \n",
      "-89    5.0   58     0.84   0        Ruim     0.80      \n",
      "-69    5.7   33     0.57   0        Ruim     0.85      \n",
      "-85    7.5   62     0.81   0        Ruim     0.85      \n",
      "-88    4.0   36     0.81   0        Ruim     0.86      \n",
      "-70    4.5   67     0.89   0        Ruim     0.88      \n",
      "-84    9.3   42     0.73   0        Ruim     0.89      \n",
      "-70    9.8   98     0.63   0        Ruim     0.87      \n",
      "-65    9.8   42     0.43   0        Ruim     0.88      \n",
      "-64    5.4   98     0.90   0        Ruim     0.89      \n",
      "-74    7.2   40     0.91   0        Ruim     0.89      \n",
      "-73    7.2   40     0.37   0        Ruim     0.89      \n",
      "-71    9.0   74     0.58   0        Ruim     0.90      \n",
      "-82    8.4   90     0.96   0        Ruim     0.89      \n",
      "-61    6.2   49     0.44   0        Ruim     0.89      \n",
      "-87    8.3   83     0.70   0        Ruim     0.90      \n",
      "-89    7.8   53     0.86   0        Ruim     0.89      \n",
      "-92    4.2   86     0.87   0        Ruim     0.88      \n",
      "-71    9.5   64     0.32   0        Ruim     0.89      \n",
      "-86    9.5   69     0.99   0        Ruim     0.88      \n",
      "-89    4.9   50     0.92   0        Ruim     0.88      \n",
      "-62    6.3   67     0.64   0        Ruim     0.88      \n",
      "-89    6.4   78     0.89   0        Ruim     0.89      \n",
      "-90    4.4   92     0.98   0        Ruim     0.89      \n",
      "-68    8.4   75     0.94   0        Ruim     0.88      \n",
      "-78    7.7   52     0.39   0        Ruim     0.88      \n",
      "-73    9.9   87     0.67   0        Ruim     0.87      \n",
      "-74    4.8   32     0.77   0        Ruim     0.86      \n",
      "-87    8.8   40     0.58   0        Ruim     0.87      \n",
      "-85    8.4   47     0.38   0        Ruim     0.87      \n",
      "-92    4.8   74     0.38   0        Ruim     0.87      \n",
      "-67    4.1   50     0.64   0        Ruim     0.87      \n",
      "-81    7.3   32     0.33   0        Ruim     0.86      \n",
      "-94    8.2   74     0.98   0        Ruim     0.86      \n",
      "-75    8.9   74     0.65   0        Ruim     0.85      \n",
      "-78    9.5   56     0.70   0        Ruim     0.84      \n",
      "-90    9.1   35     0.92   0        Ruim     0.84      \n",
      "-89    7.3   72     0.88   0        Ruim     0.85      \n",
      "-79    9.8   40     0.61   0        Ruim     0.86      \n",
      "-92    5.7   90     0.96   0        Ruim     0.85      \n",
      "-89    7.2   80     0.86   0        Ruim     0.86      \n",
      "-75    9.6   52     0.46   0        Ruim     0.87      \n",
      "-86    5.0   58     0.41   0        Ruim     0.86      \n",
      "-66    8.0   71     0.94   0        Ruim     0.85      \n",
      "-61    9.7   92     0.55   0        Ruim     0.85      \n",
      "-63    6.7   97     0.47   0        Ruim     0.85      \n",
      "-79    8.0   53     0.42   0        Ruim     0.85      \n",
      "-89    5.6   42     0.42   0        Ruim     0.85      \n",
      "-80    9.5   48     0.99   0        Ruim     0.84      \n",
      "-63    6.2   71     0.33   0        Ruim     0.84      \n",
      "-73    7.9   34     0.81   0        Ruim     0.83      \n",
      "-63    9.6   74     0.78   0        Ruim     0.83      \n",
      "-84    6.9   54     0.50   0        Ruim     0.83      \n",
      "-70    9.8   43     0.50   0        Ruim     0.84      \n",
      "-71    5.0   72     0.68   0        Ruim     0.84      \n",
      "-63    7.2   77     0.98   0        Ruim     0.84      \n",
      "-85    9.2   62     0.85   0        Ruim     0.84      \n",
      "-76    8.4   62     0.74   0        Ruim     0.84      \n",
      "-77    8.0   65     0.89   0        Ruim     0.84      \n",
      "-87    7.7   92     0.93   0        Ruim     0.85      \n",
      "-72    7.0   47     0.92   0        Ruim     0.86      \n",
      "-61    8.7   64     0.78   0        Ruim     0.85      \n",
      "-66    7.9   56     0.68   0        Ruim     0.86      \n",
      "-90    7.7   70     0.94   0        Ruim     0.87      \n",
      "-61    8.7   33     0.39   0        Ruim     0.87      \n",
      "-80    8.3   49     0.31   0        Ruim     0.87      \n",
      "-68    6.2   52     0.43   0        Ruim     0.88      \n",
      "-84    8.8   69     0.34   0        Ruim     0.88      \n",
      "-63    4.3   80     0.61   0        Ruim     0.88      \n",
      "-67    9.3   57     0.42   0        Ruim     0.88      \n"
     ]
    }
   ],
   "source": [
    "print(f\"{'RSSI':<6} {'ETX':<5} {'Delay':<6} {'Busy':<6} {'Classe':<8} {'Status':<8} {'Confiança':<10}\")\n",
    "print(f\"{'-'*55}\")\n",
    "\n",
    "CLASS_NAMES = {0: \"Ruim\", 1: \"Bom\"}\n",
    "\n",
    "for i, row in enumerate(edges_input):\n",
    "    print(f\"{row[0]:<6.0f} {row[1]:<5.1f} {row[2]:<6.0f} {row[3]:<6.2f} \"\n",
    "          f\"{cls[i]:<8} {CLASS_NAMES[cls[i]]:<8} {conf[i]:<10.2f}\")"
   ]
  },
  {
   "cell_type": "markdown",
   "id": "aa2f413a",
   "metadata": {},
   "source": [
    "### Save"
   ]
  },
  {
   "cell_type": "code",
   "execution_count": 22,
   "id": "f1ad0de5",
   "metadata": {},
   "outputs": [
    {
     "name": "stdout",
     "output_type": "stream",
     "text": [
      "Filtro de Kalman salvo em ../outputs/kalman_output.csv\n"
     ]
    }
   ],
   "source": [
    "kalman_output = pd.DataFrame({\n",
    "    'class': cls,\n",
    "    'confidence': conf\n",
    "})\n",
    "\n",
    "os.makedirs(\"../outputs\", exist_ok=True)\n",
    "kalman_output.to_csv(\"../outputs/kalman_output.csv\", index=False)\n",
    "\n",
    "print(\"Filtro de Kalman salvo em ../outputs/kalman_output.csv\")"
   ]
  }
 ],
 "metadata": {
  "kernelspec": {
   "display_name": "venv (3.12.4)",
   "language": "python",
   "name": "python3"
  },
  "language_info": {
   "codemirror_mode": {
    "name": "ipython",
    "version": 3
   },
   "file_extension": ".py",
   "mimetype": "text/x-python",
   "name": "python",
   "nbconvert_exporter": "python",
   "pygments_lexer": "ipython3",
   "version": "3.12.4"
  }
 },
 "nbformat": 4,
 "nbformat_minor": 5
}
