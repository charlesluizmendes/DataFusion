{
 "cells": [
  {
   "cell_type": "markdown",
   "id": "b8f8dbf1",
   "metadata": {},
   "source": [
    "### Imports"
   ]
  },
  {
   "cell_type": "code",
   "execution_count": 1,
   "id": "d8db0a7e",
   "metadata": {},
   "outputs": [],
   "source": [
    "import os\n",
    "import numpy as np\n",
    "import pandas as pd"
   ]
  },
  {
   "cell_type": "markdown",
   "id": "7b390d1c",
   "metadata": {},
   "source": [
    "### Inputs"
   ]
  },
  {
   "cell_type": "code",
   "execution_count": 2,
   "id": "d7e271a2",
   "metadata": {},
   "outputs": [],
   "source": [
    "fusion_output_df = pd.read_csv(\"../outputs/fusion_output.csv\")\n",
    "fusion_output_confidence = fusion_output_df['confidence'].values"
   ]
  },
  {
   "cell_type": "code",
   "execution_count": 3,
   "id": "41a1f475",
   "metadata": {},
   "outputs": [],
   "source": [
    "edges_input_df = pd.read_csv(\"../inputs/edges_input.csv\")\n",
    "edges_input = edges_input_df.values.tolist()"
   ]
  },
  {
   "cell_type": "markdown",
   "id": "1da7d5b1",
   "metadata": {},
   "source": [
    "### Kalman Filter"
   ]
  },
  {
   "cell_type": "code",
   "execution_count": 4,
   "id": "2e84fe65",
   "metadata": {},
   "outputs": [],
   "source": [
    "class KalmanFilter:\n",
    "    def __init__(self, process_variance=1e-3, measurement_variance=1e-2, initial_estimate=0.5):\n",
    "        self.x = initial_estimate       \n",
    "        self.P = 1.0                    \n",
    "        self.Q = process_variance       \n",
    "        self.R = measurement_variance   \n",
    "\n",
    "    def update(self, measurement):\n",
    "        self.P += self.Q\n",
    "        K = self.P / (self.P + self.R)\n",
    "        self.x += K * (measurement - self.x)\n",
    "        self.P *= (1 - K)\n",
    "        return self.x"
   ]
  },
  {
   "cell_type": "code",
   "execution_count": 5,
   "id": "c153e0f1",
   "metadata": {},
   "outputs": [],
   "source": [
    "def apply_kalman(confidences):\n",
    "    kf = KalmanFilter()\n",
    "    smoothed = []\n",
    "    for z in confidences:\n",
    "        smoothed.append(kf.update(z))\n",
    "    return np.array(smoothed)"
   ]
  },
  {
   "cell_type": "markdown",
   "id": "3af40ad2",
   "metadata": {},
   "source": [
    "### Apply"
   ]
  },
  {
   "cell_type": "code",
   "execution_count": 6,
   "id": "4ea22f2f",
   "metadata": {},
   "outputs": [],
   "source": [
    "conf = apply_kalman(fusion_output_confidence)"
   ]
  },
  {
   "cell_type": "code",
   "execution_count": 7,
   "id": "5c90974d",
   "metadata": {},
   "outputs": [],
   "source": [
    "tau = 0.5\n",
    "cls = (conf >= tau).astype(int)\n",
    "\n",
    "CLASS_NAMES = {0: \"Ruim\", 1: \"Bom\"}"
   ]
  },
  {
   "cell_type": "code",
   "execution_count": 8,
   "id": "448b3ce7",
   "metadata": {},
   "outputs": [
    {
     "name": "stdout",
     "output_type": "stream",
     "text": [
      "RSSI   ETX   Delay  Busy   Classe   Status   Confiança \n",
      "-------------------------------------------------------\n",
      "-87    3.8   38     0.58   1        Bom      0.95      \n",
      "-79    6.7   30     0.63   1        Bom      0.96      \n",
      "-60    3.1   37     0.39   1        Bom      0.89      \n",
      "-54    1.2   38     0.26   1        Bom      0.91      \n",
      "-47    2.7   26     0.16   1        Bom      0.92      \n",
      "-88    6.8   68     0.97   1        Bom      0.94      \n",
      "-61    2.9   25     0.01   1        Bom      0.94      \n",
      "-41    3.9   16     0.09   1        Bom      0.95      \n",
      "-62    1.3   25     0.27   1        Bom      0.94      \n",
      "-54    2.2   2      0.09   1        Bom      0.95      \n",
      "-83    7.1   53     0.71   1        Bom      0.95      \n",
      "-42    3.6   18     0.22   1        Bom      0.95      \n",
      "-85    5.1   81     0.96   1        Bom      0.94      \n",
      "-67    8.3   62     0.45   1        Bom      0.94      \n",
      "-60    3.6   33     0.79   1        Bom      0.94      \n",
      "-53    1.3   2      0.39   1        Bom      0.94      \n",
      "-67    6.9   92     0.75   1        Bom      0.94      \n",
      "-60    2.3   33     0.08   1        Bom      0.94      \n",
      "-37    1.4   22     0.22   1        Bom      0.94      \n",
      "-52    1.8   37     0.31   1        Bom      0.95      \n",
      "-65    4.5   75     0.61   1        Bom      0.95      \n",
      "-59    2.8   32     0.40   1        Bom      0.93      \n",
      "-72    8.9   33     0.81   1        Bom      0.93      \n",
      "-59    5.8   78     0.80   1        Bom      0.94      \n",
      "-55    2.3   11     0.33   1        Bom      0.94      \n",
      "-55    1.9   26     0.17   1        Bom      0.95      \n",
      "-59    8.0   80     0.36   1        Bom      0.94      \n",
      "-62    3.5   25     0.32   1        Bom      0.93      \n",
      "-51    6.4   36     0.73   1        Bom      0.94      \n",
      "-39    1.5   18     0.02   1        Bom      0.94      \n",
      "-54    3.8   16     0.06   1        Bom      0.95      \n",
      "-72    4.1   23     0.30   1        Bom      0.89      \n",
      "-62    4.5   80     0.60   1        Bom      0.91      \n",
      "-46    3.2   92     0.69   1        Bom      0.92      \n",
      "-85    4.2   91     0.62   1        Bom      0.92      \n",
      "-84    3.4   46     1.00   1        Bom      0.93      \n",
      "-64    8.1   94     0.40   1        Bom      0.93      \n",
      "-71    3.6   89     0.97   1        Bom      0.93      \n",
      "-84    7.4   31     0.39   1        Bom      0.94      \n",
      "-61    2.4   38     0.34   1        Bom      0.92      \n",
      "-69    7.3   27     0.61   1        Bom      0.93      \n",
      "-57    9.8   82     0.80   1        Bom      0.93      \n",
      "-61    9.0   68     0.39   1        Bom      0.94      \n",
      "-60    2.9   5      0.17   1        Bom      0.94      \n",
      "-59    2.1   14     0.38   1        Bom      0.94      \n",
      "-43    2.3   12     0.30   1        Bom      0.95      \n",
      "-68    4.9   81     0.66   1        Bom      0.95      \n",
      "-80    7.6   52     0.64   1        Bom      0.95      \n",
      "-73    6.4   97     0.97   1        Bom      0.95      \n",
      "-87    5.7   55     0.26   1        Bom      0.96      \n",
      "-52    3.0   6      0.03   1        Bom      0.95      \n",
      "-59    2.0   5      0.04   1        Bom      0.95      \n",
      "-81    4.5   84     0.44   1        Bom      0.95      \n",
      "-37    3.6   10     0.31   1        Bom      0.96      \n",
      "-80    5.2   40     0.41   1        Bom      0.95      \n",
      "-62    7.0   45     0.35   1        Bom      0.94      \n",
      "-75    6.5   37     0.32   1        Bom      0.94      \n",
      "-64    1.7   14     0.12   1        Bom      0.94      \n",
      "-65    7.8   40     0.55   1        Bom      0.95      \n",
      "-56    3.3   28     0.19   1        Bom      0.94      \n",
      "-34    1.9   26     0.13   1        Bom      0.94      \n",
      "-78    4.4   1      0.38   1        Bom      0.90      \n",
      "-36    2.7   30     0.33   1        Bom      0.92      \n",
      "-77    3.9   12     0.44   1        Bom      0.82      \n",
      "-77    4.7   88     0.35   1        Bom      0.86      \n",
      "-34    2.8   13     0.08   1        Bom      0.88      \n",
      "-35    1.2   25     0.12   1        Bom      0.90      \n",
      "-51    2.0   17     0.19   1        Bom      0.91      \n",
      "-30    2.0   37     0.29   1        Bom      0.92      \n",
      "-59    3.6   34     0.02   1        Bom      0.93      \n"
     ]
    }
   ],
   "source": [
    "print(f\"{'RSSI':<6} {'ETX':<5} {'Delay':<6} {'Busy':<6} {'Classe':<8} {'Status':<8} {'Confiança':<10}\")\n",
    "print(f\"{'-'*55}\")\n",
    "\n",
    "for i, row in enumerate(edges_input):\n",
    "    print(f\"{row[0]:<6.0f} {row[1]:<5.1f} {row[2]:<6.0f} {row[3]:<6.2f} \"\n",
    "          f\"{cls[i]:<8} {CLASS_NAMES[cls[i]]:<8} {conf[i]:<10.2f}\")"
   ]
  },
  {
   "cell_type": "markdown",
   "id": "aa2f413a",
   "metadata": {},
   "source": [
    "### Save"
   ]
  },
  {
   "cell_type": "code",
   "execution_count": 9,
   "id": "f1ad0de5",
   "metadata": {},
   "outputs": [
    {
     "name": "stdout",
     "output_type": "stream",
     "text": [
      "Filtro de Kalman salvo em ../outputs/kalman_output.csv\n"
     ]
    }
   ],
   "source": [
    "kalman_output = pd.DataFrame({\n",
    "    'class': cls,\n",
    "    'confidence': conf\n",
    "})\n",
    "\n",
    "os.makedirs(\"../outputs\", exist_ok=True)\n",
    "kalman_output.to_csv(\"../outputs/kalman_output.csv\", index=False)\n",
    "\n",
    "print(\"Filtro de Kalman salvo em ../outputs/kalman_output.csv\")"
   ]
  }
 ],
 "metadata": {
  "kernelspec": {
   "display_name": "venv (3.12.4)",
   "language": "python",
   "name": "python3"
  },
  "language_info": {
   "codemirror_mode": {
    "name": "ipython",
    "version": 3
   },
   "file_extension": ".py",
   "mimetype": "text/x-python",
   "name": "python",
   "nbconvert_exporter": "python",
   "pygments_lexer": "ipython3",
   "version": "3.12.4"
  }
 },
 "nbformat": 4,
 "nbformat_minor": 5
}
