{
 "cells": [
  {
   "cell_type": "markdown",
   "id": "3b72beb0",
   "metadata": {},
   "source": [
    "### Imports"
   ]
  },
  {
   "cell_type": "code",
   "execution_count": null,
   "id": "e3807161",
   "metadata": {},
   "outputs": [],
   "source": [
    "import pandas as pd\n",
    "import numpy as np\n",
    "import matplotlib.pyplot as plt"
   ]
  },
  {
   "cell_type": "markdown",
   "id": "9da111f0",
   "metadata": {},
   "source": [
    "### Inputs"
   ]
  },
  {
   "cell_type": "code",
   "execution_count": null,
   "id": "10218f2c",
   "metadata": {},
   "outputs": [],
   "source": [
    "inference_output_df = pd.read_csv(\"../outputs/inference_output.csv\")\n",
    "inference_output_confidence = inference_output_df['confidence'].values"
   ]
  },
  {
   "cell_type": "code",
   "execution_count": null,
   "id": "00125f09",
   "metadata": {},
   "outputs": [],
   "source": [
    "fusion_output_df = pd.read_csv(\"../outputs/fusion_output.csv\")\n",
    "fusion_output_confidence = fusion_output_df['confidence'].values"
   ]
  },
  {
   "cell_type": "code",
   "execution_count": null,
   "id": "bb92b780",
   "metadata": {},
   "outputs": [],
   "source": [
    "kalman_output_df = pd.read_csv(\"../outputs/kalman_output.csv\")\n",
    "kalman_output_confidence = kalman_output_df['confidence'].values"
   ]
  },
  {
   "cell_type": "markdown",
   "id": "d215f89f",
   "metadata": {},
   "source": [
    "### Comparação: GNN vs Fusão vs Kalman"
   ]
  },
  {
   "cell_type": "code",
   "execution_count": null,
   "id": "27e36781",
   "metadata": {},
   "outputs": [],
   "source": [
    "plt.figure(figsize=(10,6))\n",
    "\n",
    "plt.plot(inference_output_confidence, label=\"GNN Inferência\", alpha=0.7)\n",
    "plt.plot(fusion_output_confidence, label=\"Fusão Espacial\", alpha=0.7)\n",
    "plt.plot(kalman_output_confidence, label=\"Filtro de Kalman\", linewidth=2)\n",
    "\n",
    "plt.title(\"Comparação: GNN vs Fusão Espacial vs Filtro de Kalman\")\n",
    "plt.xlabel(\"Amostras\")\n",
    "plt.ylabel(\"Confiança\")\n",
    "\n",
    "plt.legend()\n",
    "plt.grid(True, alpha=0.3)\n",
    "plt.ylim(0, 1)\n",
    "\n",
    "plt.show()"
   ]
  },
  {
   "cell_type": "markdown",
   "id": "5e55224c",
   "metadata": {},
   "source": [
    "O gráfico mostra a comparação entre GNN, Fusão e Kalman em várias amostras.\n",
    "\n",
    "- A GNN atinge valores altos de confiança, mas é bastante instável, caindo a zero em vários pontos.\n",
    "- A Fusão apresenta resultados mais estáveis, geralmente entre 0.6 e 0.9, embora com quedas ocasionais.\n",
    "- O Kalman é o mais regular, mantendo uma linha mais suave, mas com valores médios inferiores aos da GNN.\n",
    "\n",
    "Assim, a GNN tem maior potencial, porém a Fusão e o Kalman oferecem mais consistência."
   ]
  },
  {
   "cell_type": "markdown",
   "id": "03eb456e",
   "metadata": {},
   "source": [
    "### Comparação: GNN vs Fusão vs Kalman (primeiras 10 amostras)"
   ]
  },
  {
   "cell_type": "code",
   "execution_count": null,
   "id": "cbc5fcd2",
   "metadata": {},
   "outputs": [],
   "source": [
    "N = min(10, len(inference_output_confidence))\n",
    "idx = np.arange(N)\n",
    "ml_10  = np.array(inference_output_confidence[:N])\n",
    "fus_10 = np.array(fusion_output_confidence[:N])\n",
    "kal_10 = np.array(kalman_output_confidence[:N])\n",
    "\n",
    "bar_w = 0.27\n",
    "fig, ax = plt.subplots(figsize=(12, 5))\n",
    "b1 = ax.bar(idx - bar_w, ml_10,  width=bar_w, label=\"ML (Inference)\", color='skyblue')\n",
    "b2 = ax.bar(idx,          fus_10, width=bar_w, label=\"Fusão Espacial\", color='orange')\n",
    "b3 = ax.bar(idx + bar_w,  kal_10, width=bar_w, label=\"Filtro de Kalman\", color='green')\n",
    "\n",
    "ymin = -0.05\n",
    "ymax = 1.05           \n",
    "ax.set_ylim(ymin, ymax)\n",
    "\n",
    "ticks = np.linspace(0, 1, 6)  \n",
    "ax.set_yticks(ticks)\n",
    "ax.set_yticklabels([f\"{t:.1f}\" for t in ticks])\n",
    "\n",
    "dy = 0.015 * (ymax - ymin)\n",
    "\n",
    "def annotate_bars(bars, fmt=\"{:.2f}\", delta=dy):\n",
    "    for bar in bars:\n",
    "        h = bar.get_height()\n",
    "        ax.text(\n",
    "            bar.get_x() + bar.get_width()/2., h + delta,\n",
    "            fmt.format(h),\n",
    "            ha=\"center\", va=\"bottom\", fontsize=9, clip_on=False\n",
    "        )\n",
    "\n",
    "annotate_bars(b1)\n",
    "annotate_bars(b2)\n",
    "annotate_bars(b3)\n",
    "\n",
    "plt.title(\"Comparação: ML vs Fusão Espacial vs Filtro de Kalman (primeiras 10 amostras)\")\n",
    "plt.xlabel(\"Amostras (Arestas)\")\n",
    "plt.ylabel(\"Confiança\")\n",
    "\n",
    "plt.xticks(idx, [str(i) for i in idx])\n",
    "plt.legend(loc=\"lower left\")\n",
    "\n",
    "plt.grid(True, axis=\"y\", alpha=0.3)\n",
    "plt.tight_layout()\n",
    "\n",
    "plt.show()"
   ]
  },
  {
   "cell_type": "markdown",
   "id": "8c64be0e",
   "metadata": {},
   "source": [
    "O gráfico compara a confiança dos métodos GNN, Fusão e Kalman em 10 amostras.\n",
    "\n",
    "- A GNN apresenta os melhores resultados na maioria dos casos, chegando a 1.0 em várias amostras, mostrando-se mais consistente e confiável.\n",
    "- A Fusão mantém desempenho intermediário, mas cai bastante em algumas amostras (3 e 4).\n",
    "- O Kalman é mais irregular: em certos pontos supera a Fusão, mas geralmente fica abaixo da GNN.\n",
    "\n",
    "No geral, a GNN é o método mais robusto, enquanto Fusão e Kalman variam mais nos resultados."
   ]
  }
 ],
 "metadata": {
  "kernelspec": {
   "display_name": "venv (3.12.4)",
   "language": "python",
   "name": "python3"
  },
  "language_info": {
   "codemirror_mode": {
    "name": "ipython",
    "version": 3
   },
   "file_extension": ".py",
   "mimetype": "text/x-python",
   "name": "python",
   "nbconvert_exporter": "python",
   "pygments_lexer": "ipython3",
   "version": "3.12.4"
  }
 },
 "nbformat": 4,
 "nbformat_minor": 5
}
