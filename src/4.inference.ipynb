{
 "cells": [
  {
   "cell_type": "markdown",
   "id": "1f8bfe9d",
   "metadata": {},
   "source": [
    "### Imports"
   ]
  },
  {
   "cell_type": "code",
   "execution_count": 36,
   "id": "fd5830c0",
   "metadata": {},
   "outputs": [],
   "source": [
    "import os\n",
    "import torch\n",
    "import torch.nn as nn\n",
    "import torch.nn.functional as F\n",
    "import pandas as pd\n",
    "import joblib"
   ]
  },
  {
   "cell_type": "markdown",
   "id": "8de615ab",
   "metadata": {},
   "source": [
    "### Model"
   ]
  },
  {
   "cell_type": "code",
   "execution_count": 37,
   "id": "dd1b6001",
   "metadata": {},
   "outputs": [],
   "source": [
    "class GNN(nn.Module):\n",
    "    def __init__(self, in_dim=4, hidden=16, out_dim=2):\n",
    "        super().__init__()\n",
    "        self.net = nn.Sequential(\n",
    "            nn.Linear(in_dim, hidden),\n",
    "            nn.ReLU(),\n",
    "            nn.Linear(hidden, out_dim)\n",
    "        )\n",
    "    def forward(self, x):\n",
    "        return self.net(x)"
   ]
  },
  {
   "cell_type": "markdown",
   "id": "05c08992",
   "metadata": {},
   "source": [
    "### Load Model"
   ]
  },
  {
   "cell_type": "code",
   "execution_count": 38,
   "id": "31a3717c",
   "metadata": {},
   "outputs": [],
   "source": [
    "model = GNN()\n",
    "model.load_state_dict(torch.load(\"../models/gnn_model.pth\", weights_only=True))\n",
    "model.eval()\n",
    "\n",
    "scaler = joblib.load(\"../models/scaler_model.pkl\")"
   ]
  },
  {
   "cell_type": "markdown",
   "id": "cfa809ae",
   "metadata": {},
   "source": [
    "### Inputs"
   ]
  },
  {
   "cell_type": "code",
   "execution_count": 39,
   "id": "b5cd0b26",
   "metadata": {},
   "outputs": [],
   "source": [
    "edges_input_df = pd.read_csv(\"../inputs/edges_input.csv\")\n",
    "edges_input = edges_input_df.values.tolist()\n",
    "\n",
    "X_test = torch.tensor(scaler.transform(edges_input), dtype=torch.float)"
   ]
  },
  {
   "cell_type": "markdown",
   "id": "03c0ded4",
   "metadata": {},
   "source": [
    "### Inference"
   ]
  },
  {
   "cell_type": "code",
   "execution_count": 40,
   "id": "d3ffa6b0",
   "metadata": {},
   "outputs": [],
   "source": [
    "with torch.no_grad():\n",
    "    logits = model(X_test)\n",
    "    probs = F.softmax(logits, dim=1)\n",
    "    preds = probs.argmax(dim=1)"
   ]
  },
  {
   "cell_type": "code",
   "execution_count": 41,
   "id": "3dae9bab",
   "metadata": {},
   "outputs": [
    {
     "name": "stdout",
     "output_type": "stream",
     "text": [
      "RSSI   ETX   Delay  Busy   Classe   Status   Confiança \n",
      "-------------------------------------------------------\n",
      "-72    8.6   83     0.69   0        Ruim     1.00      \n",
      "-84    3.6   37     0.71   0        Ruim     0.99      \n",
      "-89    8.8   63     0.45   0        Ruim     1.00      \n",
      "-36    3.0   22     0.20   1        Bom      1.00      \n",
      "-58    4.8   53     0.75   0        Ruim     1.00      \n",
      "-57    1.5   22     0.37   1        Bom      0.99      \n",
      "-83    7.4   89     0.37   0        Ruim     1.00      \n",
      "-67    6.5   86     0.51   0        Ruim     1.00      \n",
      "-50    3.6   23     0.26   1        Bom      0.98      \n",
      "-68    5.2   40     0.90   0        Ruim     1.00      \n",
      "-87    9.6   65     0.66   0        Ruim     1.00      \n",
      "-32    3.0   23     0.21   1        Bom      1.00      \n",
      "-62    4.2   87     0.92   0        Ruim     1.00      \n",
      "-67    3.2   36     0.32   1        Bom      0.82      \n",
      "-65    3.0   36     0.22   1        Bom      0.94      \n",
      "-37    2.5   31     0.29   1        Bom      1.00      \n",
      "-34    2.7   32     0.27   1        Bom      1.00      \n",
      "-61    1.7   26     0.32   1        Bom      0.98      \n",
      "-74    8.4   64     0.49   0        Ruim     1.00      \n",
      "-82    9.1   84     0.47   0        Ruim     1.00      \n",
      "-62    3.4   88     0.70   0        Ruim     1.00      \n",
      "-75    9.1   39     0.87   0        Ruim     1.00      \n",
      "-50    1.3   15     0.04   1        Bom      1.00      \n",
      "-34    2.4   24     0.12   1        Bom      1.00      \n",
      "-43    2.7   25     0.06   1        Bom      1.00      \n",
      "-69    3.6   38     0.77   0        Ruim     0.99      \n",
      "-60    7.4   40     0.44   0        Ruim     0.99      \n",
      "-60    3.6   16     0.03   1        Bom      0.99      \n",
      "-73    7.4   46     0.55   0        Ruim     1.00      \n",
      "-35    2.2   40     0.37   1        Bom      0.99      \n",
      "-59    7.9   35     0.27   0        Ruim     0.94      \n",
      "-83    8.7   91     0.55   0        Ruim     1.00      \n",
      "-58    4.9   37     0.28   1        Bom      0.76      \n",
      "-61    2.5   24     0.34   1        Bom      0.97      \n",
      "-62    2.7   37     0.28   1        Bom      0.94      \n",
      "-80    3.5   87     0.53   0        Ruim     1.00      \n",
      "-38    1.2   18     0.30   1        Bom      1.00      \n",
      "-59    3.4   40     0.37   1        Bom      0.80      \n",
      "-46    3.2   6      0.18   1        Bom      1.00      \n",
      "-52    2.2   3      0.34   1        Bom      1.00      \n",
      "-42    1.2   29     0.06   1        Bom      1.00      \n",
      "-58    3.9   3      0.13   1        Bom      0.99      \n",
      "-63    8.4   52     0.43   0        Ruim     1.00      \n",
      "-66    4.7   38     0.31   0        Ruim     0.56      \n",
      "-65    5.8   60     0.76   0        Ruim     1.00      \n",
      "-64    1.6   5      0.31   1        Bom      0.99      \n",
      "-87    8.1   87     0.32   0        Ruim     1.00      \n",
      "-84    8.6   30     0.76   0        Ruim     1.00      \n",
      "-31    1.0   10     0.07   1        Bom      1.00      \n",
      "-56    2.6   39     0.06   1        Bom      0.99      \n",
      "-31    3.6   6      0.14   1        Bom      1.00      \n",
      "-55    4.0   93     0.39   0        Ruim     0.98      \n",
      "-63    5.4   23     0.37   0        Ruim     0.51      \n",
      "-62    8.2   88     0.66   0        Ruim     1.00      \n",
      "-62    1.3   10     0.15   1        Bom      1.00      \n",
      "-54    3.2   36     0.41   1        Bom      0.88      \n",
      "-36    2.6   32     0.32   1        Bom      0.99      \n",
      "-68    9.0   79     0.32   0        Ruim     1.00      \n",
      "-73    5.8   63     0.49   0        Ruim     1.00      \n",
      "-52    2.5   28     0.02   1        Bom      1.00      \n",
      "-61    9.2   50     0.30   0        Ruim     1.00      \n",
      "-83    9.7   52     0.45   0        Ruim     1.00      \n",
      "-75    7.0   61     0.74   0        Ruim     1.00      \n",
      "-59    2.5   4      0.19   1        Bom      1.00      \n",
      "-67    3.3   85     0.76   0        Ruim     1.00      \n",
      "-30    1.2   3      0.16   1        Bom      1.00      \n",
      "-76    2.2   17     0.18   1        Bom      0.97      \n",
      "-46    2.6   27     0.11   1        Bom      1.00      \n",
      "-43    1.4   33     0.05   1        Bom      1.00      \n",
      "-38    2.0   22     0.01   1        Bom      1.00      \n"
     ]
    }
   ],
   "source": [
    "print(f\"{'RSSI':<6} {'ETX':<5} {'Delay':<6} {'Busy':<6} {'Classe':<8} {'Status':<8} {'Confiança':<10}\")\n",
    "print(f\"{'-'*55}\")\n",
    "\n",
    "CLASS_NAMES = {0: \"Ruim\", 1: \"Bom\"}\n",
    "\n",
    "for i, row in enumerate(edges_input):\n",
    "    cls = preds[i].item()\n",
    "    conf = probs[i, cls].item()\n",
    "    print(f\"{row[0]:<6.0f} {row[1]:<5.1f} {row[2]:<6.0f} {row[3]:<6.2f} \"\n",
    "          f\"{cls:<8} {CLASS_NAMES[cls]:<8} {conf:<10.2f}\")"
   ]
  },
  {
   "cell_type": "markdown",
   "id": "e1880a9b",
   "metadata": {},
   "source": [
    "### Save"
   ]
  },
  {
   "cell_type": "code",
   "execution_count": 42,
   "id": "78efbb23",
   "metadata": {},
   "outputs": [
    {
     "name": "stdout",
     "output_type": "stream",
     "text": [
      "Inferência salva em ../outputs/inference_output.csv\n"
     ]
    }
   ],
   "source": [
    "inference_output = pd.DataFrame({\n",
    "    'class': preds.numpy(),\n",
    "    'confidence': torch.max(probs, dim=1)[0].numpy()\n",
    "})\n",
    "\n",
    "os.makedirs(\"../outputs\", exist_ok=True)\n",
    "inference_output.to_csv(\"../outputs/inference_output.csv\", index=False)\n",
    "\n",
    "print(\"Inferência salva em ../outputs/inference_output.csv\")"
   ]
  }
 ],
 "metadata": {
  "kernelspec": {
   "display_name": "venv (3.12.4)",
   "language": "python",
   "name": "python3"
  },
  "language_info": {
   "codemirror_mode": {
    "name": "ipython",
    "version": 3
   },
   "file_extension": ".py",
   "mimetype": "text/x-python",
   "name": "python",
   "nbconvert_exporter": "python",
   "pygments_lexer": "ipython3",
   "version": "3.12.4"
  }
 },
 "nbformat": 4,
 "nbformat_minor": 5
}
