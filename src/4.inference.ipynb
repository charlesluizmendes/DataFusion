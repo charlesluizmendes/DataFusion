{
 "cells": [
  {
   "cell_type": "markdown",
   "id": "1f8bfe9d",
   "metadata": {},
   "source": [
    "### Imports"
   ]
  },
  {
   "cell_type": "code",
   "execution_count": 8,
   "id": "fd5830c0",
   "metadata": {},
   "outputs": [],
   "source": [
    "import os\n",
    "import torch\n",
    "import torch.nn as nn\n",
    "import torch.nn.functional as F\n",
    "import pandas as pd\n",
    "import joblib"
   ]
  },
  {
   "cell_type": "markdown",
   "id": "8de615ab",
   "metadata": {},
   "source": [
    "### Model"
   ]
  },
  {
   "cell_type": "code",
   "execution_count": 9,
   "id": "dd1b6001",
   "metadata": {},
   "outputs": [],
   "source": [
    "class GNN(nn.Module):\n",
    "    def __init__(self, in_dim=4, hidden=16, out_dim=2):\n",
    "        super().__init__()\n",
    "        self.net = nn.Sequential(\n",
    "            nn.Linear(in_dim, hidden),\n",
    "            nn.ReLU(),\n",
    "            nn.Linear(hidden, out_dim)\n",
    "        )\n",
    "    def forward(self, x):\n",
    "        return self.net(x)"
   ]
  },
  {
   "cell_type": "markdown",
   "id": "05c08992",
   "metadata": {},
   "source": [
    "### Load Model"
   ]
  },
  {
   "cell_type": "code",
   "execution_count": 10,
   "id": "31a3717c",
   "metadata": {},
   "outputs": [],
   "source": [
    "model = GNN()\n",
    "model.load_state_dict(torch.load(\"../models/gnn_model.pth\", weights_only=True))\n",
    "model.eval()\n",
    "\n",
    "scaler = joblib.load(\"../models/scaler_model.pkl\")"
   ]
  },
  {
   "cell_type": "markdown",
   "id": "cfa809ae",
   "metadata": {},
   "source": [
    "### Inputs"
   ]
  },
  {
   "cell_type": "code",
   "execution_count": 11,
   "id": "b5cd0b26",
   "metadata": {},
   "outputs": [],
   "source": [
    "edges_input_df = pd.read_csv(\"../inputs/edges_input.csv\")\n",
    "edges_input = edges_input_df.values.tolist()\n",
    "\n",
    "X_test = torch.tensor(scaler.transform(edges_input), dtype=torch.float)"
   ]
  },
  {
   "cell_type": "markdown",
   "id": "03c0ded4",
   "metadata": {},
   "source": [
    "### Inference"
   ]
  },
  {
   "cell_type": "code",
   "execution_count": 12,
   "id": "d3ffa6b0",
   "metadata": {},
   "outputs": [],
   "source": [
    "with torch.no_grad():\n",
    "    logits = model(X_test)\n",
    "    probs = F.softmax(logits, dim=1)\n",
    "    preds = probs.argmax(dim=1)"
   ]
  },
  {
   "cell_type": "code",
   "execution_count": 13,
   "id": "3dae9bab",
   "metadata": {},
   "outputs": [
    {
     "name": "stdout",
     "output_type": "stream",
     "text": [
      "RSSI   ETX   Delay  Busy   Classe   Status   Confiança \n",
      "-------------------------------------------------------\n",
      "-83    8.3   100    0.72   0        Ruim     1.00      \n",
      "-89    5.0   58     0.84   0        Ruim     1.00      \n",
      "-69    5.7   33     0.57   0        Ruim     0.99      \n",
      "-85    7.5   62     0.81   0        Ruim     1.00      \n",
      "-88    4.0   36     0.81   0        Ruim     1.00      \n",
      "-70    4.5   67     0.89   0        Ruim     1.00      \n",
      "-84    9.3   42     0.73   0        Ruim     1.00      \n",
      "-70    9.8   98     0.63   0        Ruim     1.00      \n",
      "-65    9.8   42     0.43   0        Ruim     1.00      \n",
      "-64    5.4   98     0.90   0        Ruim     1.00      \n",
      "-74    7.2   40     0.91   0        Ruim     1.00      \n",
      "-73    7.2   40     0.37   0        Ruim     0.99      \n",
      "-71    9.0   74     0.58   0        Ruim     1.00      \n",
      "-82    8.4   90     0.96   0        Ruim     1.00      \n",
      "-61    6.2   49     0.44   0        Ruim     0.99      \n",
      "-87    8.3   83     0.70   0        Ruim     1.00      \n",
      "-89    7.8   53     0.86   0        Ruim     1.00      \n",
      "-92    4.2   86     0.87   0        Ruim     1.00      \n",
      "-71    9.5   64     0.32   0        Ruim     1.00      \n",
      "-86    9.5   69     0.99   0        Ruim     1.00      \n",
      "-89    4.9   50     0.92   0        Ruim     1.00      \n",
      "-62    6.3   67     0.64   0        Ruim     1.00      \n",
      "-89    6.4   78     0.89   0        Ruim     1.00      \n",
      "-90    4.4   92     0.98   0        Ruim     1.00      \n",
      "-68    8.4   75     0.94   0        Ruim     1.00      \n",
      "-78    7.7   52     0.39   0        Ruim     1.00      \n",
      "-73    9.9   87     0.67   0        Ruim     1.00      \n",
      "-74    4.8   32     0.77   0        Ruim     1.00      \n",
      "-87    8.8   40     0.58   0        Ruim     1.00      \n",
      "-85    8.4   47     0.38   0        Ruim     1.00      \n",
      "-92    4.8   74     0.38   0        Ruim     1.00      \n",
      "-67    4.1   50     0.64   0        Ruim     0.99      \n",
      "-81    7.3   32     0.33   0        Ruim     0.99      \n",
      "-94    8.2   74     0.98   0        Ruim     1.00      \n",
      "-75    8.9   74     0.65   0        Ruim     1.00      \n",
      "-78    9.5   56     0.70   0        Ruim     1.00      \n",
      "-90    9.1   35     0.92   0        Ruim     1.00      \n",
      "-89    7.3   72     0.88   0        Ruim     1.00      \n",
      "-79    9.8   40     0.61   0        Ruim     1.00      \n",
      "-92    5.7   90     0.96   0        Ruim     1.00      \n",
      "-89    7.2   80     0.86   0        Ruim     1.00      \n",
      "-75    9.6   52     0.46   0        Ruim     1.00      \n",
      "-86    5.0   58     0.41   0        Ruim     1.00      \n",
      "-66    8.0   71     0.94   0        Ruim     1.00      \n",
      "-61    9.7   92     0.55   0        Ruim     1.00      \n",
      "-63    6.7   97     0.47   0        Ruim     1.00      \n",
      "-79    8.0   53     0.42   0        Ruim     1.00      \n",
      "-89    5.6   42     0.42   0        Ruim     1.00      \n",
      "-80    9.5   48     0.99   0        Ruim     1.00      \n",
      "-63    6.2   71     0.33   0        Ruim     0.99      \n",
      "-73    7.9   34     0.81   0        Ruim     1.00      \n",
      "-63    9.6   74     0.78   0        Ruim     1.00      \n",
      "-84    6.9   54     0.50   0        Ruim     1.00      \n",
      "-70    9.8   43     0.50   0        Ruim     1.00      \n",
      "-71    5.0   72     0.68   0        Ruim     1.00      \n",
      "-63    7.2   77     0.98   0        Ruim     1.00      \n",
      "-85    9.2   62     0.85   0        Ruim     1.00      \n",
      "-76    8.4   62     0.74   0        Ruim     1.00      \n",
      "-77    8.0   65     0.89   0        Ruim     1.00      \n",
      "-87    7.7   92     0.93   0        Ruim     1.00      \n",
      "-72    7.0   47     0.92   0        Ruim     1.00      \n",
      "-61    8.7   64     0.78   0        Ruim     1.00      \n",
      "-66    7.9   56     0.68   0        Ruim     1.00      \n",
      "-90    7.7   70     0.94   0        Ruim     1.00      \n",
      "-61    8.7   33     0.39   0        Ruim     0.99      \n",
      "-80    8.3   49     0.31   0        Ruim     1.00      \n",
      "-68    6.2   52     0.43   0        Ruim     0.99      \n",
      "-84    8.8   69     0.34   0        Ruim     1.00      \n",
      "-63    4.3   80     0.61   0        Ruim     1.00      \n",
      "-67    9.3   57     0.42   0        Ruim     1.00      \n"
     ]
    }
   ],
   "source": [
    "print(f\"{'RSSI':<6} {'ETX':<5} {'Delay':<6} {'Busy':<6} {'Classe':<8} {'Status':<8} {'Confiança':<10}\")\n",
    "print(f\"{'-'*55}\")\n",
    "\n",
    "CLASS_NAMES = {0: \"Ruim\", 1: \"Bom\"}\n",
    "\n",
    "for i, row in enumerate(edges_input):\n",
    "    cls = preds[i].item()\n",
    "    conf = probs[i, cls].item()\n",
    "    print(f\"{row[0]:<6.0f} {row[1]:<5.1f} {row[2]:<6.0f} {row[3]:<6.2f} \"\n",
    "          f\"{cls:<8} {CLASS_NAMES[cls]:<8} {conf:<10.2f}\")"
   ]
  },
  {
   "cell_type": "markdown",
   "id": "e1880a9b",
   "metadata": {},
   "source": [
    "### Save"
   ]
  },
  {
   "cell_type": "code",
   "execution_count": 14,
   "id": "78efbb23",
   "metadata": {},
   "outputs": [
    {
     "name": "stdout",
     "output_type": "stream",
     "text": [
      "Inferência salva em ../outputs/inference_output.csv\n"
     ]
    }
   ],
   "source": [
    "inference_output = pd.DataFrame({\n",
    "    'class': preds.numpy(),\n",
    "    'confidence': torch.max(probs, dim=1)[0].numpy()\n",
    "})\n",
    "\n",
    "os.makedirs(\"../outputs\", exist_ok=True)\n",
    "inference_output.to_csv(\"../outputs/inference_output.csv\", index=False)\n",
    "\n",
    "print(\"Inferência salva em ../outputs/inference_output.csv\")"
   ]
  }
 ],
 "metadata": {
  "kernelspec": {
   "display_name": "venv (3.12.4)",
   "language": "python",
   "name": "python3"
  },
  "language_info": {
   "codemirror_mode": {
    "name": "ipython",
    "version": 3
   },
   "file_extension": ".py",
   "mimetype": "text/x-python",
   "name": "python",
   "nbconvert_exporter": "python",
   "pygments_lexer": "ipython3",
   "version": "3.12.4"
  }
 },
 "nbformat": 4,
 "nbformat_minor": 5
}
