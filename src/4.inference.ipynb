{
 "cells": [
  {
   "cell_type": "markdown",
   "id": "1f8bfe9d",
   "metadata": {},
   "source": [
    "### Imports"
   ]
  },
  {
   "cell_type": "code",
   "execution_count": 1,
   "id": "fd5830c0",
   "metadata": {},
   "outputs": [],
   "source": [
    "import os\n",
    "import torch\n",
    "import torch.nn as nn\n",
    "import torch.nn.functional as F\n",
    "import pandas as pd\n",
    "import joblib"
   ]
  },
  {
   "cell_type": "markdown",
   "id": "8de615ab",
   "metadata": {},
   "source": [
    "### Model"
   ]
  },
  {
   "cell_type": "code",
   "execution_count": 2,
   "id": "dd1b6001",
   "metadata": {},
   "outputs": [],
   "source": [
    "class GNN(nn.Module):\n",
    "    def __init__(self, in_dim=4, hidden=16, out_dim=2):\n",
    "        super().__init__()\n",
    "        self.net = nn.Sequential(\n",
    "            nn.Linear(in_dim, hidden),\n",
    "            nn.ReLU(),\n",
    "            nn.Linear(hidden, out_dim)\n",
    "        )\n",
    "    def forward(self, x):\n",
    "        return self.net(x)"
   ]
  },
  {
   "cell_type": "markdown",
   "id": "05c08992",
   "metadata": {},
   "source": [
    "### Load Model"
   ]
  },
  {
   "cell_type": "code",
   "execution_count": 3,
   "id": "31a3717c",
   "metadata": {},
   "outputs": [],
   "source": [
    "model = GNN()\n",
    "model.load_state_dict(torch.load(\"../models/gnn_model.pth\", weights_only=True))\n",
    "model.eval()\n",
    "\n",
    "scaler = joblib.load(\"../models/scaler_model.pkl\")"
   ]
  },
  {
   "cell_type": "markdown",
   "id": "cfa809ae",
   "metadata": {},
   "source": [
    "### Inputs"
   ]
  },
  {
   "cell_type": "code",
   "execution_count": 4,
   "id": "b5cd0b26",
   "metadata": {},
   "outputs": [],
   "source": [
    "edges_input_df = pd.read_csv(\"../inputs/edges_input.csv\")\n",
    "edges_input = edges_input_df.values.tolist()\n",
    "\n",
    "X_test = torch.tensor(scaler.transform(edges_input), dtype=torch.float)"
   ]
  },
  {
   "cell_type": "markdown",
   "id": "03c0ded4",
   "metadata": {},
   "source": [
    "### Inference"
   ]
  },
  {
   "cell_type": "code",
   "execution_count": 5,
   "id": "d3ffa6b0",
   "metadata": {},
   "outputs": [],
   "source": [
    "with torch.no_grad():\n",
    "    logits = model(X_test)\n",
    "    probs = F.softmax(logits, dim=1)\n",
    "    preds = probs.argmax(dim=1)\n",
    "\n",
    "CLASS_NAMES = {0: \"Ruim\", 1: \"Bom\"}"
   ]
  },
  {
   "cell_type": "code",
   "execution_count": 6,
   "id": "3dae9bab",
   "metadata": {},
   "outputs": [
    {
     "name": "stdout",
     "output_type": "stream",
     "text": [
      "RSSI   ETX   Delay  Busy   Classe   Status   Confiança \n",
      "-------------------------------------------------------\n",
      "-65    3.5   63     0.67   0        Ruim     1.00      \n",
      "-34    2.8   30     0.38   1        Bom      0.99      \n",
      "-62    7.2   37     0.81   0        Ruim     1.00      \n",
      "-52    1.8   9      0.15   1        Bom      1.00      \n",
      "-31    2.1   33     0.11   1        Bom      1.00      \n",
      "-61    3.5   21     0.01   1        Bom      1.00      \n",
      "-45    3.3   19     0.20   1        Bom      1.00      \n",
      "-64    7.7   71     0.54   0        Ruim     1.00      \n",
      "-53    3.3   40     0.32   1        Bom      0.93      \n",
      "-39    2.0   10     0.04   1        Bom      1.00      \n",
      "-63    2.7   3      0.39   1        Bom      0.98      \n",
      "-87    3.5   50     0.54   0        Ruim     1.00      \n",
      "-56    7.2   37     0.37   0        Ruim     0.93      \n",
      "-89    8.3   83     0.59   0        Ruim     1.00      \n",
      "-55    4.5   91     0.47   0        Ruim     1.00      \n",
      "-32    2.9   21     0.15   1        Bom      1.00      \n",
      "-42    2.8   30     0.14   1        Bom      1.00      \n",
      "-40    1.7   10     0.10   1        Bom      1.00      \n",
      "-32    3.9   9      0.18   1        Bom      1.00      \n",
      "-90    4.7   95     0.73   0        Ruim     1.00      \n",
      "-68    4.3   69     0.86   0        Ruim     1.00      \n",
      "-61    4.6   28     0.27   1        Bom      0.90      \n",
      "-37    1.2   27     0.26   1        Bom      1.00      \n",
      "-53    3.4   44     0.99   0        Ruim     0.99      \n",
      "-43    3.5   30     0.17   1        Bom      1.00      \n",
      "-63    5.5   49     0.83   0        Ruim     1.00      \n",
      "-32    4.0   36     0.00   1        Bom      1.00      \n",
      "-76    4.5   21     0.37   0        Ruim     0.72      \n",
      "-52    2.1   29     0.14   1        Bom      1.00      \n",
      "-59    2.2   35     0.38   1        Bom      0.90      \n",
      "-68    5.6   89     0.80   0        Ruim     1.00      \n",
      "-86    4.6   29     0.41   0        Ruim     0.97      \n",
      "-68    4.0   37     0.37   0        Ruim     0.71      \n",
      "-50    1.8   8      0.19   1        Bom      1.00      \n",
      "-47    3.7   32     0.09   1        Bom      1.00      \n",
      "-55    2.7   38     0.02   1        Bom      1.00      \n",
      "-87    6.3   99     0.94   0        Ruim     1.00      \n",
      "-54    1.8   3      0.00   1        Bom      1.00      \n",
      "-45    1.6   6      0.11   1        Bom      1.00      \n",
      "-52    3.6   8      0.11   1        Bom      1.00      \n",
      "-79    7.9   84     0.44   0        Ruim     1.00      \n",
      "-33    2.5   35     0.22   1        Bom      1.00      \n",
      "-48    1.9   38     0.34   1        Bom      0.98      \n",
      "-59    3.5   23     0.28   1        Bom      0.97      \n",
      "-48    2.2   16     0.11   1        Bom      1.00      \n",
      "-36    3.5   6      0.35   1        Bom      1.00      \n",
      "-76    3.2   63     0.49   0        Ruim     0.99      \n",
      "-65    3.6   37     0.75   0        Ruim     0.98      \n",
      "-31    1.8   2      0.05   1        Bom      1.00      \n",
      "-48    1.1   19     0.02   1        Bom      1.00      \n",
      "-46    3.2   16     0.19   1        Bom      1.00      \n",
      "-50    2.4   10     0.32   1        Bom      0.99      \n",
      "-58    10.0  60     0.59   0        Ruim     1.00      \n",
      "-65    1.6   1      0.33   1        Bom      0.99      \n",
      "-66    7.8   89     0.73   0        Ruim     1.00      \n",
      "-60    7.9   93     0.71   0        Ruim     1.00      \n",
      "-69    8.5   58     0.83   0        Ruim     1.00      \n",
      "-74    5.4   56     0.80   0        Ruim     1.00      \n",
      "-65    9.8   75     0.93   0        Ruim     1.00      \n",
      "-79    6.1   98     0.37   0        Ruim     1.00      \n",
      "-82    6.0   48     0.28   0        Ruim     0.99      \n",
      "-79    9.6   85     0.85   0        Ruim     1.00      \n",
      "-81    7.4   56     0.76   0        Ruim     1.00      \n",
      "-79    4.7   45     0.86   0        Ruim     1.00      \n",
      "-59    3.0   63     0.73   0        Ruim     0.99      \n",
      "-61    8.4   88     0.26   0        Ruim     1.00      \n",
      "-61    7.8   34     0.52   0        Ruim     0.99      \n",
      "-86    9.1   32     0.66   0        Ruim     1.00      \n",
      "-58    5.0   47     0.56   0        Ruim     0.97      \n",
      "-73    5.3   29     0.89   0        Ruim     1.00      \n"
     ]
    }
   ],
   "source": [
    "print(f\"{'RSSI':<6} {'ETX':<5} {'Delay':<6} {'Busy':<6} {'Classe':<8} {'Status':<8} {'Confiança':<10}\")\n",
    "print(f\"{'-'*55}\")\n",
    "\n",
    "for i, row in enumerate(edges_input):\n",
    "    cls = preds[i].item()\n",
    "    conf = probs[i, cls].item()\n",
    "    print(f\"{row[0]:<6.0f} {row[1]:<5.1f} {row[2]:<6.0f} {row[3]:<6.2f} \"\n",
    "          f\"{cls:<8} {CLASS_NAMES[cls]:<8} {conf:<10.2f}\")"
   ]
  },
  {
   "cell_type": "markdown",
   "id": "e1880a9b",
   "metadata": {},
   "source": [
    "### Save"
   ]
  },
  {
   "cell_type": "code",
   "execution_count": 7,
   "id": "78efbb23",
   "metadata": {},
   "outputs": [
    {
     "name": "stdout",
     "output_type": "stream",
     "text": [
      "Inferência salva em ../outputs/inference_output.csv\n"
     ]
    }
   ],
   "source": [
    "inference_output = pd.DataFrame({\n",
    "    'class': preds.numpy(),\n",
    "    'confidence': torch.max(probs, dim=1)[0].numpy()\n",
    "})\n",
    "\n",
    "os.makedirs(\"../outputs\", exist_ok=True)\n",
    "inference_output.to_csv(\"../outputs/inference_output.csv\", index=False)\n",
    "\n",
    "print(\"Inferência salva em ../outputs/inference_output.csv\")"
   ]
  }
 ],
 "metadata": {
  "kernelspec": {
   "display_name": "venv (3.12.4)",
   "language": "python",
   "name": "python3"
  },
  "language_info": {
   "codemirror_mode": {
    "name": "ipython",
    "version": 3
   },
   "file_extension": ".py",
   "mimetype": "text/x-python",
   "name": "python",
   "nbconvert_exporter": "python",
   "pygments_lexer": "ipython3",
   "version": "3.12.4"
  }
 },
 "nbformat": 4,
 "nbformat_minor": 5
}
