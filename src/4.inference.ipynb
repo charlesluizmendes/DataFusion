{
 "cells": [
  {
   "cell_type": "markdown",
   "id": "1f8bfe9d",
   "metadata": {},
   "source": [
    "### Imports"
   ]
  },
  {
   "cell_type": "code",
   "execution_count": 1,
   "id": "fd5830c0",
   "metadata": {},
   "outputs": [],
   "source": [
    "import os\n",
    "import torch\n",
    "import torch.nn as nn\n",
    "import torch.nn.functional as F\n",
    "import pandas as pd\n",
    "import joblib"
   ]
  },
  {
   "cell_type": "markdown",
   "id": "8de615ab",
   "metadata": {},
   "source": [
    "### Model"
   ]
  },
  {
   "cell_type": "code",
   "execution_count": 2,
   "id": "dd1b6001",
   "metadata": {},
   "outputs": [],
   "source": [
    "class GNN(nn.Module):\n",
    "    def __init__(self, in_dim=4, hidden=16, out_dim=2):\n",
    "        super().__init__()\n",
    "        self.net = nn.Sequential(\n",
    "            nn.Linear(in_dim, hidden),\n",
    "            nn.ReLU(),\n",
    "            nn.Linear(hidden, out_dim)\n",
    "        )\n",
    "    def forward(self, x):\n",
    "        return self.net(x)"
   ]
  },
  {
   "cell_type": "markdown",
   "id": "05c08992",
   "metadata": {},
   "source": [
    "### Load Model"
   ]
  },
  {
   "cell_type": "code",
   "execution_count": 3,
   "id": "31a3717c",
   "metadata": {},
   "outputs": [],
   "source": [
    "model = GNN()\n",
    "model.load_state_dict(torch.load(\"../models/gnn_model.pth\", weights_only=True))\n",
    "model.eval()\n",
    "\n",
    "scaler = joblib.load(\"../models/scaler_model.pkl\")"
   ]
  },
  {
   "cell_type": "markdown",
   "id": "cfa809ae",
   "metadata": {},
   "source": [
    "### Inputs"
   ]
  },
  {
   "cell_type": "code",
   "execution_count": 4,
   "id": "b5cd0b26",
   "metadata": {},
   "outputs": [],
   "source": [
    "edges_input_df = pd.read_csv(\"../inputs/edges_input.csv\")\n",
    "edges_input = edges_input_df.values.tolist()\n",
    "\n",
    "X_test = torch.tensor(scaler.transform(edges_input), dtype=torch.float)"
   ]
  },
  {
   "cell_type": "markdown",
   "id": "03c0ded4",
   "metadata": {},
   "source": [
    "### Inference"
   ]
  },
  {
   "cell_type": "code",
   "execution_count": 5,
   "id": "d3ffa6b0",
   "metadata": {},
   "outputs": [],
   "source": [
    "with torch.no_grad():\n",
    "    logits = model(X_test)\n",
    "    probs = F.softmax(logits, dim=1)\n",
    "    preds = probs.argmax(dim=1)"
   ]
  },
  {
   "cell_type": "code",
   "execution_count": 6,
   "id": "3dae9bab",
   "metadata": {},
   "outputs": [
    {
     "name": "stdout",
     "output_type": "stream",
     "text": [
      "RSSI   ETX   Delay  Busy   Classe   Status   Confiança \n",
      "-------------------------------------------------------\n",
      "-74    3.7   91     0.31   0        Ruim     0.99      \n",
      "-31    1.7   29     0.06   1        Bom      1.00      \n",
      "-68    4.0   96     0.70   0        Ruim     1.00      \n",
      "-51    1.5   17     0.25   1        Bom      0.99      \n",
      "-46    1.1   17     0.38   1        Bom      0.98      \n",
      "-80    7.4   92     0.65   0        Ruim     1.00      \n",
      "-39    1.1   15     0.04   1        Bom      1.00      \n",
      "-57    7.9   96     0.61   0        Ruim     1.00      \n",
      "-67    3.9   57     0.25   0        Ruim     0.65      \n",
      "-62    8.6   83     0.43   0        Ruim     1.00      \n",
      "-49    2.7   33     0.28   1        Bom      0.97      \n",
      "-62    8.1   80     0.52   0        Ruim     1.00      \n",
      "-56    2.0   14     0.11   1        Bom      0.99      \n",
      "-78    7.3   66     0.53   0        Ruim     1.00      \n",
      "-54    1.9   7      0.34   1        Bom      0.98      \n",
      "-71    8.7   46     0.85   0        Ruim     1.00      \n",
      "-36    2.4   4      0.18   1        Bom      1.00      \n",
      "-64    9.7   99     0.51   0        Ruim     1.00      \n",
      "-56    3.2   4      0.33   1        Bom      0.98      \n",
      "-45    3.8   37     0.38   1        Bom      0.93      \n",
      "-68    3.7   84     0.60   0        Ruim     1.00      \n",
      "-45    3.9   33     0.28   1        Bom      0.97      \n",
      "-68    8.9   74     0.32   0        Ruim     1.00      \n",
      "-65    4.2   100    0.63   0        Ruim     1.00      \n",
      "-44    3.2   8      0.07   1        Bom      1.00      \n",
      "-71    9.2   88     0.46   0        Ruim     1.00      \n",
      "-74    6.1   38     0.45   0        Ruim     0.99      \n",
      "-67    9.9   89     0.56   0        Ruim     1.00      \n",
      "-75    4.8   78     0.29   0        Ruim     0.99      \n",
      "-57    5.2   83     0.29   0        Ruim     0.93      \n",
      "-50    2.4   9      0.07   1        Bom      1.00      \n",
      "-68    4.8   55     0.62   0        Ruim     0.99      \n",
      "-80    3.6   83     0.70   0        Ruim     1.00      \n",
      "-66    9.8   100    0.49   0        Ruim     1.00      \n",
      "-71    9.0   86     0.45   0        Ruim     1.00      \n",
      "-33    1.9   8      0.17   1        Bom      1.00      \n",
      "-34    3.9   14     0.25   1        Bom      0.99      \n",
      "-42    2.1   10     0.07   1        Bom      1.00      \n",
      "-90    8.7   92     0.38   0        Ruim     1.00      \n",
      "-86    8.7   76     0.38   0        Ruim     1.00      \n",
      "-62    7.5   8      0.74   0        Ruim     0.99      \n",
      "-64    7.5   97     0.88   0        Ruim     1.00      \n",
      "-56    7.3   30     0.68   0        Ruim     0.99      \n",
      "-69    3.5   32     0.29   1        Bom      0.81      \n",
      "-67    2.4   23     0.14   1        Bom      0.97      \n",
      "-85    3.9   30     0.96   0        Ruim     1.00      \n",
      "-67    7.5   56     0.78   0        Ruim     1.00      \n",
      "-74    6.5   33     0.36   0        Ruim     0.98      \n",
      "-70    6.8   82     0.59   0        Ruim     1.00      \n",
      "-56    3.9   29     0.08   1        Bom      0.98      \n",
      "-44    3.7   14     0.27   1        Bom      0.99      \n",
      "-81    9.8   79     0.68   0        Ruim     1.00      \n",
      "-61    1.6   20     0.09   1        Bom      0.99      \n",
      "-46    3.3   37     0.08   1        Bom      0.99      \n",
      "-37    1.7   8      0.32   1        Bom      0.99      \n",
      "-65    3.4   85     0.60   0        Ruim     0.99      \n",
      "-45    4.9   2      0.08   1        Bom      1.00      \n",
      "-31    3.4   6      0.30   1        Bom      1.00      \n",
      "-32    1.7   16     0.11   1        Bom      1.00      \n",
      "-56    1.1   19     0.08   1        Bom      0.99      \n",
      "-35    3.5   4      0.39   1        Bom      0.99      \n",
      "-45    3.7   7      0.38   1        Bom      0.98      \n",
      "-44    1.9   19     0.06   1        Bom      1.00      \n",
      "-34    2.6   15     0.23   1        Bom      1.00      \n",
      "-48    2.1   23     0.03   1        Bom      1.00      \n",
      "-58    2.5   40     0.28   1        Bom      0.94      \n",
      "-54    3.1   31     0.21   1        Bom      0.97      \n",
      "-53    2.8   10     0.26   1        Bom      0.98      \n",
      "-42    1.1   27     0.01   1        Bom      1.00      \n",
      "-49    2.3   11     0.34   1        Bom      0.98      \n"
     ]
    }
   ],
   "source": [
    "print(f\"{'RSSI':<6} {'ETX':<5} {'Delay':<6} {'Busy':<6} {'Classe':<8} {'Status':<8} {'Confiança':<10}\")\n",
    "print(f\"{'-'*55}\")\n",
    "\n",
    "CLASS_NAMES = {0: \"Ruim\", 1: \"Bom\"}\n",
    "\n",
    "for i, row in enumerate(edges_input):\n",
    "    cls = preds[i].item()\n",
    "    conf = probs[i, cls].item()\n",
    "    print(f\"{row[0]:<6.0f} {row[1]:<5.1f} {row[2]:<6.0f} {row[3]:<6.2f} \"\n",
    "          f\"{cls:<8} {CLASS_NAMES[cls]:<8} {conf:<10.2f}\")"
   ]
  },
  {
   "cell_type": "markdown",
   "id": "e1880a9b",
   "metadata": {},
   "source": [
    "### Save"
   ]
  },
  {
   "cell_type": "code",
   "execution_count": 7,
   "id": "78efbb23",
   "metadata": {},
   "outputs": [
    {
     "name": "stdout",
     "output_type": "stream",
     "text": [
      "Inferência salva em ../outputs/inference_output.csv\n"
     ]
    }
   ],
   "source": [
    "inference_output = pd.DataFrame({\n",
    "    'class': preds.numpy(),\n",
    "    'confidence': torch.max(probs, dim=1)[0].numpy()\n",
    "})\n",
    "\n",
    "os.makedirs(\"../outputs\", exist_ok=True)\n",
    "inference_output.to_csv(\"../outputs/inference_output.csv\", index=False)\n",
    "\n",
    "print(\"Inferência salva em ../outputs/inference_output.csv\")"
   ]
  }
 ],
 "metadata": {
  "kernelspec": {
   "display_name": "venv",
   "language": "python",
   "name": "python3"
  },
  "language_info": {
   "codemirror_mode": {
    "name": "ipython",
    "version": 3
   },
   "file_extension": ".py",
   "mimetype": "text/x-python",
   "name": "python",
   "nbconvert_exporter": "python",
   "pygments_lexer": "ipython3",
   "version": "3.10.11"
  }
 },
 "nbformat": 4,
 "nbformat_minor": 5
}
