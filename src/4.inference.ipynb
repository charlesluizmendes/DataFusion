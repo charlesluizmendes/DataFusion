{
 "cells": [
  {
   "cell_type": "markdown",
   "id": "1f8bfe9d",
   "metadata": {},
   "source": [
    "### Imports"
   ]
  },
  {
   "cell_type": "code",
   "execution_count": 22,
   "id": "fd5830c0",
   "metadata": {},
   "outputs": [],
   "source": [
    "import os\n",
    "import torch\n",
    "import torch.nn as nn\n",
    "import torch.nn.functional as F\n",
    "import pandas as pd\n",
    "import joblib"
   ]
  },
  {
   "cell_type": "markdown",
   "id": "8de615ab",
   "metadata": {},
   "source": [
    "### Model"
   ]
  },
  {
   "cell_type": "code",
   "execution_count": 23,
   "id": "dd1b6001",
   "metadata": {},
   "outputs": [],
   "source": [
    "class GNN(nn.Module):\n",
    "    def __init__(self, in_dim=4, hidden=16, out_dim=2):\n",
    "        super().__init__()\n",
    "        self.net = nn.Sequential(\n",
    "            nn.Linear(in_dim, hidden),\n",
    "            nn.ReLU(),\n",
    "            nn.Linear(hidden, out_dim)\n",
    "        )\n",
    "    def forward(self, x):\n",
    "        return self.net(x)"
   ]
  },
  {
   "cell_type": "markdown",
   "id": "05c08992",
   "metadata": {},
   "source": [
    "### Load Model"
   ]
  },
  {
   "cell_type": "code",
   "execution_count": 24,
   "id": "31a3717c",
   "metadata": {},
   "outputs": [],
   "source": [
    "model = GNN()\n",
    "model.load_state_dict(torch.load(\"../models/gnn_model.pth\", weights_only=True))\n",
    "model.eval()\n",
    "\n",
    "scaler = joblib.load(\"../models/scaler_model.pkl\")"
   ]
  },
  {
   "cell_type": "markdown",
   "id": "cfa809ae",
   "metadata": {},
   "source": [
    "### Inputs"
   ]
  },
  {
   "cell_type": "code",
   "execution_count": 25,
   "id": "b5cd0b26",
   "metadata": {},
   "outputs": [],
   "source": [
    "edges_input_df = pd.read_csv(\"../inputs/edges_input.csv\")\n",
    "edges_input = edges_input_df.values.tolist()\n",
    "\n",
    "X_test = torch.tensor(scaler.transform(edges_input), dtype=torch.float)"
   ]
  },
  {
   "cell_type": "markdown",
   "id": "03c0ded4",
   "metadata": {},
   "source": [
    "### Inference"
   ]
  },
  {
   "cell_type": "code",
   "execution_count": 26,
   "id": "d3ffa6b0",
   "metadata": {},
   "outputs": [],
   "source": [
    "with torch.no_grad():\n",
    "    logits = model(X_test)\n",
    "    probs = F.softmax(logits, dim=1)\n",
    "    preds = probs.argmax(dim=1)"
   ]
  },
  {
   "cell_type": "code",
   "execution_count": 27,
   "id": "3dae9bab",
   "metadata": {},
   "outputs": [
    {
     "name": "stdout",
     "output_type": "stream",
     "text": [
      "RSSI   ETX   Delay  Busy   Classe   Status   Confiança \n",
      "-------------------------------------------------------\n",
      "-89    4.9   47     0.43   0        Ruim     1.00      \n",
      "-87    8.3   74     0.44   0        Ruim     1.00      \n",
      "-82    6.9   98     0.34   0        Ruim     1.00      \n",
      "-70    9.6   76     0.93   0        Ruim     1.00      \n",
      "-62    8.7   61     0.82   0        Ruim     1.00      \n",
      "-73    8.9   36     0.91   0        Ruim     1.00      \n",
      "-80    4.7   62     0.74   0        Ruim     1.00      \n",
      "-60    6.6   100    0.47   0        Ruim     1.00      \n",
      "-77    9.9   78     0.43   0        Ruim     1.00      \n",
      "-89    9.5   78     0.86   0        Ruim     1.00      \n",
      "-95    8.3   98     0.57   0        Ruim     1.00      \n",
      "-72    9.5   68     0.52   0        Ruim     1.00      \n",
      "-90    7.5   48     0.90   0        Ruim     1.00      \n",
      "-88    5.1   76     0.97   0        Ruim     1.00      \n",
      "-85    8.9   79     0.87   0        Ruim     1.00      \n",
      "-78    4.3   81     0.33   0        Ruim     1.00      \n",
      "-78    4.7   37     0.40   0        Ruim     0.94      \n",
      "-88    7.9   82     0.37   0        Ruim     1.00      \n",
      "-88    9.1   47     0.35   0        Ruim     1.00      \n",
      "-85    8.8   99     0.94   0        Ruim     1.00      \n",
      "-69    8.9   71     0.66   0        Ruim     1.00      \n",
      "-68    8.7   71     0.98   0        Ruim     1.00      \n",
      "-79    5.2   78     0.33   0        Ruim     1.00      \n",
      "-90    5.7   62     0.95   0        Ruim     1.00      \n",
      "-90    6.0   75     0.81   0        Ruim     1.00      \n",
      "-66    8.4   45     0.34   0        Ruim     1.00      \n",
      "-63    7.2   65     0.58   0        Ruim     1.00      \n",
      "-72    5.1   87     0.96   0        Ruim     1.00      \n",
      "-73    9.7   33     0.69   0        Ruim     1.00      \n",
      "-81    6.5   56     0.66   0        Ruim     1.00      \n",
      "-75    6.4   67     0.78   0        Ruim     1.00      \n",
      "-81    9.3   53     0.78   0        Ruim     1.00      \n",
      "-60    8.3   85     0.38   0        Ruim     1.00      \n",
      "-86    5.6   97     0.87   0        Ruim     1.00      \n",
      "-73    8.1   76     0.87   0        Ruim     1.00      \n",
      "-62    5.1   89     0.64   0        Ruim     1.00      \n",
      "-62    4.5   41     0.91   0        Ruim     1.00      \n",
      "-73    9.9   95     0.46   0        Ruim     1.00      \n",
      "-69    8.2   39     0.91   0        Ruim     1.00      \n",
      "-74    5.8   56     0.99   0        Ruim     1.00      \n",
      "-82    7.7   85     0.86   0        Ruim     1.00      \n",
      "-78    6.8   91     0.59   0        Ruim     1.00      \n",
      "-80    8.7   47     0.69   0        Ruim     1.00      \n",
      "-85    8.1   68     0.89   0        Ruim     1.00      \n",
      "-76    10.0  96     0.84   0        Ruim     1.00      \n",
      "-62    7.8   76     0.46   0        Ruim     1.00      \n",
      "-74    8.8   91     0.75   0        Ruim     1.00      \n",
      "-74    8.0   48     0.89   0        Ruim     1.00      \n",
      "-64    6.8   99     0.60   0        Ruim     1.00      \n",
      "-67    9.4   35     0.80   0        Ruim     1.00      \n",
      "-67    5.2   81     0.59   0        Ruim     1.00      \n",
      "-61    8.4   73     0.98   0        Ruim     1.00      \n",
      "-87    9.5   46     0.88   0        Ruim     1.00      \n",
      "-65    7.9   98     0.88   0        Ruim     1.00      \n",
      "-81    8.0   71     0.97   0        Ruim     1.00      \n",
      "-86    6.3   77     0.66   0        Ruim     1.00      \n",
      "-70    9.0   35     0.77   0        Ruim     1.00      \n",
      "-93    7.9   85     0.37   0        Ruim     1.00      \n",
      "-83    5.8   32     0.39   0        Ruim     0.98      \n",
      "-76    6.1   58     0.98   0        Ruim     1.00      \n",
      "-74    9.6   72     0.58   0        Ruim     1.00      \n",
      "-91    9.0   78     0.70   0        Ruim     1.00      \n",
      "-60    6.1   80     0.60   0        Ruim     1.00      \n",
      "-67    5.8   30     0.30   0        Ruim     0.73      \n",
      "-71    7.4   72     0.50   0        Ruim     1.00      \n",
      "-94    8.5   51     0.81   0        Ruim     1.00      \n",
      "-65    6.2   60     0.81   0        Ruim     1.00      \n",
      "-94    9.6   90     0.92   0        Ruim     1.00      \n",
      "-88    4.4   41     0.53   0        Ruim     1.00      \n",
      "-88    6.1   78     0.87   0        Ruim     1.00      \n"
     ]
    }
   ],
   "source": [
    "print(f\"{'RSSI':<6} {'ETX':<5} {'Delay':<6} {'Busy':<6} {'Classe':<8} {'Status':<8} {'Confiança':<10}\")\n",
    "print(f\"{'-'*55}\")\n",
    "\n",
    "CLASS_NAMES = {0: \"Ruim\", 1: \"Bom\"}\n",
    "\n",
    "for i, row in enumerate(edges_input):\n",
    "    cls = preds[i].item()\n",
    "    conf = probs[i, cls].item()\n",
    "    print(f\"{row[0]:<6.0f} {row[1]:<5.1f} {row[2]:<6.0f} {row[3]:<6.2f} \"\n",
    "          f\"{cls:<8} {CLASS_NAMES[cls]:<8} {conf:<10.2f}\")"
   ]
  },
  {
   "cell_type": "markdown",
   "id": "e1880a9b",
   "metadata": {},
   "source": [
    "### Save"
   ]
  },
  {
   "cell_type": "code",
   "execution_count": 28,
   "id": "78efbb23",
   "metadata": {},
   "outputs": [
    {
     "name": "stdout",
     "output_type": "stream",
     "text": [
      "Inferência salva em ../outputs/inference_output.csv\n"
     ]
    }
   ],
   "source": [
    "inference_output = pd.DataFrame({\n",
    "    'class': preds.numpy(),\n",
    "    'confidence': torch.max(probs, dim=1)[0].numpy()\n",
    "})\n",
    "\n",
    "os.makedirs(\"../outputs\", exist_ok=True)\n",
    "inference_output.to_csv(\"../outputs/inference_output.csv\", index=False)\n",
    "\n",
    "print(\"Inferência salva em ../outputs/inference_output.csv\")"
   ]
  }
 ],
 "metadata": {
  "kernelspec": {
   "display_name": "venv (3.12.4)",
   "language": "python",
   "name": "python3"
  },
  "language_info": {
   "codemirror_mode": {
    "name": "ipython",
    "version": 3
   },
   "file_extension": ".py",
   "mimetype": "text/x-python",
   "name": "python",
   "nbconvert_exporter": "python",
   "pygments_lexer": "ipython3",
   "version": "3.12.4"
  }
 },
 "nbformat": 4,
 "nbformat_minor": 5
}
