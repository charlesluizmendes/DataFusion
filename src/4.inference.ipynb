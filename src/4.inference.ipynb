{
 "cells": [
  {
   "cell_type": "markdown",
   "id": "1f8bfe9d",
   "metadata": {},
   "source": [
    "### Imports"
   ]
  },
  {
   "cell_type": "code",
   "execution_count": 1,
   "id": "fd5830c0",
   "metadata": {},
   "outputs": [],
   "source": [
    "import os\n",
    "import torch\n",
    "import torch.nn as nn\n",
    "import torch.nn.functional as F\n",
    "import pandas as pd\n",
    "import joblib"
   ]
  },
  {
   "cell_type": "markdown",
   "id": "8de615ab",
   "metadata": {},
   "source": [
    "### Model"
   ]
  },
  {
   "cell_type": "code",
   "execution_count": 2,
   "id": "dd1b6001",
   "metadata": {},
   "outputs": [],
   "source": [
    "class GNN(nn.Module):\n",
    "    def __init__(self, in_dim=4, hidden=16, out_dim=2):\n",
    "        super().__init__()\n",
    "        self.net = nn.Sequential(\n",
    "            nn.Linear(in_dim, hidden),\n",
    "            nn.ReLU(),\n",
    "            nn.Linear(hidden, out_dim)\n",
    "        )\n",
    "    def forward(self, x):\n",
    "        return self.net(x)"
   ]
  },
  {
   "cell_type": "markdown",
   "id": "05c08992",
   "metadata": {},
   "source": [
    "### Load Model"
   ]
  },
  {
   "cell_type": "code",
   "execution_count": 3,
   "id": "31a3717c",
   "metadata": {},
   "outputs": [],
   "source": [
    "model = GNN()\n",
    "model.load_state_dict(torch.load(\"../models/gnn_model.pth\", weights_only=True))\n",
    "model.eval()\n",
    "\n",
    "scaler = joblib.load(\"../models/scaler_model.pkl\")"
   ]
  },
  {
   "cell_type": "markdown",
   "id": "cfa809ae",
   "metadata": {},
   "source": [
    "### Inputs"
   ]
  },
  {
   "cell_type": "code",
   "execution_count": 4,
   "id": "b5cd0b26",
   "metadata": {},
   "outputs": [],
   "source": [
    "edges_input_df = pd.read_csv(\"../inputs/edges_input.csv\")\n",
    "edges_input = edges_input_df.values.tolist()\n",
    "\n",
    "X_test = torch.tensor(scaler.transform(edges_input), dtype=torch.float)"
   ]
  },
  {
   "cell_type": "markdown",
   "id": "03c0ded4",
   "metadata": {},
   "source": [
    "### Inference"
   ]
  },
  {
   "cell_type": "code",
   "execution_count": 5,
   "id": "d3ffa6b0",
   "metadata": {},
   "outputs": [],
   "source": [
    "with torch.no_grad():\n",
    "    logits = model(X_test)\n",
    "    probs = F.softmax(logits, dim=1)\n",
    "    preds = probs.argmax(dim=1)\n",
    "\n",
    "CLASS_NAMES = {0: \"Ruim\", 1: \"Bom\"}"
   ]
  },
  {
   "cell_type": "code",
   "execution_count": 6,
   "id": "3dae9bab",
   "metadata": {},
   "outputs": [
    {
     "name": "stdout",
     "output_type": "stream",
     "text": [
      "RSSI   ETX   Delay  Busy   Classe   Status   Confiança \n",
      "-------------------------------------------------------\n",
      "-87    3.8   38     0.58   0        Ruim     1.00      \n",
      "-79    6.7   30     0.63   0        Ruim     1.00      \n",
      "-60    3.1   37     0.39   1        Bom      0.77      \n",
      "-54    1.2   38     0.26   1        Bom      0.99      \n",
      "-47    2.7   26     0.16   1        Bom      1.00      \n",
      "-88    6.8   68     0.97   0        Ruim     1.00      \n",
      "-61    2.9   25     0.01   1        Bom      1.00      \n",
      "-41    3.9   16     0.09   1        Bom      1.00      \n",
      "-62    1.3   25     0.27   1        Bom      1.00      \n",
      "-54    2.2   2      0.09   1        Bom      1.00      \n",
      "-83    7.1   53     0.71   0        Ruim     1.00      \n",
      "-42    3.6   18     0.22   1        Bom      1.00      \n",
      "-85    5.1   81     0.96   0        Ruim     1.00      \n",
      "-67    8.3   62     0.45   0        Ruim     1.00      \n",
      "-60    3.6   33     0.79   0        Ruim     0.98      \n",
      "-53    1.3   2      0.39   1        Bom      1.00      \n",
      "-67    6.9   92     0.75   0        Ruim     1.00      \n",
      "-60    2.3   33     0.08   1        Bom      1.00      \n",
      "-37    1.4   22     0.22   1        Bom      1.00      \n",
      "-52    1.8   37     0.31   1        Bom      0.99      \n",
      "-65    4.5   75     0.61   0        Ruim     1.00      \n",
      "-59    2.8   32     0.40   1        Bom      0.91      \n",
      "-72    8.9   33     0.81   0        Ruim     1.00      \n",
      "-59    5.8   78     0.80   0        Ruim     1.00      \n",
      "-55    2.3   11     0.33   1        Bom      1.00      \n",
      "-55    1.9   26     0.17   1        Bom      1.00      \n",
      "-59    8.0   80     0.36   0        Ruim     1.00      \n",
      "-62    3.5   25     0.32   1        Bom      0.94      \n",
      "-51    6.4   36     0.73   0        Ruim     0.99      \n",
      "-39    1.5   18     0.02   1        Bom      1.00      \n",
      "-54    3.8   16     0.06   1        Bom      1.00      \n",
      "-72    4.1   23     0.30   1        Bom      0.70      \n",
      "-62    4.5   80     0.60   0        Ruim     1.00      \n",
      "-46    3.2   92     0.69   0        Ruim     0.99      \n",
      "-85    4.2   91     0.62   0        Ruim     1.00      \n",
      "-84    3.4   46     1.00   0        Ruim     1.00      \n",
      "-64    8.1   94     0.40   0        Ruim     1.00      \n",
      "-71    3.6   89     0.97   0        Ruim     1.00      \n",
      "-84    7.4   31     0.39   0        Ruim     1.00      \n",
      "-61    2.4   38     0.34   1        Bom      0.91      \n",
      "-69    7.3   27     0.61   0        Ruim     1.00      \n",
      "-57    9.8   82     0.80   0        Ruim     1.00      \n",
      "-61    9.0   68     0.39   0        Ruim     1.00      \n",
      "-60    2.9   5      0.17   1        Bom      1.00      \n",
      "-59    2.1   14     0.38   1        Bom      0.99      \n",
      "-43    2.3   12     0.30   1        Bom      1.00      \n",
      "-68    4.9   81     0.66   0        Ruim     1.00      \n",
      "-80    7.6   52     0.64   0        Ruim     1.00      \n",
      "-73    6.4   97     0.97   0        Ruim     1.00      \n",
      "-87    5.7   55     0.26   0        Ruim     1.00      \n",
      "-52    3.0   6      0.03   1        Bom      1.00      \n",
      "-59    2.0   5      0.04   1        Bom      1.00      \n",
      "-81    4.5   84     0.44   0        Ruim     1.00      \n",
      "-37    3.6   10     0.31   1        Bom      1.00      \n",
      "-80    5.2   40     0.41   0        Ruim     0.99      \n",
      "-62    7.0   45     0.35   0        Ruim     0.98      \n",
      "-75    6.5   37     0.32   0        Ruim     0.99      \n",
      "-64    1.7   14     0.12   1        Bom      1.00      \n",
      "-65    7.8   40     0.55   0        Ruim     1.00      \n",
      "-56    3.3   28     0.19   1        Bom      0.99      \n",
      "-34    1.9   26     0.13   1        Bom      1.00      \n",
      "-78    4.4   1      0.38   1        Bom      0.79      \n",
      "-36    2.7   30     0.33   1        Bom      0.99      \n",
      "-77    3.9   12     0.44   0        Ruim     0.53      \n",
      "-77    4.7   88     0.35   0        Ruim     1.00      \n",
      "-34    2.8   13     0.08   1        Bom      1.00      \n",
      "-35    1.2   25     0.12   1        Bom      1.00      \n",
      "-51    2.0   17     0.19   1        Bom      1.00      \n",
      "-30    2.0   37     0.29   1        Bom      1.00      \n",
      "-59    3.6   34     0.02   1        Bom      0.99      \n"
     ]
    }
   ],
   "source": [
    "print(f\"{'RSSI':<6} {'ETX':<5} {'Delay':<6} {'Busy':<6} {'Classe':<8} {'Status':<8} {'Confiança':<10}\")\n",
    "print(f\"{'-'*55}\")\n",
    "\n",
    "for i, row in enumerate(edges_input):\n",
    "    cls = preds[i].item()\n",
    "    conf = probs[i, cls].item()\n",
    "    print(f\"{row[0]:<6.0f} {row[1]:<5.1f} {row[2]:<6.0f} {row[3]:<6.2f} \"\n",
    "          f\"{cls:<8} {CLASS_NAMES[cls]:<8} {conf:<10.2f}\")"
   ]
  },
  {
   "cell_type": "markdown",
   "id": "e1880a9b",
   "metadata": {},
   "source": [
    "### Save"
   ]
  },
  {
   "cell_type": "code",
   "execution_count": 7,
   "id": "78efbb23",
   "metadata": {},
   "outputs": [
    {
     "name": "stdout",
     "output_type": "stream",
     "text": [
      "Inferência salva em ../outputs/inference_output.csv\n"
     ]
    }
   ],
   "source": [
    "inference_output = pd.DataFrame({\n",
    "    'class': preds.numpy(),\n",
    "    'confidence': torch.max(probs, dim=1)[0].numpy()\n",
    "})\n",
    "\n",
    "os.makedirs(\"../outputs\", exist_ok=True)\n",
    "inference_output.to_csv(\"../outputs/inference_output.csv\", index=False)\n",
    "\n",
    "print(\"Inferência salva em ../outputs/inference_output.csv\")"
   ]
  }
 ],
 "metadata": {
  "kernelspec": {
   "display_name": "venv (3.12.4)",
   "language": "python",
   "name": "python3"
  },
  "language_info": {
   "codemirror_mode": {
    "name": "ipython",
    "version": 3
   },
   "file_extension": ".py",
   "mimetype": "text/x-python",
   "name": "python",
   "nbconvert_exporter": "python",
   "pygments_lexer": "ipython3",
   "version": "3.12.4"
  }
 },
 "nbformat": 4,
 "nbformat_minor": 5
}
