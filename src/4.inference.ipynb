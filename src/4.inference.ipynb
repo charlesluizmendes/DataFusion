{
 "cells": [
  {
   "cell_type": "markdown",
   "id": "1f8bfe9d",
   "metadata": {},
   "source": [
    "### Imports"
   ]
  },
  {
   "cell_type": "code",
   "execution_count": 1,
   "id": "fd5830c0",
   "metadata": {},
   "outputs": [],
   "source": [
    "import os\n",
    "import torch\n",
    "import torch.nn as nn\n",
    "import torch.nn.functional as F\n",
    "import pandas as pd\n",
    "import joblib"
   ]
  },
  {
   "cell_type": "markdown",
   "id": "8de615ab",
   "metadata": {},
   "source": [
    "### Model"
   ]
  },
  {
   "cell_type": "code",
   "execution_count": 2,
   "id": "dd1b6001",
   "metadata": {},
   "outputs": [],
   "source": [
    "class GNN(nn.Module):\n",
    "    def __init__(self, in_dim=4, hidden=16, out_dim=2):\n",
    "        super().__init__()\n",
    "        self.net = nn.Sequential(\n",
    "            nn.Linear(in_dim, hidden),\n",
    "            nn.ReLU(),\n",
    "            nn.Linear(hidden, out_dim)\n",
    "        )\n",
    "    def forward(self, x):\n",
    "        return self.net(x)"
   ]
  },
  {
   "cell_type": "markdown",
   "id": "05c08992",
   "metadata": {},
   "source": [
    "### Load Model"
   ]
  },
  {
   "cell_type": "code",
   "execution_count": 3,
   "id": "31a3717c",
   "metadata": {},
   "outputs": [],
   "source": [
    "model = GNN()\n",
    "model.load_state_dict(torch.load(\"../models/gnn_model.pth\", weights_only=True))\n",
    "model.eval()\n",
    "\n",
    "scaler = joblib.load(\"../models/scaler_model.pkl\")"
   ]
  },
  {
   "cell_type": "markdown",
   "id": "cfa809ae",
   "metadata": {},
   "source": [
    "### Inputs"
   ]
  },
  {
   "cell_type": "code",
   "execution_count": 4,
   "id": "b5cd0b26",
   "metadata": {},
   "outputs": [],
   "source": [
    "edges_input_df = pd.read_csv(\"../inputs/edges_input.csv\")\n",
    "edges_input = edges_input_df.values.tolist()\n",
    "\n",
    "X_test = torch.tensor(scaler.transform(edges_input), dtype=torch.float)"
   ]
  },
  {
   "cell_type": "markdown",
   "id": "03c0ded4",
   "metadata": {},
   "source": [
    "### Inference"
   ]
  },
  {
   "cell_type": "code",
   "execution_count": 5,
   "id": "d3ffa6b0",
   "metadata": {},
   "outputs": [],
   "source": [
    "with torch.no_grad():\n",
    "    logits = model(X_test)\n",
    "    probs = F.softmax(logits, dim=1)\n",
    "    preds = probs.argmax(dim=1)"
   ]
  },
  {
   "cell_type": "code",
   "execution_count": 6,
   "id": "3dae9bab",
   "metadata": {},
   "outputs": [
    {
     "name": "stdout",
     "output_type": "stream",
     "text": [
      "RSSI   ETX   Delay  Busy   Classe   Status   Confiança \n",
      "-------------------------------------------------------\n",
      "-60    5.5   78     0.53   0        Ruim     1.00      \n",
      "-34    2.0   38     0.34   1        Bom      1.00      \n",
      "-90    6.9   42     0.57   0        Ruim     1.00      \n",
      "-85    3.2   48     0.59   0        Ruim     1.00      \n",
      "-45    3.3   12     0.07   1        Bom      1.00      \n",
      "-90    6.9   86     0.67   0        Ruim     1.00      \n",
      "-49    2.4   35     0.25   1        Bom      0.99      \n",
      "-36    1.1   21     0.18   1        Bom      1.00      \n",
      "-62    5.9   31     0.15   1        Bom      0.71      \n",
      "-77    8.8   84     0.75   0        Ruim     1.00      \n",
      "-46    1.7   22     0.26   1        Bom      1.00      \n",
      "-41    2.7   15     0.24   1        Bom      1.00      \n",
      "-34    2.5   9      0.20   1        Bom      1.00      \n",
      "-32    3.0   11     0.17   1        Bom      1.00      \n",
      "-44    3.6   22     0.13   1        Bom      1.00      \n",
      "-48    3.6   38     0.10   1        Bom      0.99      \n",
      "-43    2.7   16     0.26   1        Bom      1.00      \n",
      "-61    7.8   39     0.37   0        Ruim     0.99      \n",
      "-56    3.2   3      0.01   1        Bom      1.00      \n",
      "-70    2.9   11     0.05   1        Bom      0.99      \n",
      "-84    7.7   75     0.47   0        Ruim     1.00      \n",
      "-37    3.6   36     0.03   1        Bom      1.00      \n",
      "-63    8.5   59     0.92   0        Ruim     1.00      \n",
      "-51    1.9   24     0.07   1        Bom      1.00      \n",
      "-58    6.5   51     0.96   0        Ruim     1.00      \n",
      "-59    3.5   6      0.29   1        Bom      0.99      \n",
      "-59    1.6   35     0.34   1        Bom      0.98      \n",
      "-80    5.6   42     0.71   0        Ruim     1.00      \n",
      "-64    6.1   27     0.72   0        Ruim     1.00      \n",
      "-76    9.8   77     0.51   0        Ruim     1.00      \n",
      "-63    2.2   37     0.32   1        Bom      0.93      \n",
      "-44    2.0   29     0.23   1        Bom      1.00      \n",
      "-67    4.6   51     0.36   0        Ruim     0.94      \n",
      "-80    7.6   77     0.74   0        Ruim     1.00      \n",
      "-48    2.3   16     0.13   1        Bom      1.00      \n",
      "-62    3.1   54     0.94   0        Ruim     1.00      \n",
      "-60    7.9   56     0.83   0        Ruim     1.00      \n",
      "-82    5.9   36     0.77   0        Ruim     1.00      \n",
      "-76    7.1   71     0.55   0        Ruim     1.00      \n",
      "-68    8.5   84     0.25   0        Ruim     1.00      \n",
      "-35    1.0   23     0.13   1        Bom      1.00      \n",
      "-75    6.7   78     0.48   0        Ruim     1.00      \n",
      "-64    3.6   39     0.32   1        Bom      0.66      \n",
      "-64    9.1   80     0.58   0        Ruim     1.00      \n",
      "-75    9.4   44     0.40   0        Ruim     1.00      \n",
      "-46    3.1   18     0.31   1        Bom      0.99      \n",
      "-62    9.0   64     0.73   0        Ruim     1.00      \n",
      "-47    1.5   20     0.13   1        Bom      1.00      \n",
      "-54    3.5   15     0.40   1        Bom      0.97      \n",
      "-66    9.4   66     0.50   0        Ruim     1.00      \n",
      "-70    9.2   83     0.36   0        Ruim     1.00      \n",
      "-68    9.8   47     0.57   0        Ruim     1.00      \n",
      "-58    2.4   14     0.04   1        Bom      1.00      \n",
      "-48    1.2   6      0.07   1        Bom      1.00      \n",
      "-42    3.5   37     0.04   1        Bom      1.00      \n",
      "-58    1.7   6      0.40   1        Bom      0.99      \n",
      "-57    5.2   90     0.69   0        Ruim     1.00      \n",
      "-78    6.5   50     0.45   0        Ruim     1.00      \n",
      "-80    6.4   32     0.58   0        Ruim     1.00      \n",
      "-78    9.6   35     0.65   0        Ruim     1.00      \n",
      "-72    6.5   67     0.55   0        Ruim     1.00      \n",
      "-62    4.6   51     0.81   0        Ruim     1.00      \n",
      "-37    3.8   26     0.30   1        Bom      0.99      \n",
      "-48    2.6   39     0.37   1        Bom      0.96      \n",
      "-74    3.7   34     0.31   1        Bom      0.52      \n",
      "-61    4.8   53     0.45   0        Ruim     0.98      \n",
      "-76    3.3   27     0.60   0        Ruim     0.95      \n",
      "-34    1.9   15     0.25   1        Bom      1.00      \n",
      "-53    1.7   11     0.24   1        Bom      1.00      \n",
      "-50    3.9   38     0.17   1        Bom      0.98      \n"
     ]
    }
   ],
   "source": [
    "print(f\"{'RSSI':<6} {'ETX':<5} {'Delay':<6} {'Busy':<6} {'Classe':<8} {'Status':<8} {'Confiança':<10}\")\n",
    "print(f\"{'-'*55}\")\n",
    "\n",
    "CLASS_NAMES = {0: \"Ruim\", 1: \"Bom\"}\n",
    "\n",
    "for i, row in enumerate(edges_input):\n",
    "    cls = preds[i].item()\n",
    "    conf = probs[i, cls].item()\n",
    "    print(f\"{row[0]:<6.0f} {row[1]:<5.1f} {row[2]:<6.0f} {row[3]:<6.2f} \"\n",
    "          f\"{cls:<8} {CLASS_NAMES[cls]:<8} {conf:<10.2f}\")"
   ]
  },
  {
   "cell_type": "markdown",
   "id": "e1880a9b",
   "metadata": {},
   "source": [
    "### Save"
   ]
  },
  {
   "cell_type": "code",
   "execution_count": 7,
   "id": "78efbb23",
   "metadata": {},
   "outputs": [
    {
     "name": "stdout",
     "output_type": "stream",
     "text": [
      "Inferência salva em ../outputs/inference_output.csv\n"
     ]
    }
   ],
   "source": [
    "inference_output = pd.DataFrame({\n",
    "    'class': preds.numpy(),\n",
    "    'confidence': torch.max(probs, dim=1)[0].numpy()\n",
    "})\n",
    "\n",
    "os.makedirs(\"../outputs\", exist_ok=True)\n",
    "inference_output.to_csv(\"../outputs/inference_output.csv\", index=False)\n",
    "\n",
    "print(\"Inferência salva em ../outputs/inference_output.csv\")"
   ]
  }
 ],
 "metadata": {
  "kernelspec": {
   "display_name": "venv (3.12.4)",
   "language": "python",
   "name": "python3"
  },
  "language_info": {
   "codemirror_mode": {
    "name": "ipython",
    "version": 3
   },
   "file_extension": ".py",
   "mimetype": "text/x-python",
   "name": "python",
   "nbconvert_exporter": "python",
   "pygments_lexer": "ipython3",
   "version": "3.12.4"
  }
 },
 "nbformat": 4,
 "nbformat_minor": 5
}
