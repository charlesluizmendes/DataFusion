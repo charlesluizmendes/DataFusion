{
 "cells": [
  {
   "cell_type": "markdown",
   "id": "1f8bfe9d",
   "metadata": {},
   "source": [
    "### Imports"
   ]
  },
  {
   "cell_type": "code",
   "execution_count": 8,
   "id": "fd5830c0",
   "metadata": {},
   "outputs": [],
   "source": [
    "import os\n",
    "import torch\n",
    "import torch.nn as nn\n",
    "import torch.nn.functional as F\n",
    "import pandas as pd\n",
    "import joblib"
   ]
  },
  {
   "cell_type": "markdown",
   "id": "8de615ab",
   "metadata": {},
   "source": [
    "### Model"
   ]
  },
  {
   "cell_type": "code",
   "execution_count": 9,
   "id": "dd1b6001",
   "metadata": {},
   "outputs": [],
   "source": [
    "class GNN(nn.Module):\n",
    "    def __init__(self, in_dim=4, hidden=16, out_dim=2):\n",
    "        super().__init__()\n",
    "        self.net = nn.Sequential(\n",
    "            nn.Linear(in_dim, hidden),\n",
    "            nn.ReLU(),\n",
    "            nn.Linear(hidden, out_dim)\n",
    "        )\n",
    "    def forward(self, x):\n",
    "        return self.net(x)"
   ]
  },
  {
   "cell_type": "markdown",
   "id": "05c08992",
   "metadata": {},
   "source": [
    "### Load Model"
   ]
  },
  {
   "cell_type": "code",
   "execution_count": 10,
   "id": "31a3717c",
   "metadata": {},
   "outputs": [],
   "source": [
    "model = GNN()\n",
    "model.load_state_dict(torch.load(\"../models/gnn_model.pth\", weights_only=True))\n",
    "model.eval()\n",
    "\n",
    "scaler = joblib.load(\"../models/scaler_model.pkl\")"
   ]
  },
  {
   "cell_type": "markdown",
   "id": "cfa809ae",
   "metadata": {},
   "source": [
    "### Inputs"
   ]
  },
  {
   "cell_type": "code",
   "execution_count": 11,
   "id": "b5cd0b26",
   "metadata": {},
   "outputs": [],
   "source": [
    "edges_input_df = pd.read_csv(\"../inputs/edges_input.csv\")\n",
    "edges_input = edges_input_df.values.tolist()\n",
    "\n",
    "X_test = torch.tensor(scaler.transform(edges_input), dtype=torch.float)"
   ]
  },
  {
   "cell_type": "markdown",
   "id": "03c0ded4",
   "metadata": {},
   "source": [
    "### Inference"
   ]
  },
  {
   "cell_type": "code",
   "execution_count": 12,
   "id": "d3ffa6b0",
   "metadata": {},
   "outputs": [],
   "source": [
    "with torch.no_grad():\n",
    "    logits = model(X_test)\n",
    "    probs = F.softmax(logits, dim=1)\n",
    "    preds = probs.argmax(dim=1)"
   ]
  },
  {
   "cell_type": "code",
   "execution_count": 13,
   "id": "3dae9bab",
   "metadata": {},
   "outputs": [
    {
     "name": "stdout",
     "output_type": "stream",
     "text": [
      "RSSI   ETX   Delay  Busy   Classe   Status   Confiança \n",
      "-------------------------------------------------------\n",
      "-55    8.1   38     0.94   0        Ruim     1.00      \n",
      "-57    3.8   4      0.39   1        Bom      0.99      \n",
      "-86    5.9   83     0.40   0        Ruim     1.00      \n",
      "-62    7.8   66     0.39   0        Ruim     1.00      \n",
      "-90    7.0   96     0.93   0        Ruim     1.00      \n",
      "-36    2.5   36     0.23   1        Bom      0.99      \n",
      "-56    6.4   11     0.50   0        Ruim     0.72      \n",
      "-66    5.7   32     0.63   0        Ruim     0.99      \n",
      "-36    4.0   5      0.07   1        Bom      1.00      \n",
      "-69    9.2   43     0.99   0        Ruim     1.00      \n",
      "-65    4.1   82     0.89   0        Ruim     1.00      \n",
      "-44    1.2   31     0.33   1        Bom      0.99      \n",
      "-58    9.6   35     0.77   0        Ruim     1.00      \n",
      "-70    7.2   33     0.82   0        Ruim     1.00      \n",
      "-57    9.4   62     0.89   0        Ruim     1.00      \n",
      "-65    6.3   45     0.52   0        Ruim     0.99      \n",
      "-69    8.2   54     0.76   0        Ruim     1.00      \n",
      "-78    6.3   46     0.43   0        Ruim     1.00      \n",
      "-36    3.6   6      0.03   1        Bom      1.00      \n",
      "-33    2.7   5      0.28   1        Bom      1.00      \n",
      "-32    3.5   15     0.09   1        Bom      1.00      \n",
      "-61    6.4   87     0.74   0        Ruim     1.00      \n",
      "-76    7.7   71     0.99   0        Ruim     1.00      \n",
      "-82    7.4   56     0.79   0        Ruim     1.00      \n",
      "-58    3.1   95     0.26   0        Ruim     0.98      \n",
      "-85    6.2   37     0.39   0        Ruim     1.00      \n",
      "-49    2.8   34     0.11   1        Bom      1.00      \n",
      "-47    8.7   17     0.90   0        Ruim     1.00      \n",
      "-72    9.8   73     0.91   0        Ruim     1.00      \n",
      "-47    2.2   1      0.16   1        Bom      1.00      \n",
      "-37    2.0   12     0.31   1        Bom      1.00      \n",
      "-54    2.2   17     0.23   1        Bom      1.00      \n",
      "-57    2.8   25     0.37   1        Bom      0.97      \n",
      "-71    3.5   53     0.46   0        Ruim     0.96      \n",
      "-30    2.3   19     0.37   1        Bom      1.00      \n",
      "-64    7.1   56     0.54   0        Ruim     1.00      \n",
      "-62    8.1   34     0.45   0        Ruim     0.99      \n",
      "-86    8.4   71     0.56   0        Ruim     1.00      \n",
      "-87    8.7   85     0.82   0        Ruim     1.00      \n",
      "-81    9.6   97     0.44   0        Ruim     1.00      \n",
      "-64    2.4   35     0.16   1        Bom      0.99      \n",
      "-75    4.4   53     0.54   0        Ruim     1.00      \n",
      "-77    3.0   2      0.05   1        Bom      1.00      \n",
      "-64    7.8   88     0.41   0        Ruim     1.00      \n",
      "-74    6.9   98     0.86   0        Ruim     1.00      \n",
      "-49    3.2   24     0.05   1        Bom      1.00      \n",
      "-45    2.9   27     0.30   1        Bom      0.99      \n",
      "-60    3.9   78     0.38   0        Ruim     0.97      \n",
      "-37    3.2   36     0.23   1        Bom      0.99      \n",
      "-62    1.4   25     0.33   1        Bom      0.99      \n",
      "-62    2.4   9      0.25   1        Bom      1.00      \n",
      "-38    1.1   18     0.17   1        Bom      1.00      \n",
      "-72    9.4   77     0.82   0        Ruim     1.00      \n",
      "-60    7.4   6      0.47   0        Ruim     0.89      \n",
      "-73    4.7   63     0.38   0        Ruim     0.99      \n",
      "-79    6.0   71     0.49   0        Ruim     1.00      \n",
      "-30    4.4   21     0.13   1        Bom      1.00      \n",
      "-51    2.9   38     0.24   1        Bom      0.98      \n",
      "-34    2.2   23     0.12   1        Bom      1.00      \n",
      "-36    2.5   12     0.25   1        Bom      1.00      \n",
      "-48    3.1   9      0.08   1        Bom      1.00      \n",
      "-47    3.8   3      0.12   1        Bom      1.00      \n",
      "-48    2.1   6      0.06   1        Bom      1.00      \n",
      "-61    3.7   27     0.32   1        Bom      0.94      \n",
      "-36    2.1   19     0.10   1        Bom      1.00      \n",
      "-52    3.5   30     0.26   1        Bom      0.98      \n",
      "-66    3.3   2      0.34   1        Bom      0.99      \n",
      "-31    2.9   13     0.31   1        Bom      1.00      \n",
      "-40    2.7   29     0.07   1        Bom      1.00      \n",
      "-40    2.1   35     0.40   1        Bom      0.97      \n"
     ]
    }
   ],
   "source": [
    "print(f\"{'RSSI':<6} {'ETX':<5} {'Delay':<6} {'Busy':<6} {'Classe':<8} {'Status':<8} {'Confiança':<10}\")\n",
    "print(f\"{'-'*55}\")\n",
    "\n",
    "CLASS_NAMES = {0: \"Ruim\", 1: \"Bom\"}\n",
    "\n",
    "for i, row in enumerate(edges_input):\n",
    "    cls = preds[i].item()\n",
    "    conf = probs[i, cls].item()\n",
    "    print(f\"{row[0]:<6.0f} {row[1]:<5.1f} {row[2]:<6.0f} {row[3]:<6.2f} \"\n",
    "          f\"{cls:<8} {CLASS_NAMES[cls]:<8} {conf:<10.2f}\")"
   ]
  },
  {
   "cell_type": "markdown",
   "id": "e1880a9b",
   "metadata": {},
   "source": [
    "### Save"
   ]
  },
  {
   "cell_type": "code",
   "execution_count": 14,
   "id": "78efbb23",
   "metadata": {},
   "outputs": [
    {
     "name": "stdout",
     "output_type": "stream",
     "text": [
      "Inferência salva em ../outputs/inference_output.csv\n"
     ]
    }
   ],
   "source": [
    "inference_output = pd.DataFrame({\n",
    "    'class': preds.numpy(),\n",
    "    'confidence': torch.max(probs, dim=1)[0].numpy()\n",
    "})\n",
    "\n",
    "os.makedirs(\"../outputs\", exist_ok=True)\n",
    "inference_output.to_csv(\"../outputs/inference_output.csv\", index=False)\n",
    "\n",
    "print(\"Inferência salva em ../outputs/inference_output.csv\")"
   ]
  }
 ],
 "metadata": {
  "kernelspec": {
   "display_name": "venv (3.12.4)",
   "language": "python",
   "name": "python3"
  },
  "language_info": {
   "codemirror_mode": {
    "name": "ipython",
    "version": 3
   },
   "file_extension": ".py",
   "mimetype": "text/x-python",
   "name": "python",
   "nbconvert_exporter": "python",
   "pygments_lexer": "ipython3",
   "version": "3.12.4"
  }
 },
 "nbformat": 4,
 "nbformat_minor": 5
}
