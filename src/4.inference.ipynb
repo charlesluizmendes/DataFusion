{
 "cells": [
  {
   "cell_type": "markdown",
   "id": "1f8bfe9d",
   "metadata": {},
   "source": [
    "### Imports"
   ]
  },
  {
   "cell_type": "code",
   "execution_count": 1,
   "id": "fd5830c0",
   "metadata": {},
   "outputs": [],
   "source": [
    "import os\n",
    "import torch\n",
    "import torch.nn as nn\n",
    "import torch.nn.functional as F\n",
    "import pandas as pd\n",
    "import joblib"
   ]
  },
  {
   "cell_type": "markdown",
   "id": "8de615ab",
   "metadata": {},
   "source": [
    "### Model"
   ]
  },
  {
   "cell_type": "code",
   "execution_count": 2,
   "id": "dd1b6001",
   "metadata": {},
   "outputs": [],
   "source": [
    "class GNN(nn.Module):\n",
    "    def __init__(self, in_dim=4, hidden=16, out_dim=2):\n",
    "        super().__init__()\n",
    "        self.net = nn.Sequential(\n",
    "            nn.Linear(in_dim, hidden),\n",
    "            nn.ReLU(),\n",
    "            nn.Linear(hidden, out_dim)\n",
    "        )\n",
    "    def forward(self, x):\n",
    "        return self.net(x)"
   ]
  },
  {
   "cell_type": "markdown",
   "id": "05c08992",
   "metadata": {},
   "source": [
    "### Load Model"
   ]
  },
  {
   "cell_type": "code",
   "execution_count": 3,
   "id": "31a3717c",
   "metadata": {},
   "outputs": [],
   "source": [
    "model = GNN()\n",
    "model.load_state_dict(torch.load(\"../models/gnn_model.pth\", weights_only=True))\n",
    "model.eval()\n",
    "\n",
    "scaler = joblib.load(\"../models/scaler_model.pkl\")"
   ]
  },
  {
   "cell_type": "markdown",
   "id": "cfa809ae",
   "metadata": {},
   "source": [
    "### Inputs"
   ]
  },
  {
   "cell_type": "code",
   "execution_count": 4,
   "id": "b5cd0b26",
   "metadata": {},
   "outputs": [],
   "source": [
    "edges_input_df = pd.read_csv(\"../inputs/edges_input.csv\")\n",
    "edges_input = edges_input_df.values.tolist()\n",
    "\n",
    "X_test = torch.tensor(scaler.transform(edges_input), dtype=torch.float)"
   ]
  },
  {
   "cell_type": "markdown",
   "id": "03c0ded4",
   "metadata": {},
   "source": [
    "### Inference"
   ]
  },
  {
   "cell_type": "code",
   "execution_count": 5,
   "id": "d3ffa6b0",
   "metadata": {},
   "outputs": [],
   "source": [
    "with torch.no_grad():\n",
    "    logits = model(X_test)\n",
    "    probs = F.softmax(logits, dim=1)\n",
    "    preds = probs.argmax(dim=1)"
   ]
  },
  {
   "cell_type": "code",
   "execution_count": 6,
   "id": "3dae9bab",
   "metadata": {},
   "outputs": [
    {
     "name": "stdout",
     "output_type": "stream",
     "text": [
      "RSSI   ETX   Delay  Busy   Classe   Status   Confiança \n",
      "-------------------------------------------------------\n",
      "-43    3.8   33     0.15   1        Bom      0.99      \n",
      "-78    4.8   3      0.23   1        Bom      0.77      \n",
      "-59    1.5   28     0.21   1        Bom      1.00      \n",
      "-82    7.1   15     0.83   0        Ruim     1.00      \n",
      "-68    9.7   37     0.72   0        Ruim     1.00      \n",
      "-64    8.2   64     0.86   0        Ruim     1.00      \n",
      "-82    5.7   36     0.83   0        Ruim     1.00      \n",
      "-64    6.7   98     0.78   0        Ruim     1.00      \n",
      "-50    1.1   9      0.29   1        Bom      1.00      \n",
      "-46    2.1   33     0.39   1        Bom      0.99      \n",
      "-64    8.5   98     0.63   0        Ruim     1.00      \n",
      "-40    2.7   30     0.10   1        Bom      1.00      \n",
      "-44    3.3   10     0.38   1        Bom      0.99      \n",
      "-48    2.6   18     0.18   1        Bom      1.00      \n",
      "-55    1.0   15     0.35   1        Bom      1.00      \n",
      "-39    2.8   11     0.34   1        Bom      1.00      \n",
      "-57    4.5   29     0.52   0        Ruim     0.72      \n",
      "-65    3.0   25     0.29   1        Bom      0.96      \n",
      "-81    8.8   53     0.67   0        Ruim     1.00      \n",
      "-90    8.1   90     0.98   0        Ruim     1.00      \n",
      "-76    5.1   31     0.36   0        Ruim     0.89      \n",
      "-62    3.3   37     0.39   1        Bom      0.75      \n",
      "-63    10.0  28     0.96   0        Ruim     1.00      \n",
      "-56    1.8   28     0.26   1        Bom      1.00      \n",
      "-54    1.2   36     0.21   1        Bom      1.00      \n",
      "-58    4.1   26     1.00   0        Ruim     0.99      \n",
      "-80    7.6   42     0.50   0        Ruim     1.00      \n",
      "-81    7.5   92     0.78   0        Ruim     1.00      \n",
      "-71    8.3   85     0.65   0        Ruim     1.00      \n",
      "-77    3.6   62     0.77   0        Ruim     1.00      \n",
      "-35    3.5   22     0.19   1        Bom      1.00      \n",
      "-70    8.9   28     0.66   0        Ruim     1.00      \n",
      "-50    5.1   23     0.09   1        Bom      0.98      \n",
      "-34    2.6   32     0.34   1        Bom      1.00      \n",
      "-69    9.1   48     0.28   0        Ruim     0.99      \n",
      "-77    9.3   80     0.54   0        Ruim     1.00      \n",
      "-82    6.7   32     0.30   0        Ruim     0.97      \n",
      "-64    3.4   32     0.07   1        Bom      0.99      \n",
      "-57    8.4   39     0.57   0        Ruim     0.99      \n",
      "-82    7.1   63     0.83   0        Ruim     1.00      \n",
      "-59    3.4   11     0.27   1        Bom      0.99      \n",
      "-81    5.6   25     0.97   0        Ruim     1.00      \n",
      "-43    2.1   21     0.30   1        Bom      1.00      \n",
      "-62    6.0   28     0.72   0        Ruim     0.98      \n",
      "-77    4.2   21     0.12   1        Bom      0.83      \n",
      "-62    7.8   39     0.98   0        Ruim     1.00      \n",
      "-70    5.7   69     0.37   0        Ruim     1.00      \n",
      "-67    3.3   28     0.72   0        Ruim     0.94      \n",
      "-56    2.3   9      0.25   1        Bom      1.00      \n",
      "-49    3.5   8      0.34   1        Bom      0.99      \n",
      "-79    4.4   96     0.58   0        Ruim     1.00      \n",
      "-42    2.4   19     0.32   1        Bom      1.00      \n",
      "-41    1.6   6      0.19   1        Bom      1.00      \n",
      "-48    1.8   38     0.12   1        Bom      1.00      \n",
      "-69    2.8   23     0.22   1        Bom      0.98      \n",
      "-65    3.8   3      0.30   1        Bom      0.97      \n",
      "-83    5.9   9      0.57   0        Ruim     0.96      \n",
      "-60    7.5   39     0.63   0        Ruim     0.99      \n",
      "-58    5.0   92     0.70   0        Ruim     1.00      \n",
      "-61    1.1   19     0.31   1        Bom      1.00      \n",
      "-35    1.7   22     0.04   1        Bom      1.00      \n",
      "-80    5.0   63     0.54   0        Ruim     1.00      \n",
      "-86    9.8   87     0.82   0        Ruim     1.00      \n",
      "-44    2.3   9      0.33   1        Bom      1.00      \n",
      "-61    2.1   30     0.04   1        Bom      1.00      \n",
      "-78    6.2   94     0.40   0        Ruim     1.00      \n",
      "-88    5.7   70     0.89   0        Ruim     1.00      \n",
      "-35    2.9   9      0.08   1        Bom      1.00      \n",
      "-63    3.4   7      0.37   1        Bom      0.96      \n",
      "-79    1.0   3      0.23   1        Bom      1.00      \n"
     ]
    }
   ],
   "source": [
    "print(f\"{'RSSI':<6} {'ETX':<5} {'Delay':<6} {'Busy':<6} {'Classe':<8} {'Status':<8} {'Confiança':<10}\")\n",
    "print(f\"{'-'*55}\")\n",
    "\n",
    "CLASS_NAMES = {0: \"Ruim\", 1: \"Bom\"}\n",
    "\n",
    "for i, row in enumerate(edges_input):\n",
    "    cls = preds[i].item()\n",
    "    conf = probs[i, cls].item()\n",
    "    print(f\"{row[0]:<6.0f} {row[1]:<5.1f} {row[2]:<6.0f} {row[3]:<6.2f} \"\n",
    "          f\"{cls:<8} {CLASS_NAMES[cls]:<8} {conf:<10.2f}\")"
   ]
  },
  {
   "cell_type": "markdown",
   "id": "e1880a9b",
   "metadata": {},
   "source": [
    "### Save"
   ]
  },
  {
   "cell_type": "code",
   "execution_count": 7,
   "id": "78efbb23",
   "metadata": {},
   "outputs": [
    {
     "name": "stdout",
     "output_type": "stream",
     "text": [
      "Inferência salva em ../outputs/inference_output.csv\n"
     ]
    }
   ],
   "source": [
    "inference_output = pd.DataFrame({\n",
    "    'class': preds.numpy(),\n",
    "    'confidence': torch.max(probs, dim=1)[0].numpy()\n",
    "})\n",
    "\n",
    "os.makedirs(\"../outputs\", exist_ok=True)\n",
    "inference_output.to_csv(\"../outputs/inference_output.csv\", index=False)\n",
    "\n",
    "print(\"Inferência salva em ../outputs/inference_output.csv\")"
   ]
  }
 ],
 "metadata": {
  "kernelspec": {
   "display_name": "venv (3.9.6)",
   "language": "python",
   "name": "python3"
  },
  "language_info": {
   "codemirror_mode": {
    "name": "ipython",
    "version": 3
   },
   "file_extension": ".py",
   "mimetype": "text/x-python",
   "name": "python",
   "nbconvert_exporter": "python",
   "pygments_lexer": "ipython3",
   "version": "3.9.6"
  }
 },
 "nbformat": 4,
 "nbformat_minor": 5
}
