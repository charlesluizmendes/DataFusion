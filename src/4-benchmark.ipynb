{
 "cells": [
  {
   "cell_type": "markdown",
   "id": "6ff27bbf",
   "metadata": {},
   "source": [
    "## Pacotes"
   ]
  },
  {
   "cell_type": "code",
   "execution_count": null,
   "id": "c861d309",
   "metadata": {},
   "outputs": [],
   "source": [
    "import numpy as np\n",
    "import matplotlib.pyplot as plt"
   ]
  },
  {
   "cell_type": "markdown",
   "id": "9f60aa37",
   "metadata": {},
   "source": [
    "## Kalman Fusion"
   ]
  },
  {
   "cell_type": "code",
   "execution_count": null,
   "id": "0a786af4",
   "metadata": {},
   "outputs": [],
   "source": [
    "%run 3-kalman.ipynb"
   ]
  },
  {
   "cell_type": "markdown",
   "id": "ec91b95a",
   "metadata": {},
   "source": [
    "## Função Auxiliares"
   ]
  },
  {
   "cell_type": "code",
   "execution_count": null,
   "id": "035db201",
   "metadata": {},
   "outputs": [],
   "source": [
    "def generate_data(n_samples=200, noise_model=0.05, noise_feats=None, seed=42):\n",
    "    \"\"\"\n",
    "    Gera série sintética:\n",
    "      - ground truth suave (senoide normalizada em [0,1])\n",
    "      - saída GNN ruidosa (probabilidades)\n",
    "      - heurísticas ruidosas (etx, delay, busy)\n",
    "    \"\"\"\n",
    "    np.random.seed(seed)\n",
    "    t = np.linspace(0, 4*np.pi, n_samples)\n",
    "    ground_truth = 0.5 + 0.5 * np.sin(t)\n",
    "\n",
    "    # modelo (gnn) ruidoso\n",
    "    gnn = np.clip(ground_truth + np.random.normal(0, noise_model, n_samples), 0, 1)\n",
    "\n",
    "    # converte modelo para dict de classes (baixa, média, alta)\n",
    "    gnn_dicts = []\n",
    "    for p in gnn:\n",
    "        gnn_dicts.append({\n",
    "            \"baixa\": 1-p if p < 0.33 else 0,\n",
    "            \"media\": 1-p if 0.33 <= p < 0.66 else 0,\n",
    "            \"alta\": p if p >= 0.66 else 0\n",
    "        })\n",
    "\n",
    "    # heurísticas (exemplo: ETX, delay, busy)\n",
    "    feats_all = []\n",
    "    if noise_feats is None:\n",
    "        noise_feats = {\"etx\":0.08, \"delay\":0.05, \"busy\":0.07}\n",
    "\n",
    "    for val in ground_truth:\n",
    "        feats = {}\n",
    "        for k, sigma in noise_feats.items():\n",
    "            feats[k] = np.clip(val + np.random.normal(0, sigma), 0, 1)\n",
    "        feats_all.append(feats)\n",
    "\n",
    "    return ground_truth, gnn_dicts, feats_all"
   ]
  },
  {
   "cell_type": "code",
   "execution_count": null,
   "id": "efdb1a3c",
   "metadata": {},
   "outputs": [],
   "source": [
    "def run_kalman(gnn_dicts, feats_all, Q=0.01, R_model=0.1, R_feats=None, adapt_R=False):\n",
    "    \"\"\"\n",
    "    Roda a fusão Kalman ao longo da série temporal.\n",
    "    \"\"\"\n",
    "    kf = KalmanFusion(Q=Q, R_model=R_model, R_feats=R_feats, adapt_R=adapt_R)\n",
    "    fused = []\n",
    "    for pd, fd in zip(gnn_dicts, feats_all):\n",
    "        fused.append(kf.update(pd, fd))\n",
    "    return np.array(fused)"
   ]
  },
  {
   "cell_type": "markdown",
   "id": "58e7a423",
   "metadata": {},
   "source": [
    "## Benchmark 1: Robustez ao Ruído"
   ]
  },
  {
   "cell_type": "code",
   "execution_count": null,
   "id": "5bd09d07",
   "metadata": {},
   "outputs": [],
   "source": [
    "def benchmark_noise(noise_levels, n_samples=200):\n",
    "    results = {\"noise\": [], \"mae_model\": [], \"mae_feats\": [], \"mae_fused\": []}\n",
    "    for sigma in noise_levels:\n",
    "        gt, gnn_dicts, feats_all = generate_data(n_samples=n_samples,\n",
    "                                                 noise_model=sigma,\n",
    "                                                 noise_feats={\"etx\":sigma, \"delay\":sigma, \"busy\":sigma})\n",
    "        # modelo sozinho\n",
    "        model_scores = np.array([KalmanFusion()._probs_to_score(d) for d in gnn_dicts])\n",
    "        mae_model = np.mean(np.abs(model_scores - gt))\n",
    "\n",
    "        # heurísticas (média simples)\n",
    "        feats_scores = np.array([np.mean(list(fd.values())) for fd in feats_all])\n",
    "        mae_feats = np.mean(np.abs(feats_scores - gt))\n",
    "\n",
    "        # fusão Kalman\n",
    "        fused_scores = run_kalman(gnn_dicts, feats_all, R_model=sigma, R_feats={\"etx\":sigma, \"delay\":sigma, \"busy\":sigma})\n",
    "        mae_fused = np.mean(np.abs(fused_scores - gt))\n",
    "\n",
    "        # salva\n",
    "        results[\"noise\"].append(sigma)\n",
    "        results[\"mae_model\"].append(mae_model)\n",
    "        results[\"mae_feats\"].append(mae_feats)\n",
    "        results[\"mae_fused\"].append(mae_fused)\n",
    "        \n",
    "    return results\n",
    "\n",
    "def plot_benchmark_noise(results):\n",
    "    plt.figure(figsize=(8,6))\n",
    "    plt.plot(results[\"noise\"], results[\"mae_model\"], label=\"Modelo (GNN)\")\n",
    "    plt.plot(results[\"noise\"], results[\"mae_feats\"], label=\"Heurísticas (média)\")\n",
    "    plt.plot(results[\"noise\"], results[\"mae_fused\"], label=\"Fusão Kalman\", linewidth=2)\n",
    "    plt.xlabel(\"Nível de Ruído (σ)\")\n",
    "    plt.ylabel(\"Erro Médio Absoluto (MAE)\")\n",
    "    plt.title(\"Benchmark 1 - Robustez ao Ruído\")\n",
    "    plt.legend()\n",
    "    plt.grid(True)\n",
    "    plt.show()"
   ]
  },
  {
   "cell_type": "markdown",
   "id": "b58b8bc7",
   "metadata": {},
   "source": [
    "## Benchmark 2: Robustez Temporal"
   ]
  },
  {
   "cell_type": "code",
   "execution_count": null,
   "id": "cf2a0159",
   "metadata": {},
   "outputs": [],
   "source": [
    "def benchmark_temporal(n_samples=200, noise_model=0.1, noise_feats=None):\n",
    "    gt, gnn_dicts, feats_all = generate_data(n_samples=n_samples,\n",
    "                                             noise_model=noise_model,\n",
    "                                             noise_feats=noise_feats)\n",
    "\n",
    "    # modelo sozinho\n",
    "    model_scores = np.array([KalmanFusion()._probs_to_score(d) for d in gnn_dicts])\n",
    "\n",
    "    # heurísticas (média simples)\n",
    "    feats_scores = np.array([np.mean(list(fd.values())) for fd in feats_all])\n",
    "\n",
    "    # fusão Kalman\n",
    "    fused_scores = run_kalman(gnn_dicts, feats_all, R_model=noise_model, R_feats=noise_feats)\n",
    "\n",
    "    return gt, model_scores, feats_scores, fused_scores\n",
    "\n",
    "def plot_benchmark_temporal(gt, model_scores, feats_scores, fused_scores):\n",
    "    plt.figure(figsize=(12,6))\n",
    "    plt.plot(gt, label=\"Ground Truth\", linewidth=2)\n",
    "    plt.plot(model_scores, label=\"Modelo (GNN)\", alpha=0.7)\n",
    "    plt.plot(feats_scores, label=\"Heurísticas (média)\", alpha=0.7)\n",
    "    plt.plot(fused_scores, label=\"Fusão Kalman\", linewidth=2)\n",
    "    plt.xlabel(\"Tempo (amostras)\")\n",
    "    plt.ylabel(\"Score [0,1]\")\n",
    "    plt.title(\"Benchmark 2 - Robustez Temporal\")\n",
    "    plt.legend()\n",
    "    plt.grid(True)\n",
    "    plt.show()"
   ]
  },
  {
   "cell_type": "markdown",
   "id": "0a9d92dd",
   "metadata": {},
   "source": [
    "## Execução"
   ]
  },
  {
   "cell_type": "code",
   "execution_count": null,
   "id": "bbda0f9e",
   "metadata": {},
   "outputs": [],
   "source": [
    "# Benchmark 1\n",
    "noise_levels = np.linspace(0.01, 0.3, 8)\n",
    "results_noise = benchmark_noise(noise_levels)\n",
    "plot_benchmark_noise(results_noise)"
   ]
  },
  {
   "cell_type": "markdown",
   "id": "e1753b84",
   "metadata": {},
   "source": [
    "### Benchmark 1 – Robustez ao Ruído\n",
    "\n",
    "- Eixo X: nível de ruído (σ), ou seja, quanto mais à direita, mais distorcidas estão as medições do modelo e das heurísticas.\n",
    "- Eixo Y: erro médio absoluto (MAE) em relação ao ground truth.\n",
    "\n",
    "#### Linhas:\n",
    "\n",
    "- Azul (Modelo GNN) → sofre muito com o ruído, o erro cresce rápido.\n",
    "- Laranja (Heurísticas, média simples) → mais estáveis que o GNN, mas ainda degradam com ruído.\n",
    "- Verde (Fusão Kalman) → mantém o erro sempre menor que os outros, mostrando que a fusão é mais robusta a incertezas.\n",
    "\n",
    "#### Conslusão:\n",
    "\n",
    "Mesmo quando o ambiente está ruidoso, o Kalman consegue integrar as fontes e manter a estimativa mais próxima do valor real."
   ]
  },
  {
   "cell_type": "code",
   "execution_count": null,
   "id": "310789e7",
   "metadata": {},
   "outputs": [],
   "source": [
    "# Benchmark 2\n",
    "gt, model_scores, feats_scores, fused_scores = benchmark_temporal(noise_model=0.15, noise_feats={\"etx\":0.08,\"delay\":0.12,\"busy\":0.1})\n",
    "plot_benchmark_temporal(gt, model_scores, feats_scores, fused_scores)"
   ]
  },
  {
   "cell_type": "markdown",
   "id": "51d4a8db",
   "metadata": {},
   "source": [
    "### Benchmark 2 – Robustez Temporal\n",
    "\n",
    "- Eixo X: tempo (amostras).\n",
    "- Eixo Y: score [0,1] (0 = ótimo, 1 = ruim).\n",
    "\n",
    "#### Linhas:\n",
    "\n",
    "- Azul (Ground Truth) → a curva senoide ideal (o “mundo real”).\n",
    "- Verde (Modelo GNN) → segue o padrão, mas com bastante variação (ruído).\n",
    "- Larnja (Heurísticas) → extremamente instáveis (saltos bruscos).\n",
    "- Vermelho (Fusão Kalman) → acompanha o ground truth de forma suave e fiel, eliminando picos falsos.\n",
    "\n",
    "#### Conslusão:\n",
    "\n",
    "O Kalman age como um filtro temporal, reduzindo a variabilidade e aproximando a saída da realidade ao longo do tempo"
   ]
  }
 ],
 "metadata": {
  "kernelspec": {
   "display_name": "venv (3.12.4)",
   "language": "python",
   "name": "python3"
  },
  "language_info": {
   "codemirror_mode": {
    "name": "ipython",
    "version": 3
   },
   "file_extension": ".py",
   "mimetype": "text/x-python",
   "name": "python",
   "nbconvert_exporter": "python",
   "pygments_lexer": "ipython3",
   "version": "3.12.4"
  }
 },
 "nbformat": 4,
 "nbformat_minor": 5
}
